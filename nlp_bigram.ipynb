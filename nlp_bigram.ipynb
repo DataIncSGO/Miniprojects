{
 "cells": [
  {
   "cell_type": "code",
   "execution_count": null,
   "metadata": {
    "collapsed": true
   },
   "outputs": [],
   "source": []
  },
  {
   "cell_type": "code",
   "execution_count": 1,
   "metadata": {
    "collapsed": false
   },
   "outputs": [
    {
     "name": "stdout",
     "output_type": "stream",
     "text": [
      "[{u'votes': {u'funny': 0, u'useful': 2, u'cool': 1}, u'user_id': u'Xqd0DzHaiyRqVH3WRG7hzg', u'review_id': u'15SdjuK7DmYqUAj6rjGowg', u'text': u\"dr. goldberg offers everything i look for in a general practitioner.  he's nice and easy to talk to without being patronizing; he's always on time in seeing his patients; he's affiliated with a top-notch hospital (nyu) which my parents have explained to me is very important in case something happens and you need surgery; and you can get referrals to see specialists without having to see him first.  really, what more do you need?  i'm sitting here trying to think of any complaints i have about him, but i'm really drawing a blank.\", u'business_id': u'vcNAWiLM4dR7D2nwwJ7nCA', u'stars': 5, u'date': u'2007-05-17', u'type': u'review'}, {u'votes': {u'funny': 0, u'useful': 2, u'cool': 0}, u'user_id': u'H1kH6QZV7Le4zqTRNxoZow', u'review_id': u'RF6UnRTtG7tWMcrO2GEoAg', u'text': u\"Unfortunately, the frustration of being Dr. Goldberg's patient is a repeat of the experience I've had with so many other doctors in NYC -- good doctor, terrible staff.  It seems that his staff simply never answers the phone.  It usually takes 2 hours of repeated calling to get an answer.  Who has time for that or wants to deal with it?  I have run into this problem with many other doctors and I just don't get it.  You have office workers, you have patients with medical needs, why isn't anyone answering the phone?  It's incomprehensible and not work the aggravation.  It's with regret that I feel that I have to give Dr. Goldberg 2 stars.\", u'business_id': u'vcNAWiLM4dR7D2nwwJ7nCA', u'stars': 2, u'date': u'2010-03-22', u'type': u'review'}]\n"
     ]
    }
   ],
   "source": [
    "# Author: Selma Gomez Orr <selmagomezorrds@gmail.com> January 30, 2016\n",
    "\n",
    "##########################################################################\n",
    "## Imports\n",
    "##########################################################################\n",
    "\n",
    "import requests, urllib2, gzip, urllib\n",
    "import pandas as pd\n",
    "import numpy as np\n",
    "import json\n",
    "import ujson\n",
    "import dill\n",
    "\n",
    "\n",
    "import numpy as np\n",
    "\n",
    "##########################################################################\n",
    "## Constants\n",
    "##########################################################################\n",
    "\n",
    "url = \"http://thedataincubator.s3.amazonaws.com/coursedata/mldata/yelp_train_academic_dataset_review.json.gz\"\n",
    "\n",
    "\n",
    "##########################################################################\n",
    "## Program - Miniproject: nlp Bag of Words\n",
    "##########################################################################\n",
    "\n",
    "\n",
    "#Download file\n",
    "urllib.urlretrieve(url,'Reviews')\n",
    "\n",
    "reviews_list = []\n",
    "with gzip.open('Reviews', 'rb') as f:\n",
    "    for line in f.readlines():\n",
    "        review = ujson.loads(line)\n",
    "        reviews_list.append(review)\n",
    "        \n",
    "print reviews_list[0:2]\n",
    "\n",
    "\n",
    "\n"
   ]
  },
  {
   "cell_type": "code",
   "execution_count": 2,
   "metadata": {
    "collapsed": false
   },
   "outputs": [
    {
     "name": "stdout",
     "output_type": "stream",
     "text": [
      "                                                text  stars\n",
      "0  dr. goldberg offers everything i look for in a...      5\n",
      "1  Unfortunately, the frustration of being Dr. Go...      2\n",
      "2  Dr. Goldberg has been my doctor for years and ...      4\n",
      "3  Been going to Dr. Goldberg for over 10 years. ...      4\n",
      "4  Got a letter in the mail last week that said D...      4\n"
     ]
    },
    {
     "data": {
      "text/html": [
       "<div>\n",
       "<table border=\"1\" class=\"dataframe\">\n",
       "  <thead>\n",
       "    <tr style=\"text-align: right;\">\n",
       "      <th></th>\n",
       "      <th>stars</th>\n",
       "    </tr>\n",
       "  </thead>\n",
       "  <tbody>\n",
       "    <tr>\n",
       "      <th>count</th>\n",
       "      <td>1012913.000000</td>\n",
       "    </tr>\n",
       "    <tr>\n",
       "      <th>mean</th>\n",
       "      <td>3.737691</td>\n",
       "    </tr>\n",
       "    <tr>\n",
       "      <th>std</th>\n",
       "      <td>1.299111</td>\n",
       "    </tr>\n",
       "    <tr>\n",
       "      <th>min</th>\n",
       "      <td>1.000000</td>\n",
       "    </tr>\n",
       "    <tr>\n",
       "      <th>25%</th>\n",
       "      <td>3.000000</td>\n",
       "    </tr>\n",
       "    <tr>\n",
       "      <th>50%</th>\n",
       "      <td>4.000000</td>\n",
       "    </tr>\n",
       "    <tr>\n",
       "      <th>75%</th>\n",
       "      <td>5.000000</td>\n",
       "    </tr>\n",
       "    <tr>\n",
       "      <th>max</th>\n",
       "      <td>5.000000</td>\n",
       "    </tr>\n",
       "  </tbody>\n",
       "</table>\n",
       "</div>"
      ],
      "text/plain": [
       "                stars\n",
       "count  1012913.000000\n",
       "mean         3.737691\n",
       "std          1.299111\n",
       "min          1.000000\n",
       "25%          3.000000\n",
       "50%          4.000000\n",
       "75%          5.000000\n",
       "max          5.000000"
      ]
     },
     "execution_count": 2,
     "metadata": {},
     "output_type": "execute_result"
    }
   ],
   "source": [
    "#Cereate a dataframe with the text and star ratings.\n",
    "fields = ['text', 'stars']\n",
    "\n",
    "df_reviews = pd.DataFrame(reviews_list, columns = fields)\n",
    "\n",
    "print df_reviews.head()\n",
    "df_reviews.describe()\n"
   ]
  },
  {
   "cell_type": "code",
   "execution_count": 5,
   "metadata": {
    "collapsed": true
   },
   "outputs": [],
   "source": [
    "#Imports from Scikit Learn\n",
    "from sklearn.cross_validation import train_test_split as tts\n",
    "from sklearn.feature_extraction.text import HashingVectorizer\n",
    "from sklearn.feature_extraction.text import CountVectorizer\n",
    "from sklearn.feature_extraction.text import TfidfTransformer\n",
    "from sklearn.pipeline import Pipeline\n",
    "from sklearn import metrics\n",
    "from sklearn import linear_model\n",
    "from sklearn.grid_search import GridSearchCV\n",
    "from sklearn.metrics import mean_squared_error, r2_score"
   ]
  },
  {
   "cell_type": "code",
   "execution_count": 6,
   "metadata": {
    "collapsed": false
   },
   "outputs": [
    {
     "name": "stdout",
     "output_type": "stream",
     "text": [
      "{'clf__alpha': 0.055}\n",
      "0.562220592193\n"
     ]
    }
   ],
   "source": [
    "#Get data and target from dataframe and convert to format for sklearn.\n",
    "target = np.array(df_reviews['stars'])\n",
    "target = np.ravel(target)\n",
    "data = np.array(df_reviews['text'])\n",
    "\n",
    "splits = tts(data, target, test_size=0.2)\n",
    "X_train, X_test, y_train, y_test = splits\n",
    "\n",
    "\n",
    "text_clf = Pipeline([\n",
    "        ('hash', HashingVectorizer(ngram_range= (1,2))),\n",
    "        ('clf', linear_model.Ridge())\n",
    "    ])\n",
    "        \n",
    "parameters = {'clf__alpha' : (.055, .05, 1)}  \n",
    "\n",
    "gs_text_clf = GridSearchCV(text_clf, parameters, n_jobs = -1)\n",
    "\n",
    "gs_text_clf = gs_text_clf.fit(X_train[:10000], y_train[:10000])\n",
    "\n",
    "print gs_text_clf.best_params_\n",
    "\n",
    "print gs_text_clf.score(X_test, y_test)\n",
    "\n",
    "\n",
    "\n",
    "    "
   ]
  },
  {
   "cell_type": "code",
   "execution_count": null,
   "metadata": {
    "collapsed": false
   },
   "outputs": [],
   "source": [
    "big_clf = Pipeline([\n",
    "        ('hash', HashingVectorizer(ngram_range = (1,2))),\n",
    "        ('clf', linear_model.Ridge(alpha=1))\n",
    "    ])\n",
    "\n",
    "big_clf = big_clf.fit(data,target)\n",
    "\n",
    "\n",
    "\n"
   ]
  },
  {
   "cell_type": "code",
   "execution_count": null,
   "metadata": {
    "collapsed": true
   },
   "outputs": [],
   "source": [
    "\n",
    "\n",
    "#Store the instance using dill.\n",
    "with open('big_file','w') as f:\n",
    "    dill.dump(big_clf,f)\n",
    "    \n",
    "    \n",
    "    "
   ]
  },
  {
   "cell_type": "code",
   "execution_count": null,
   "metadata": {
    "collapsed": false
   },
   "outputs": [],
   "source": [
    "import dill\n",
    "\n",
    "big_clf = dill.load(open('big_file', 'r'))\n",
    "\n",
    "answer = big_clf.predict([\"Love it!!!!! Love it!!!!!! love it!!!!!!!   Who doesn't love Culver's!\"])\n",
    "\n",
    "print answer\n"
   ]
  },
  {
   "cell_type": "code",
   "execution_count": null,
   "metadata": {
    "collapsed": true
   },
   "outputs": [],
   "source": []
  }
 ],
 "metadata": {
  "kernelspec": {
   "display_name": "Python 2",
   "language": "python",
   "name": "python2"
  },
  "language_info": {
   "codemirror_mode": {
    "name": "ipython",
    "version": 2
   },
   "file_extension": ".py",
   "mimetype": "text/x-python",
   "name": "python",
   "nbconvert_exporter": "python",
   "pygments_lexer": "ipython2",
   "version": "2.7.10"
  }
 },
 "nbformat": 4,
 "nbformat_minor": 0
}
