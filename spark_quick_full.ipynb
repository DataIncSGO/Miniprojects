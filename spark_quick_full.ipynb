{
 "cells": [
  {
   "cell_type": "code",
   "execution_count": 1,
   "metadata": {
    "collapsed": false
   },
   "outputs": [],
   "source": [
    "from pyspark import SparkContext #Library\n",
    "sc = SparkContext(\"local[*]\", \"temp\") #Start a spart context\n"
   ]
  },
  {
   "cell_type": "code",
   "execution_count": 2,
   "metadata": {
    "collapsed": false
   },
   "outputs": [
    {
     "name": "stdout",
     "output_type": "stream",
     "text": [
      "MapPartitionsRDD[1] at textFile at NativeMethodAccessorImpl.java:-2\n"
     ]
    },
    {
     "data": {
      "text/plain": [
       "47946654"
      ]
     },
     "execution_count": 2,
     "metadata": {},
     "output_type": "execute_result"
    }
   ],
   "source": [
    "posts_lines = sc.textFile(\"file:///home/vagrant/miniprojects/spark/full/allPosts/*.gz\") #create an RDD from file\n",
    "print posts_lines\n",
    "posts_lines.count()\n"
   ]
  },
  {
   "cell_type": "code",
   "execution_count": 3,
   "metadata": {
    "collapsed": true
   },
   "outputs": [],
   "source": [
    "#Import parsing library.\n",
    "import xml.etree.ElementTree as ET\n",
    "import numpy as np\n",
    "from datetime import datetime\n"
   ]
  },
  {
   "cell_type": "code",
   "execution_count": 4,
   "metadata": {
    "collapsed": false
   },
   "outputs": [],
   "source": [
    "def parseQuestion(line):\n",
    "    if '<row' in line:\n",
    "        try:\n",
    "            root = ET.fromstring(line.encode('utf8'))\n",
    "        except:\n",
    "            pass\n",
    "            return (\"Empty\")\n",
    "            \n",
    "        if root != '':\n",
    "            if \"CreationDate\" in root.attrib:\n",
    "                try:\n",
    "                    date = root.attrib[\"CreationDate\"]\n",
    "                except:\n",
    "                    pass\n",
    "                    return (\"Empty\")\n",
    "                if \"AcceptedAnswerId\" in root.attrib:\n",
    "                    return(root.attrib[\"AcceptedAnswerId\"], date)\n",
    "                else:\n",
    "                    return(\"Empty\")\n",
    "            else:\n",
    "                return(\"Empty\")\n",
    "        else:\n",
    "            return(\"Empty\")\n",
    "    else:\n",
    "        return(\"Empty\")\n",
    "            \n",
    "        "
   ]
  },
  {
   "cell_type": "code",
   "execution_count": 5,
   "metadata": {
    "collapsed": false
   },
   "outputs": [
    {
     "name": "stdout",
     "output_type": "stream",
     "text": [
      "PythonRDD[3] at RDD at PythonRDD.scala:43\n",
      "[('23212014', '2014-04-22T06:15:07.190'), ('23212025', '2014-04-22T06:16:05.267'), ('23211893', '2014-04-22T06:16:11.633'), ('23231760', '2014-04-22T06:16:15.587'), ('23211854', '2014-04-22T06:16:35.193'), ('23212662', '2014-04-22T06:16:41.210'), ('23228376', '2014-04-22T06:16:51.543'), ('23212648', '2014-04-22T06:16:53.130'), ('23211864', '2014-04-22T06:16:58.173'), ('23212074', '2014-04-22T06:17:15.507'), ('23211989', '2014-04-22T06:18:01.023'), ('23211965', '2014-04-22T06:18:35.860'), ('23212003', '2014-04-22T06:19:15.810'), ('23212069', '2014-04-22T06:20:19.097'), ('23211996', '2014-04-22T06:21:25.567'), ('23212704', '2014-04-22T06:21:37.623'), ('23212045', '2014-04-22T06:21:45.187'), ('23212258', '2014-04-22T06:21:48.713'), ('23212137', '2014-04-22T06:21:59.990'), ('23224956', '2014-04-22T06:22:49.113'), ('23218488', '2014-04-22T06:23:00.850'), ('23453086', '2014-04-22T06:23:09.190'), ('23289083', '2014-04-22T06:23:32.653'), ('23212123', '2014-04-22T06:23:51.480'), ('23213481', '2014-04-22T06:24:07.627'), ('23215348', '2014-04-22T06:24:20.713'), ('23211948', '2014-04-21T05:01:40.040'), ('23213088', '2014-04-22T06:24:25.817'), ('23212097', '2014-04-22T06:25:05.333'), ('23223097', '2014-04-22T06:25:59.123'), ('23236038', '2014-04-22T06:26:12.913'), ('23212124', '2014-04-22T06:26:37.593'), ('23212330', '2014-04-22T06:27:34.000'), ('23212869', '2014-04-22T06:28:05.327'), ('23212168', '2014-04-22T06:28:25.547'), ('23212236', '2014-04-22T06:29:30.333'), ('23251317', '2014-04-22T06:29:44.553'), ('23212387', '2014-04-22T06:29:44.723'), ('23223954', '2014-04-22T06:30:28.470'), ('23229007', '2014-04-22T06:30:36.143')]\n"
     ]
    },
    {
     "data": {
      "text/plain": [
       "5103529"
      ]
     },
     "execution_count": 5,
     "metadata": {},
     "output_type": "execute_result"
    }
   ],
   "source": [
    "questions = posts_lines.map(parseQuestion).filter(lambda x: x!= 'Empty')\n",
    "print questions\n",
    "print questions.take(40)\n",
    "questions.count()\n"
   ]
  },
  {
   "cell_type": "code",
   "execution_count": 6,
   "metadata": {
    "collapsed": true
   },
   "outputs": [],
   "source": [
    "def parseAnswer(line):\n",
    "    if '<row' in line:\n",
    "        try:\n",
    "            root = ET.fromstring(line.encode('utf8'))\n",
    "        except:\n",
    "            pass\n",
    "            return (\"Empty\")\n",
    "            \n",
    "        if root != '':\n",
    "            if \"CreationDate\" in root.attrib:\n",
    "                try:\n",
    "                    date = root.attrib[\"CreationDate\"]\n",
    "                except:\n",
    "                    pass\n",
    "                    return (\"Empty\")\n",
    "                if \"AcceptedAnswerId\" not in root.attrib:\n",
    "                    return(root.attrib[\"Id\"], date)\n",
    "                else:\n",
    "                    return(\"Empty\")\n",
    "            else:\n",
    "                return(\"Empty\")\n",
    "        else:\n",
    "            return(\"Empty\")\n",
    "    else:\n",
    "        return(\"Empty\")\n",
    "            \n",
    "        "
   ]
  },
  {
   "cell_type": "code",
   "execution_count": 7,
   "metadata": {
    "collapsed": false
   },
   "outputs": [
    {
     "name": "stdout",
     "output_type": "stream",
     "text": [
      "PythonRDD[6] at RDD at PythonRDD.scala:43\n",
      "[('23211780', '2014-04-22T06:15:07.070'), ('23211783', '2014-04-22T06:15:33.113'), ('23211784', '2014-04-22T06:15:37.650'), ('23211787', '2014-04-22T06:15:46.763'), ('23211789', '2014-04-22T06:15:59.837'), ('23211790', '2014-04-22T06:16:00.200'), ('23211793', '2014-04-22T06:16:03.460'), ('23211794', '2014-04-22T06:16:04.017'), ('23211796', '2014-04-22T06:16:11.333'), ('23211798', '2014-04-22T06:16:12.743'), ('23211799', '2014-04-22T06:16:12.957'), ('23211801', '2014-04-22T06:16:19.550'), ('23211802', '2014-04-22T06:16:20.430'), ('23211803', '2014-04-22T06:16:21.340'), ('23211804', '2014-04-22T06:16:22.707'), ('23211805', '2014-04-22T06:16:26.467'), ('23211806', '2014-04-22T06:16:28.973'), ('23211807', '2014-04-22T06:16:34.333'), ('23211810', '2014-04-22T06:16:41.620'), ('23211811', '2014-04-22T06:16:45.577'), ('23211814', '2014-04-22T06:16:51.703'), ('23211815', '2014-04-22T06:16:52.723'), ('23211817', '2014-04-22T06:16:53.277'), ('23211819', '2014-04-22T06:17:00.303'), ('23211820', '2014-04-22T06:17:06.257'), ('23211821', '2014-04-22T06:17:08.823'), ('23211822', '2014-04-22T06:17:13.417'), ('23211824', '2014-04-22T06:17:22.040'), ('23211825', '2014-04-22T06:17:22.253'), ('23211827', '2014-04-22T06:17:30.947'), ('23211828', '2014-04-22T06:17:47.677'), ('23211831', '2014-04-22T06:17:55.937'), ('23211833', '2014-04-22T06:18:14.230'), ('23211834', '2014-04-22T06:18:16.077'), ('23211835', '2014-04-22T06:18:33.153'), ('23211837', '2014-04-22T06:18:33.543'), ('23211839', '2014-04-22T06:18:52.630'), ('23211840', '2014-04-22T06:18:53.570'), ('23211841', '2014-04-22T06:18:57.723'), ('23211842', '2014-04-22T06:19:00.970')]\n"
     ]
    },
    {
     "data": {
      "text/plain": [
       "18978393"
      ]
     },
     "execution_count": 7,
     "metadata": {},
     "output_type": "execute_result"
    }
   ],
   "source": [
    "answers = posts_lines.map(parseAnswer).filter(lambda x: x!= 'Empty')\n",
    "print answers\n",
    "print answers.take(40)\n",
    "answers.count()\n"
   ]
  },
  {
   "cell_type": "code",
   "execution_count": 8,
   "metadata": {
    "collapsed": true
   },
   "outputs": [],
   "source": [
    "from datetime import datetime\n",
    "import time\n",
    "\n",
    "def dateConversion (date1, date2):  \n",
    "    date1_obj = datetime.strptime(date1, \"%Y-%m-%dT%H:%M:%S.%f\")\n",
    "    date2_obj = datetime.strptime(date2, \"%Y-%m-%dT%H:%M:%S.%f\")\n",
    "    diff = date2_obj - date1_obj\n",
    "    diff_sec = diff.total_seconds()\n",
    "    hour = date1_obj.hour\n",
    "    if diff_sec < 10800:\n",
    "        return(hour, (1.,1.))\n",
    "    else:\n",
    "        return(hour, (0.,1.))\n",
    "  \n",
    "    "
   ]
  },
  {
   "cell_type": "code",
   "execution_count": 9,
   "metadata": {
    "collapsed": false
   },
   "outputs": [
    {
     "name": "stdout",
     "output_type": "stream",
     "text": [
      "[0.690509573675678, 0.69601873536299763, 0.69965088101203432, 0.70438227898358918, 0.71010399892114007, 0.71789552154832903, 0.72422062350119909, 0.72706374197411405, 0.72614978510271078, 0.7229066042185035, 0.72853203157194024, 0.73727892859883437, 0.74446705373066313, 0.74524820644415124, 0.74145696072273382, 0.73444295723715425, 0.73493569352225152, 0.73950435711218276, 0.74635648917822905, 0.74759678353985248, 0.73600974230300853, 0.71589750410072261, 0.70180226248121558, 0.69472029854858297]\n"
     ]
    }
   ],
   "source": [
    "joint = questions.join(answers).map(lambda x: x[1]).map(lambda x: dateConversion(x[0],x[1])) \\\n",
    "         .reduceByKey(lambda x,y: np.add(x,y)).map(lambda x: (x[0],x[1][0]/x[1][1]))\\\n",
    "        .sortByKey().map(lambda x: x[1]).collect()\n",
    "print joint[:25]"
   ]
  },
  {
   "cell_type": "code",
   "execution_count": null,
   "metadata": {
    "collapsed": true
   },
   "outputs": [],
   "source": [
    "check = questions.join(answers).map(lambda x: x[1]).map(lambda x: dateConversion(x[0],x[1])) \\\n",
    "         .reduceByKey(lambda x,y: np.add(x,y)).collect()\n",
    "print check[:2]"
   ]
  },
  {
   "cell_type": "code",
   "execution_count": 61,
   "metadata": {
    "collapsed": false
   },
   "outputs": [
    {
     "name": "stdout",
     "output_type": "stream",
     "text": [
      "2013-06-10 13:43:24.690000 2013-06-12 05:26:54.733000\n",
      "<type 'datetime.timedelta'>\n",
      "143010.043\n",
      "13\n"
     ]
    }
   ],
   "source": [
    "from datetime import datetime\n",
    "import time\n",
    "date1 = datetime.strptime('2013-06-10T13:43:24.690', \"%Y-%m-%dT%H:%M:%S.%f\")\n",
    "date2 = datetime.strptime('2013-06-12T05:26:54.733', \"%Y-%m-%dT%H:%M:%S.%f\")\n",
    "print date1, date2\n",
    "diff = date2-date1\n",
    "print type(diff)\n",
    "print diff.total_seconds()\n",
    "print date1.hour\n",
    "\n",
    "   \n",
    "    "
   ]
  }
 ],
 "metadata": {
  "kernelspec": {
   "display_name": "Python 2",
   "language": "python",
   "name": "python2"
  },
  "language_info": {
   "codemirror_mode": {
    "name": "ipython",
    "version": 2
   },
   "file_extension": ".py",
   "mimetype": "text/x-python",
   "name": "python",
   "nbconvert_exporter": "python",
   "pygments_lexer": "ipython2",
   "version": "2.7.10"
  }
 },
 "nbformat": 4,
 "nbformat_minor": 0
}
