{
 "cells": [
  {
   "cell_type": "code",
   "execution_count": null,
   "metadata": {
    "collapsed": true
   },
   "outputs": [],
   "source": [
    "%matplotlib inline\n",
    "import matplotlib\n",
    "import seaborn as sns\n",
    "matplotlib.rcParams['savefig.dpi'] = 2 * matplotlib.rcParams['savefig.dpi']"
   ]
  },
  {
   "cell_type": "markdown",
   "metadata": {},
   "source": [
    "# How to (Software) Engineer Real Good\n",
    "\n",
    "The goal of this lecture is to provide a brief understanding of some of the most important concepts in good engineering practice\n",
    "\n",
    "- Be functional\n",
    "- Version Control/Learn your tools\n",
    "- Testing\n",
    "- Writing Good Code\n",
    "- Collaboration/Code Review\n",
    "- Time Management/\"Technical Debt\""
   ]
  },
  {
   "cell_type": "markdown",
   "metadata": {},
   "source": [
    "## Writing Functional Code\n",
    "\n",
    "There are two major paradigms for writing code.  **Imperative** and **Functional**.  In Imperative programming, you are telling the computer what to do.  In Funcitonal, you are telling the computer how to do it.  Imperative code is highly stateful.  Functional code is not stateful.  The closer you are to the hardware, the more imperative your code is -- in general imperative code is going to be more performant.  The higher up the stack you go, the more functional your code should be.  C, C++, and Java are much more imperative.  Haskel, SML, and Scala are more functional.  Python is in between but the functional aspects tend to be less error prone.  Here are a few common mistakes:\n",
    "\n",
    "- Don't index into lists when iterating\n",
    "- Don't build lists using `extend` or `append`\n",
    "- Avoid mutating state: it's a bad idea in general.  If you must, do so inside a class or a generator."
   ]
  },
  {
   "cell_type": "code",
   "execution_count": null,
   "metadata": {
    "collapsed": false
   },
   "outputs": [],
   "source": [
    "# How would you improve this?\n",
    "l = range(5)\n",
    "for i in range(len(l)):\n",
    "    print l[i]"
   ]
  },
  {
   "cell_type": "code",
   "execution_count": null,
   "metadata": {
    "collapsed": false
   },
   "outputs": [],
   "source": [
    "# How would you improve these?\n",
    "l1 = range(5)\n",
    "l2 = []\n",
    "s = set([])\n",
    "d = {}\n",
    "\n",
    "for x in l1:\n",
    "    l2.append(str(x))\n",
    "    s.add(str(x))\n",
    "    d.update({x: str(x)})"
   ]
  },
  {
   "cell_type": "code",
   "execution_count": null,
   "metadata": {
    "collapsed": false
   },
   "outputs": [],
   "source": [
    "# How would you improve this?\n",
    "l1 = range(10)\n",
    "l2 = []\n",
    "    \n",
    "for x in l1:\n",
    "    if x % 3 == 0:\n",
    "        l2.extend([str(x), str(x)])\n",
    "    \n",
    "print l2"
   ]
  },
  {
   "cell_type": "code",
   "execution_count": null,
   "metadata": {
    "collapsed": false
   },
   "outputs": [],
   "source": [
    "# How do you clean up the code\n",
    "import numpy as np\n",
    "l = range(10)\n",
    "\n",
    "m0 = 0\n",
    "m1 = 0.\n",
    "m2 = 0.\n",
    "for x in l:\n",
    "    m0 += 1\n",
    "    m1 += x\n",
    "    m2 += x * x\n",
    "    \n",
    "print np.sqrt(m2 / m0 - (m1 / m0) * (m1 / m0))"
   ]
  },
  {
   "cell_type": "code",
   "execution_count": null,
   "metadata": {
    "collapsed": false
   },
   "outputs": [],
   "source": [
    "import numpy as np\n",
    "\n",
    "# You can clean up the code this way\n",
    "class Std(object):\n",
    "    def __init__(self):\n",
    "        self._m0 = 0\n",
    "        self._m1 = 0.\n",
    "        self._m2 = 0.\n",
    "        \n",
    "    def add(self, x):\n",
    "        self._m0 += 1\n",
    "        self._m1 += x\n",
    "        self._m2 += x * x\n",
    "            \n",
    "    def std(self):\n",
    "        return np.sqrt(self._m2 / self._m0 - (self._m1 / self._m0) * (self._m1 / self._m0))\n",
    "        \n",
    "s = Std()\n",
    "for x in l:\n",
    "    s.add(x)\n",
    "print s.std()"
   ]
  },
  {
   "cell_type": "markdown",
   "metadata": {},
   "source": [
    "## Version control and other tools\n",
    "\n",
    "Git is arguably the single most important tool you'll use in your time writing software. You should spend time learning the tools you use and setting up a workflow that is repeatable across projects. This will save you time and make you more productive in the long term.\n",
    "\n",
    "HOW TO: There is **tons** of literature online for any tool you may use. For example, [here's a great article on understanding git](http://www.sbf5.com/~cduan/technical/git/). When collaborating with others, you'll run into merge conflicts - [never fear](https://css-tricks.com/deal-merge-conflicts-git/); plenty of articles exist on dealing with those. Whenever you need to pick up a new tool, spend a bit of time researching it before diving in. That little extra effort goes a long way to improving your baseline productivity.\n",
    "\n",
    "\n",
    "Useful git commands you may not have heard of:\n",
    "\n",
    "- `git bisect` -- determine exactly what change introduced a bug\n",
    "- `git diff` -- diff the changes you've made against your commit history\n",
    "- `git grep` -- search all files tracked in the repository\n",
    "- `git log` -- list the \"edited\" history of your branch\n",
    "- `git reflog` -- a 'real-time' history of the state of HEAD in your repo\n",
    "- `git blame` -- tells you who wrote each line of code\n",
    "- `git stash` -- 'stash away' the current changes to put out a fire, `git stash pop` to bring them back\n",
    "\n",
    "\n",
    "The other most important tool at your disposal is your text editor. Get really good at using it. Take some time to Google 'useful {vim, sublime, emacs} commands'. Pick up a command-line-based editor - it's a really useful skill. Our remote workflow doesn't exist in a vacuum..."
   ]
  },
  {
   "cell_type": "markdown",
   "metadata": {},
   "source": [
    "## Testing\n",
    "Test, test, test. No, seriously. Also, in general, unit tests make more sense in `*.py` files, not in `*.ipynb`.  We're writing these in this file to make them easier to show.  These tests should be in a python file.\n",
    "\n",
    "### Different Kinds of Tests\n",
    "\n",
    "- Unit\n",
    "- Integration\n",
    "- Acceptance (end-to-end)\n",
    "\n",
    "*Unit Tests* confirm that one discrete, logical unit of code is working. External dependencies are \"mocked\" in unit tests.\n",
    "*Integration Tests* confirm that several logical parts of a system work correctly and interact in the way they should.\n",
    "*End-to-End Tests* confirm that the complete software package / application does what it's supposed to do under a variety of use cases.\n",
    "\n",
    "### So, what does this look like?\n",
    "Let's generate an example. How would we:\n",
    "\n",
    "- unit test\n",
    "- integration test\n",
    "- end-to-end test\n",
    "\n",
    "the below system? What kinds of things would we want to check?"
   ]
  },
  {
   "cell_type": "code",
   "execution_count": null,
   "metadata": {
    "collapsed": false
   },
   "outputs": [],
   "source": [
    "import json, sys, requests\n",
    "import simplejson\n",
    "from requests_oauthlib import OAuth1\n",
    "\n",
    "def get_100_tweets():\n",
    "    \"\"\"Returns 100 of the most recent tweets from Twitter's API.\"\"\"\n",
    "    auth = get_twitter_auth()\n",
    "    return get_twitter_data(auth)\n",
    "\n",
    "\n",
    "def get_twitter_auth():\n",
    "    \"\"\"\n",
    "    Returns a Twitter auth object, by which we can access the api.\n",
    "    \"\"\"\n",
    "\n",
    "    with open(\"secrets/twitter_secrets.json.nogit\") as fh:\n",
    "        secrets = simplejson.loads(fh.read())\n",
    "\n",
    "    # create an auth object\n",
    "    auth = OAuth1(\n",
    "        secrets[\"api_key\"],\n",
    "        secrets[\"api_secret\"],\n",
    "        secrets[\"access_token\"],\n",
    "        secrets[\"access_token_secret\"]\n",
    "    )\n",
    "\n",
    "    return auth\n",
    "\n",
    "def get_twitter_data(auth):\n",
    "    \"\"\" Pulls some data from twitter's sample streaming API\n",
    "    \n",
    "    Args:\n",
    "        auth: An OAuth1 object\n",
    "\n",
    "    Returns: \n",
    "        100 of the most recent 'sample' tweets.\n",
    "    \"\"\"\n",
    "    #TODO: get some twitter data, use requests\n",
    "    r_stream = requests.get(\n",
    "        'https://stream.twitter.com/1.1/statuses/sample.json',\n",
    "        auth=auth, stream=True\n",
    "    )\n",
    "    counter = 0\n",
    "    tweets = []\n",
    "    for line in r_stream.iter_lines():\n",
    "        # filter out keep-alive new lines\n",
    "        if not line:\n",
    "            continue\n",
    "        \n",
    "        tweet = json.loads(line)\n",
    "        \n",
    "        #only want substantive tweets\n",
    "        if 'text' not in tweet:\n",
    "            continue\n",
    "        \n",
    "        tweets.append(tweet)\n",
    "        \n",
    "        counter +=1\n",
    "        if counter > 100:\n",
    "            break\n",
    "    \n",
    "    return tweets\n"
   ]
  },
  {
   "cell_type": "markdown",
   "metadata": {},
   "source": [
    "### The `unittest` and `mock` modules\n",
    "`unittest` is the basis for almost all testing in Python. Other libraries/technologies built on Python (e.g. Flask) may have their own test handlers, but they ultimately plug in to `unittest`. This is nice because we have a common interface for testing pretty much any Python we write.\n",
    "\n",
    "Other languages have possibly many of their own testing frameworks - in practice you'll either use what's already there, or just pick the most stable/established one and stick to it.\n",
    "\n",
    "Similarly, mocking is a broader concept across software development, incarnate in the `mock` library for python2 (it's a default in python3). Basically, for tests, we want to stub out dependencies and external APIs, *assume* they return what we expect them to - and then have another test which confirms that the API still returns the format we expect. \n",
    "\n",
    "In the example below, we mock Twitter's API in the unit test (using another library, [responses](https://github.com/getsentry/responses), that mocks the `requests` library for us). We grabbed some recent data from Twitter's API to serve as a local constant for the expected response format.\n",
    "\n",
    "The integration test confirms the format of the response. (We could actually do a better job of this. How?)"
   ]
  },
  {
   "cell_type": "code",
   "execution_count": null,
   "metadata": {
    "collapsed": false
   },
   "outputs": [],
   "source": [
    "import unittest\n",
    "import responses\n",
    "\n",
    "#contains one nice JSON response and one undesirable\n",
    "SAMPLE_JSON_RESPONSES = [{u'contributors': None,\n",
    "    u'coordinates': None,\n",
    "    u'created_at': u'Thu Jul 16 21:27:35 +0000 2015',\n",
    "    u'entities': {u'hashtags': [{u'indices': [29, 43],\n",
    "         u'text': u'wildfiresteak'},\n",
    "        {u'indices': [44, 54], u'text': u'steaktime'},\n",
    "        {u'indices': [55, 69], u'text': u'chicagocraves'}],\n",
    "     u'media': [{u'display_url': u'pic.twitter.com/g5w2459y4S',\n",
    "         u'expanded_url': u'http://twitter.com/WildfireRest/status/621793324849086464/photo/1',\n",
    "         u'id': 621793324010094592,\n",
    "         u'id_str': u'621793324010094592',\n",
    "         u'indices': [93, 115],\n",
    "         u'media_url': u'http://pbs.twimg.com/media/CKENu9lUwAA1_zc.jpg',\n",
    "         u'media_url_https': u'https://pbs.twimg.com/media/CKENu9lUwAA1_zc.jpg',\n",
    "         u'sizes': {u'large': {u'h': 1462, u'resize': u'fit', u'w': 1024},\n",
    "            u'medium': {u'h': 857, u'resize': u'fit', u'w': 600},\n",
    "            u'small': {u'h': 485, u'resize': u'fit', u'w': 340},\n",
    "            u'thumb': {u'h': 150, u'resize': u'crop', u'w': 150}},\n",
    "         u'type': u'photo',\n",
    "         u'url': u'http://t.co/g5w2459y4S'}],\n",
    "     u'symbols': [],\n",
    "     u'trends': [],\n",
    "     u'urls': [{u'display_url': u'goo.gl/1VIuaR',\n",
    "         u'expanded_url': u'http://goo.gl/1VIuaR',\n",
    "         u'indices': [70, 92],\n",
    "         u'url': u'http://t.co/DC2M278kU5'}],\n",
    "     u'user_mentions': []},\n",
    "    u'extended_entities': {u'media': [{u'display_url': u'pic.twitter.com/g5w2459y4S',\n",
    "         u'expanded_url': u'http://twitter.com/WildfireRest/status/621793324849086464/photo/1',\n",
    "         u'id': 621793324010094592,\n",
    "         u'id_str': u'621793324010094592',\n",
    "         u'indices': [93, 115],\n",
    "         u'media_url': u'http://pbs.twimg.com/media/CKENu9lUwAA1_zc.jpg',\n",
    "         u'media_url_https': u'https://pbs.twimg.com/media/CKENu9lUwAA1_zc.jpg',\n",
    "         u'sizes': {u'large': {u'h': 1462, u'resize': u'fit', u'w': 1024},\n",
    "            u'medium': {u'h': 857, u'resize': u'fit', u'w': 600},\n",
    "            u'small': {u'h': 485, u'resize': u'fit', u'w': 340},\n",
    "            u'thumb': {u'h': 150, u'resize': u'crop', u'w': 150}},\n",
    "         u'type': u'photo',\n",
    "         u'url': u'http://t.co/g5w2459y4S'}]},\n",
    "    u'favorite_count': 0,\n",
    "    u'favorited': False,\n",
    "    u'filter_level': u'low',\n",
    "    u'geo': None,\n",
    "    u'id': 621793324849086464,\n",
    "    u'id_str': u'621793324849086464',\n",
    "    u'in_reply_to_screen_name': None,\n",
    "    u'in_reply_to_status_id': None,\n",
    "    u'in_reply_to_status_id_str': None,\n",
    "    u'in_reply_to_user_id': None,\n",
    "    u'in_reply_to_user_id_str': None,\n",
    "    u'lang': u'en',\n",
    "    u'place': None,\n",
    "    u'possibly_sensitive': False,\n",
    "    u'retweet_count': 0,\n",
    "    u'retweeted': False,\n",
    "    u'source': u'<a href=\"http://www.hootsuite.com\" rel=\"nofollow\">Hootsuite</a>',\n",
    "    u'text': u'When in doubt, filet it out. #wildfiresteak #steaktime #chicagocraves http://t.co/DC2M278kU5 http://t.co/g5w2459y4S',\n",
    "    u'timestamp_ms': u'1437082055662',\n",
    "    u'truncated': False,\n",
    "    u'user': {u'contributors_enabled': False,\n",
    "     u'created_at': u'Mon Apr 27 21:15:51 +0000 2009',\n",
    "     u'default_profile': False,\n",
    "     u'default_profile_image': False,\n",
    "     u'description': u'Steaks, chops and seafood restaurant in a modern-day 1940s dinner club. Join us on Facebook: http://www.facebook.com/wildfirerestaurant',\n",
    "     u'favourites_count': 1028,\n",
    "     u'follow_request_sent': None,\n",
    "     u'followers_count': 8576,\n",
    "     u'following': None,\n",
    "     u'friends_count': 6805,\n",
    "     u'geo_enabled': False,\n",
    "     u'id': 35863677,\n",
    "     u'id_str': u'35863677',\n",
    "     u'is_translator': False,\n",
    "     u'lang': u'en',\n",
    "     u'listed_count': 592,\n",
    "     u'location': u'Chicago, Twin Cities, DC',\n",
    "     u'name': u'Wildfire Restaurant',\n",
    "     u'notifications': None,\n",
    "     u'profile_background_color': u'3D0A03',\n",
    "     u'profile_background_image_url': u'http://pbs.twimg.com/profile_background_images/728505010/6f8baaa2a6f5f852b8d7e5242dbf1ab6.jpeg',\n",
    "     u'profile_background_image_url_https': u'https://pbs.twimg.com/profile_background_images/728505010/6f8baaa2a6f5f852b8d7e5242dbf1ab6.jpeg',\n",
    "     u'profile_background_tile': False,\n",
    "     u'profile_banner_url': u'https://pbs.twimg.com/profile_banners/35863677/1416527021',\n",
    "     u'profile_image_url': u'http://pbs.twimg.com/profile_images/1258873654/Cut_Filet_Mignon_normal.jpg',\n",
    "     u'profile_image_url_https': u'https://pbs.twimg.com/profile_images/1258873654/Cut_Filet_Mignon_normal.jpg',\n",
    "     u'profile_link_color': u'080101',\n",
    "     u'profile_sidebar_border_color': u'FFFFFF',\n",
    "     u'profile_sidebar_fill_color': u'690A0F',\n",
    "     u'profile_text_color': u'050501',\n",
    "     u'profile_use_background_image': True,\n",
    "     u'protected': False,\n",
    "     u'screen_name': u'WildfireRest',\n",
    "     u'statuses_count': 18852,\n",
    "     u'time_zone': u'Central Time (US & Canada)',\n",
    "     u'url': u'http://wildfirerestaurant.com',\n",
    "     u'utc_offset': -18000,\n",
    "     u'verified': False}},\n",
    " {u'delete': {u'status': {u'id': 476806989751021568,\n",
    "        u'id_str': u'476806989751021568',\n",
    "        u'user_id': 425044801,\n",
    "        u'user_id_str': u'425044801'},\n",
    "     u'timestamp_ms': u'1437082056206'}}]\n",
    "\n",
    "class TwitterAuthUnitTest(unittest.TestCase):\n",
    "        \n",
    "    #this runs before each test in the class, set state here\n",
    "    def setUp(self):\n",
    "        pass\n",
    "    \n",
    "    #this runs after each test\n",
    "    def tearDown(self):\n",
    "        pass\n",
    "\n",
    "    #default test method runner name\n",
    "    #there are other ways to load tests for running\n",
    "    def runTest(self):\n",
    "        auth_obj = get_twitter_auth()\n",
    "        self.assertTrue(isinstance(auth_obj, OAuth1))\n",
    "        with open(\"secrets/twitter_secrets.json.nogit\") as fh:\n",
    "            secrets = simplejson.loads(fh.read())\n",
    "        client = auth_obj.client\n",
    "        \n",
    "        self.assertEqual(client.client_key, secrets[\"api_key\"])\n",
    "        self.assertEqual(client.client_secret, secrets[\"api_secret\"])\n",
    "        self.assertEqual(client.resource_owner_key, secrets[\"access_token\"])\n",
    "        self.assertEqual(client.resource_owner_secret, secrets[\"access_token_secret\"])\n",
    "\n",
    "class GetTweetsUnitTest(unittest.TestCase):\n",
    "\n",
    "    def setUp(self):\n",
    "        pass\n",
    "    \n",
    "    def tearDown(self):\n",
    "        pass\n",
    "\n",
    "    @responses.activate\n",
    "    def runTest(self):\n",
    "        responses.add(responses.GET,\n",
    "                      'https://stream.twitter.com/1.1/statuses/sample.json',\n",
    "                      body=\"\\n\".join(150*[\n",
    "                            simplejson.dumps(SAMPLE_JSON_RESPONSES[0]),\n",
    "                            simplejson.dumps(SAMPLE_JSON_RESPONSES[1])\n",
    "                      ]),\n",
    "                      status=200,\n",
    "                      content_type='application/json')\n",
    "                                    \n",
    "        resp = get_twitter_data(auth)\n",
    "        #desired length\n",
    "        self.assertEqual(len(resp), 100)\n",
    "        #with only the desired content\n",
    "        self.assertNotIn(SAMPLE_JSON_RESPONSES[1], resp)\n",
    "        self.assertIn(SAMPLE_JSON_RESPONSES[0], resp)"
   ]
  },
  {
   "cell_type": "code",
   "execution_count": null,
   "metadata": {
    "collapsed": false
   },
   "outputs": [],
   "source": [
    "class TwitterAuthIntegrationTest(unittest.TestCase):\n",
    "\n",
    "    def setUp(self):\n",
    "        pass\n",
    "    \n",
    "    def tearDown(self):\n",
    "        pass\n",
    "\n",
    "    def runTest(self):\n",
    "        \"\"\"\n",
    "        Test we get a good and usable oauth object back\n",
    "        \"\"\"\n",
    "        auth = get_twitter_auth()\n",
    "        r = requests.get(\n",
    "                \"https://api.twitter.com/1.1/friends/ids.json\",\n",
    "                auth=auth, params={'screen_name' : 'tianhuil'}\n",
    "        )\n",
    "        self.assertEqual(r.status_code, 200)\n",
    "\n",
    "        \n",
    "class GetTweetsIntegrationTest(unittest.TestCase):\n",
    "    def setUp(self):\n",
    "        pass\n",
    "    \n",
    "    def tearDown(self):\n",
    "        pass\n",
    "\n",
    "    def runTest(self):\n",
    "        \"\"\"\n",
    "        Test we get 100 good tweets back when actually calling \n",
    "        the twitter API.\n",
    "        \"\"\"\n",
    "        auth = get_twitter_auth()\n",
    "        data = get_twitter_data(auth)\n",
    "        self.assertEqual(len(data), 100)\n",
    "        for d in data:\n",
    "            self.assertIn('text', d)\n",
    "        "
   ]
  },
  {
   "cell_type": "code",
   "execution_count": null,
   "metadata": {
    "collapsed": true
   },
   "outputs": [],
   "source": [
    "class Get100EndToEnd(unittest.TestCase):\n",
    "\n",
    "    def setUp(self):\n",
    "        pass\n",
    "    \n",
    "    def tearDown(self):\n",
    "        pass\n",
    "\n",
    "    def runTest(self):\n",
    "        \"\"\"\n",
    "        Call function, inspect result to ensure it's what we want.\n",
    "        \"\"\"\n",
    "        tweets = get_100_tweets()\n",
    "        self.assertEqual(len(tweets), 100)\n",
    "        for t in tweets:\n",
    "            self.assertIn('text', t)"
   ]
  },
  {
   "cell_type": "code",
   "execution_count": null,
   "metadata": {
    "collapsed": false
   },
   "outputs": [],
   "source": [
    "r = unittest.TestResult()\n",
    "suite = unittest.TestSuite()\n",
    "suite.addTests([Get100EndToEnd(), \n",
    "                GetTweetsIntegrationTest(), \n",
    "                TwitterAuthIntegrationTest(), \n",
    "                GetTweetsUnitTest(), \n",
    "                TwitterAuthUnitTest()])\n",
    "suite.run(r)\n",
    "print \"==ERRORS==\"\n",
    "print r.printErrors()\n",
    "print \"==FAILURES==\"\n",
    "for test_class, tb in r.failures:\n",
    "    print test_class.__class__.__name__\n",
    "    print tb\n",
    "    print \"==========\""
   ]
  },
  {
   "cell_type": "markdown",
   "metadata": {},
   "source": [
    "## Testing the web in Flask\n",
    "Basically, here's how each of these things work in Flask:\n",
    "\n",
    "- Unit tests: \n",
    "Check that each endpoint returns what you expect, check authorization logic, check any other units of backend logic you've implemented. Notably, in unit testing, the database is meant to be mocked.\n",
    "\n",
    "- Integration tests:\n",
    "Plug in a database, check endpoints do what they are expected to do and appropriately update the DB, and ensure endpoints/backend logic play nicely on different inputs. \n",
    "\n",
    "- End-to-end-tests:\n",
    "Use PhantomJS to simulate a browser and someone clicking around your website, with a clean version of your app spun up in a subprocess."
   ]
  },
  {
   "cell_type": "markdown",
   "metadata": {},
   "source": [
    "### More words on testing\n",
    "\n",
    "1. **How much testing should I write?**\n",
    "    \n",
    "    This is very situational and depends on your time constraints, the importance of the feature, how complex the system is, etc... There are many schools of thought. One such school is...\n",
    "\n",
    "2. **Test-driven development (TDD)**\n",
    "   \n",
    "    TDD works by writing the spec for what you're building _first_, as a series of tests that fail, and then building out the feature/system to conform to that spec. It forces you to think about what you're doing before you dive in and write (possibly messy or poorly designed) code - and hopefully avoid the pitfalls of hacking away without some forethought.\n",
    "\n",
    "3. **Other tests and gracefully failing**\n",
    "   You'll encounter many situations where tests don't neatly fit into one of these 3 categories. For example, sometimes increased server load causes things to break. For this, you can write _load tests_ that create a mirrored production environment and slam it with requests. \n",
    "\n",
    "More generally, you should try to design the software you build with corner cases and graceful failure in mind. Don't just design for failures you _know_ will happen (e.g. a \"Page / Record not found\" error) - also think about catch-all exception handlers for failure that you _don't know_ about (and in practice, there are lots of these)."
   ]
  },
  {
   "cell_type": "markdown",
   "metadata": {},
   "source": [
    "## Linting \n",
    "One other thing you should do when testing your software packages is lint your code. This means you run your code through a tool such as [pylint](http://www.pylint.org/), [eslint](https://github.com/eslint/eslint), or something similar. Your markup/styles can and should be linted as well (and plenty of tools exist; give it a Google)."
   ]
  },
  {
   "cell_type": "code",
   "execution_count": null,
   "metadata": {
    "collapsed": true
   },
   "outputs": [],
   "source": [
    "# This won't pass pylint (why?)\n",
    "def total(l):\n",
    "    for i in l:\n",
    "        total += i\n",
    "    return total"
   ]
  },
  {
   "cell_type": "code",
   "execution_count": null,
   "metadata": {
    "collapsed": true
   },
   "outputs": [],
   "source": [
    "# this function is bad (why?)\n",
    "\n",
    "def fib(n):\n",
    "    if n == 0:\n",
    "        return 1\n",
    "    if n == 1:\n",
    "        return 1\n",
    "    if n > 1:\n",
    "        return fib(n-1) + fib(n-2)\n",
    "    \n",
    "def fib2(n):\n",
    "    return 2 * fib(n)"
   ]
  },
  {
   "cell_type": "markdown",
   "metadata": {},
   "source": [
    "### Final Words on Testing\n",
    "\n",
    "- Tests are only as good as the cases you can come up with.\n",
    "- Check that things work, but also check corner cases, weird input, and any other stressors you can come up with. In practice this means that once you encounter an unexpected bug, you add a test for the case that caused the bug.\n",
    "- Test all code. There are plenty of libraries and tutorials for testing frontend JS code."
   ]
  },
  {
   "cell_type": "markdown",
   "metadata": {
    "collapsed": true
   },
   "source": [
    "## Writing \"good code\""
   ]
  },
  {
   "cell_type": "markdown",
   "metadata": {},
   "source": [
    "Lots of literature exists on this. [The Pragmatic Programmer](http://www.amazon.com/The-Pragmatic-Programmer-Journeyman-Master/dp/020161622X) is a classic, as is [Code Complete](http://www.amazon.com/Code-Complete-Practical-Handbook-Construction/dp/0735619670). \n",
    "\n",
    "Look at idiomatic code on GitHub (e.g. a well known library in your language of choice).\n",
    "\n",
    "You'll notice in both of these books that the author has a well-defined process in mind. The process you choose to follow is less important than \n",
    "\n",
    "- Writing tests\n",
    "- Self-documenting code\n",
    "- Separation of concerns \n",
    "- Not re-inventing the wheel (use libraries)\n",
    "\n",
    "## Self-documenting code\n",
    "In the author's mind, this boils down to taking the time to think about and write documentation, and explaining your process as you write out a function."
   ]
  },
  {
   "cell_type": "code",
   "execution_count": null,
   "metadata": {
    "collapsed": true
   },
   "outputs": [],
   "source": [
    "# Anti-example\n",
    "def helper(a):\n",
    "    #haha have fun figuring this out, future dev\n",
    "    return list(itertools.islice((json.loads(l) for l in requests.get('https://stream.twitter.com/1.1/statuses/sample.json', auth=a, stream=True).iter_lines() if l and 'text' in json.loads(l)),0, 100))"
   ]
  },
  {
   "cell_type": "code",
   "execution_count": null,
   "metadata": {
    "collapsed": true
   },
   "outputs": [],
   "source": [
    "# A good example\n",
    "TWITTER_STREAM_URL = 'https://stream.twitter.com/1.1/statuses/sample.json'\n",
    "def get_twitter_data(auth):\n",
    "    \"\"\" Pulls some data from twitter's sample streaming API\n",
    "    \n",
    "    Args:\n",
    "        auth: An OAuth1 object\n",
    "\n",
    "    Returns: \n",
    "        100 of the most recent 'sample' tweets.\n",
    "    \"\"\"\n",
    "    r_stream = requests.get(TWITTER_STREAM_URL, auth=auth, stream=True)\n",
    "    counter = 0\n",
    "    tweets = []\n",
    "    for line in r_stream.iter_lines():\n",
    "        # filter out keep-alive new lines\n",
    "        if not line:\n",
    "            continue\n",
    "        \n",
    "        tweet = json.loads(line)\n",
    "        \n",
    "        #only want substantive tweets\n",
    "        if 'text' not in tweet:\n",
    "            continue\n",
    "        \n",
    "        tweets.append(tweet)\n",
    "        \n",
    "        counter +=1\n",
    "        if counter > 100:\n",
    "            break\n",
    "    \n",
    "    return tweets"
   ]
  },
  {
   "cell_type": "markdown",
   "metadata": {
    "collapsed": true
   },
   "source": [
    "## Code review\n",
    "In all probability, there will be at least one other technical person at whatever company you go to - even more likely, your team will have a fairly established code-review process for anything resembling code that goes into production. \n",
    "GitHub has a code review process set up that involves using \"[Pull Requests](https://help.github.com/articles/using-pull-requests/).\"* Take a look at a good one [here](https://github.com/mumrah/kafka-python/pull/195) - more generally, start poking around GitHub and looking at active open source projects.\n",
    "\n",
    "There are alternatives to this code review style (Perforce is popular as well in the git ecosystem). The basic idea is the same though - you look at diffs of code people want to merge in and critique their style, identify bugs, and point out areas where code could be made more idiomatic/sped up/improved.\n",
    "\n",
    "\\*Note the whole idea of code review presupposes an understanding of version control in collaborative environments - this is why you should git comfy with git!"
   ]
  },
  {
   "cell_type": "markdown",
   "metadata": {},
   "source": [
    "## Time Management\n",
    "While good engineering is critically important, part of being a good engineer is understanding that we don't work in a vacuum. When at a job, we're working within the confines of an organization with specific requirements, deadlines, and constraints. \n",
    "\n",
    "One of the single most important things you can do as an engineer is respect those deadlines, set reasonable time estimates for yourself, and understand when it's appropriate to cut corners and accumulate [technical debt](http://blog.codinghorror.com/paying-down-your-technical-debt/) in the interest of getting things done."
   ]
  },
  {
   "cell_type": "markdown",
   "metadata": {},
   "source": [
    "### Lab: Test writing and `git bisect`\n",
    "\n",
    "In this lab, we're going to add some tests to the Milestone Project Flask app, intentionally break those tests, and use `git bisect` to find the issue. \n",
    "\n",
    "#### 1. Unit Test\n",
    "Your backend probably connects to Quandl either via `requests` or using the `Quandl` package. Either way, write a unit test for your backend logic that mocks the HTTP connection and ensures the call to get data from Quandl returns something correct.\n",
    "\n",
    "This may involve factoring out the logic that makes this request into a helper function. Note this is something you generally want to do!\n",
    "\n",
    "If you used `requests`, see the `Responses` module above. If you used `Quandl`, you can simply use mocking on `Quandl.get`. \n",
    "\n",
    "#### 2. Integration Test\n",
    "Now, write an integration test that checks your backend logic without mocking `Quandl`.\n",
    "\n",
    "#### 3. Break Your Code\n",
    "We're going to introduce a breaking change. \n",
    "\n",
    "Modify your backend logic s.t. instead of actually calling Quandl upon receiving a ticker symbol to query, your logic always returns recent history for Google (or any hardcoded data that otherwise works). In all likelihood, you didn't test for this. Make sure to commit this change.\n",
    "\n",
    "In production code, bugs like this frequently occur due to caching issues. Cache bugs are often a bit more subtle than more obvious logical errors, since cached responses will \"look\" correct, aside from returning stale or possibly incorrect data.\n",
    "\n",
    "To fix this change, let's do 2 things:\n",
    "\n",
    "1. *In a new file*, write a test whose spec will catch this sort of error. On your latest commit, the test should fail. The reason we need this to be in a new file is that `git bisect` checks out different versions of your code. If the test is committed to the repo, `git bisect` will make that test disappear since it's not in earlier commits. \n",
    "2. Follow [this tutorial](https://robots.thoughtbot.com/git-bisect) for `git bisect` to determine where the breaking change occurred (make sure to read the \"Automate It\" section before proceeding). For the sake of learning, don't simply say `HEAD` is broken and `HEAD~1` is working - go a few commits back so you can go through the `git bisect` flow. "
   ]
  },
  {
   "cell_type": "markdown",
   "metadata": {
    "collapsed": true
   },
   "source": [
    "### Exit Tickets\n",
    "1. What is the difference between unit, integration, and end-to-end tests?\n",
    "1. What is technical debt and how is it used?\n",
    "1. What is mocking and how is it used?"
   ]
  },
  {
   "cell_type": "markdown",
   "metadata": {},
   "source": [
    "*Copyright &copy; 2015 The Data Incubator.  All rights reserved.*"
   ]
  },
  {
   "cell_type": "code",
   "execution_count": null,
   "metadata": {
    "collapsed": true
   },
   "outputs": [],
   "source": []
  },
  {
   "cell_type": "markdown",
   "metadata": {},
   "source": [
    "*Copyright &copy; 2016 The Data Incubator.  All rights reserved.*"
   ]
  }
 ],
 "metadata": {
  "kernelspec": {
   "display_name": "Python 2",
   "language": "python",
   "name": "python2"
  },
  "language_info": {
   "codemirror_mode": {
    "name": "ipython",
    "version": 2
   },
   "file_extension": ".py",
   "mimetype": "text/x-python",
   "name": "python",
   "nbconvert_exporter": "python",
   "pygments_lexer": "ipython2",
   "version": "2.7.10"
  }
 },
 "nbformat": 4,
 "nbformat_minor": 0
}
