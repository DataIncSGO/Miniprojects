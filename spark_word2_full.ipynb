{
 "cells": [
  {
   "cell_type": "code",
   "execution_count": 2,
   "metadata": {
    "collapsed": false
   },
   "outputs": [],
   "source": [
    "#Imports\n",
    "from pyspark import SparkContext #Library\n",
    "sc = SparkContext(\"local[*]\", \"temp\") #Start a spart context\n",
    "from pyspark.mllib.feature import Word2Vec\n",
    "import xml.etree.ElementTree as ET\n",
    "\n"
   ]
  },
  {
   "cell_type": "code",
   "execution_count": 3,
   "metadata": {
    "collapsed": false
   },
   "outputs": [
    {
     "name": "stdout",
     "output_type": "stream",
     "text": [
      "MapPartitionsRDD[1] at textFile at NativeMethodAccessorImpl.java:-2\n"
     ]
    },
    {
     "data": {
      "text/plain": [
       "47946654"
      ]
     },
     "execution_count": 3,
     "metadata": {},
     "output_type": "execute_result"
    }
   ],
   "source": [
    "posts_lines = sc.textFile(\"file:///home/vagrant/miniprojects/spark/full/allPosts/*.gz\") #create an RDD from file\n",
    "print posts_lines\n",
    "posts_lines.count()\n"
   ]
  },
  {
   "cell_type": "code",
   "execution_count": 4,
   "metadata": {
    "collapsed": false
   },
   "outputs": [],
   "source": [
    "def parsePost(line):\n",
    "    if '<row'in line:\n",
    "        try:\n",
    "            root = ET.fromstring(line.encode('utf8').strip())\n",
    "        except:\n",
    "            pass\n",
    "            return (\"Empty\")\n",
    "            \n",
    "        if root != '':\n",
    "            if \"Tags\" in root.attrib:\n",
    "                    try:\n",
    "                        data = root.attrib[\"Tags\"]\n",
    "                    except:\n",
    "                        pass\n",
    "                        return (\"Empty\")\n",
    "                    data = data.replace(\"<\", \" \").replace(\">\", \" \")\n",
    "                    return data\n",
    "            else:\n",
    "                return(\"Empty\")\n",
    "        else:\n",
    "            return(\"Empty\")\n",
    "    else:\n",
    "        return(\"Empty\")\n",
    "            \n",
    "        "
   ]
  },
  {
   "cell_type": "code",
   "execution_count": 5,
   "metadata": {
    "collapsed": false
   },
   "outputs": [
    {
     "name": "stdout",
     "output_type": "stream",
     "text": [
      "PythonRDD[3] at RDD at PythonRDD.scala:43\n",
      "[['', 'optimization', '', 'cuda', ''], ['', 'java', '', 'android', '', 'linux', '', 'networking', '', 'sshj', ''], ['', 'python', '', 'python-3.x', '', 'dictionary', ''], ['', 'android', ''], ['', 'solr', '', 'elasticsearch', '', 'morelikethis', ''], ['', 'android', '', 'android-intent', '', 'call', ''], ['', 'ruby', '', 'dictionary', ''], ['', 'java', '', 'android', '', 'class', '', 'bluetooth', '', 'android-bluetooth', ''], ['', 'jsp', '', 'error-handling', '', 'struts-1.x', ''], ['', 'bash', '', 'arguments', ''], ['', 'codeigniter', ''], ['', 'c++', '', 'class', '', 'templates', ''], ['', 'c++', '', 'cmake', ''], ['', 'actionscript-3', '', 'flashdevelop', ''], ['', 'php', '', 'arrays', '', 'for-loop', ''], ['', 'javascript', '', 'jquery', ''], ['', 'php', '', 'mysql', '', 'arrays', ''], ['', 'nexus', '', 'jersey-client', ''], ['', 'jenkins', ''], ['', 'asp.net-mvc', '', 'visual-studio-2013', '', 'yahoo-oauth', '']]\n"
     ]
    }
   ],
   "source": [
    "\n",
    "content = posts_lines.map(parsePost).filter(lambda x: x!= 'Empty')\\\n",
    "            .map(lambda line: (line.split(\" \")))\n",
    "\n",
    "print content\n",
    "content.count()\n",
    "print content.take(20)"
   ]
  },
  {
   "cell_type": "code",
   "execution_count": 6,
   "metadata": {
    "collapsed": false
   },
   "outputs": [],
   "source": [
    "model = Word2Vec().setVectorSize(100).setSeed(42L).fit(content)\n",
    "vec = model.transform(\"ggplot2\")\n",
    "\n"
   ]
  },
  {
   "cell_type": "code",
   "execution_count": 7,
   "metadata": {
    "collapsed": false
   },
   "outputs": [
    {
     "name": "stdout",
     "output_type": "stream",
     "text": [
      "[(u'lattice', 3.5241931141102931), (u'data.table', 3.3310135983354088), (u'plyr', 3.3025323727585065), (u'data.frame', 3.2894134544015841), (u'boxplot', 3.283173644508127), (u'shiny', 3.2294991635828021), (u'dplyr', 3.1751775821156856), (u'reshape', 3.1376618295866718), (u'xts', 3.1357257475401328), (u'plot', 3.0837451419287265), (u'rstudio', 3.0748395155952974), (u'time-series', 3.0575445126499283), (u'legend', 3.0381227646791773), (u'lm', 3.0354703652858088), (u'ggmap', 3.0112854462126162), (u'reshape2', 3.0104954805609343), (u'axis-labels', 2.9949532939737851), (u'quantmod', 2.9930726179657809), (u'rgl', 2.9858464230342263), (u'facet-wrap', 2.9662352970533261), (u'geom-bar', 2.9635844933024518), (u'heatmap', 2.9589481216872682), (u'r-factor', 2.952065058289612), (u'regression', 2.9460266350303148), (u'zoo', 2.9265415841897378)]\n"
     ]
    }
   ],
   "source": [
    "result = model.findSynonyms('ggplot2', 25)\n",
    "print result\n"
   ]
  },
  {
   "cell_type": "code",
   "execution_count": 8,
   "metadata": {
    "collapsed": false
   },
   "outputs": [
    {
     "name": "stdout",
     "output_type": "stream",
     "text": [
      "lattice\n",
      "[('lattice', 3.5241931141102931), ('data.table', 3.3310135983354088), ('plyr', 3.3025323727585065), ('data.frame', 3.2894134544015841), ('boxplot', 3.283173644508127), ('shiny', 3.2294991635828021), ('dplyr', 3.1751775821156856), ('reshape', 3.1376618295866718), ('xts', 3.1357257475401328), ('plot', 3.0837451419287265), ('rstudio', 3.0748395155952974), ('time-series', 3.0575445126499283), ('legend', 3.0381227646791773), ('lm', 3.0354703652858088), ('ggmap', 3.0112854462126162), ('reshape2', 3.0104954805609343), ('axis-labels', 2.9949532939737851), ('quantmod', 2.9930726179657809), ('rgl', 2.9858464230342263), ('facet-wrap', 2.9662352970533261), ('geom-bar', 2.9635844933024518), ('heatmap', 2.9589481216872682), ('r-factor', 2.952065058289612), ('regression', 2.9460266350303148), ('zoo', 2.9265415841897378)]\n"
     ]
    }
   ],
   "source": [
    "print str(result[0][0])\n",
    "answer=[]\n",
    "for i in range(0,len(result)):\n",
    "    answer.append((str(result[i][0]), result[i][1]))\n",
    "print answer"
   ]
  },
  {
   "cell_type": "code",
   "execution_count": 9,
   "metadata": {
    "collapsed": false
   },
   "outputs": [
    {
     "name": "stdout",
     "output_type": "stream",
     "text": [
      "[(u'lattice', 3.5241931141102931), (u'data.table', 3.3310135983354088), (u'plyr', 3.3025323727585065), (u'data.frame', 3.2894134544015841), (u'boxplot', 3.283173644508127), (u'shiny', 3.2294991635828021), (u'dplyr', 3.1751775821156856), (u'reshape', 3.1376618295866718), (u'xts', 3.1357257475401328), (u'plot', 3.0837451419287265), (u'rstudio', 3.0748395155952974), (u'time-series', 3.0575445126499283), (u'legend', 3.0381227646791773), (u'lm', 3.0354703652858088), (u'ggmap', 3.0112854462126162), (u'reshape2', 3.0104954805609343), (u'axis-labels', 2.9949532939737851), (u'quantmod', 2.9930726179657809), (u'rgl', 2.9858464230342263), (u'facet-wrap', 2.9662352970533261), (u'geom-bar', 2.9635844933024518), (u'heatmap', 2.9589481216872682), (u'r-factor', 2.952065058289612), (u'regression', 2.9460266350303148), (u'zoo', 2.9265415841897378), (u'anova', 2.9254672966769504), (u'na', 2.9214207754409065), (u'r-grid', 2.9209730828078917), (u'levelplot', 2.9167877063157213), (u'gridextra', 2.9121132381939092), (u'scatter-plot', 2.9104741473141718), (u'plotmath', 2.8915891492485977), (u'igraph', 2.8894858019953951), (u'data-manipulation', 2.8676779864902779), (u'gam', 2.8676542963208824), (u'vegan', 2.8665153181719822), (u'forecasting', 2.8599132651010679), (u'knitr', 2.8503893042300565), (u'performanceanalytics', 2.844778968907316), (u'ecdf', 2.8409188704188861)]\n"
     ]
    }
   ],
   "source": [
    "result = model.findSynonyms('ggplot2', 40)\n",
    "print result"
   ]
  },
  {
   "cell_type": "code",
   "execution_count": 10,
   "metadata": {
    "collapsed": false
   },
   "outputs": [
    {
     "name": "stdout",
     "output_type": "stream",
     "text": [
      "lattice\n",
      "[('lattice', 3.5241931141102931), ('data.table', 3.3310135983354088), ('plyr', 3.3025323727585065), ('data.frame', 3.2894134544015841), ('boxplot', 3.283173644508127), ('shiny', 3.2294991635828021), ('dplyr', 3.1751775821156856), ('reshape', 3.1376618295866718), ('xts', 3.1357257475401328), ('plot', 3.0837451419287265), ('rstudio', 3.0748395155952974), ('time-series', 3.0575445126499283), ('legend', 3.0381227646791773), ('lm', 3.0354703652858088), ('ggmap', 3.0112854462126162), ('reshape2', 3.0104954805609343), ('axis-labels', 2.9949532939737851), ('quantmod', 2.9930726179657809), ('rgl', 2.9858464230342263), ('facet-wrap', 2.9662352970533261), ('geom-bar', 2.9635844933024518), ('heatmap', 2.9589481216872682), ('r-factor', 2.952065058289612), ('regression', 2.9460266350303148), ('zoo', 2.9265415841897378), ('anova', 2.9254672966769504), ('na', 2.9214207754409065), ('r-grid', 2.9209730828078917), ('levelplot', 2.9167877063157213), ('gridextra', 2.9121132381939092), ('scatter-plot', 2.9104741473141718), ('plotmath', 2.8915891492485977), ('igraph', 2.8894858019953951), ('data-manipulation', 2.8676779864902779), ('gam', 2.8676542963208824), ('vegan', 2.8665153181719822), ('forecasting', 2.8599132651010679), ('knitr', 2.8503893042300565), ('performanceanalytics', 2.844778968907316), ('ecdf', 2.8409188704188861)]\n"
     ]
    }
   ],
   "source": [
    "print str(result[0][0])\n",
    "answer=[]\n",
    "for i in range(0,len(result)):\n",
    "    answer.append((str(result[i][0]), result[i][1]))\n",
    "print answer"
   ]
  },
  {
   "cell_type": "code",
   "execution_count": null,
   "metadata": {
    "collapsed": true
   },
   "outputs": [],
   "source": []
  }
 ],
 "metadata": {
  "kernelspec": {
   "display_name": "Python 2",
   "language": "python",
   "name": "python2"
  },
  "language_info": {
   "codemirror_mode": {
    "name": "ipython",
    "version": 2
   },
   "file_extension": ".py",
   "mimetype": "text/x-python",
   "name": "python",
   "nbconvert_exporter": "python",
   "pygments_lexer": "ipython2",
   "version": "2.7.10"
  }
 },
 "nbformat": 4,
 "nbformat_minor": 0
}
