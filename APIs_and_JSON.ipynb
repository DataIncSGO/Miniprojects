{
 "cells": [
  {
   "cell_type": "code",
   "execution_count": null,
   "metadata": {
    "collapsed": true
   },
   "outputs": [],
   "source": [
    "%matplotlib inline\n",
    "import matplotlib\n",
    "import seaborn as sns\n",
    "matplotlib.rcParams['savefig.dpi'] = 2 * matplotlib.rcParams['savefig.dpi']"
   ]
  },
  {
   "cell_type": "markdown",
   "metadata": {},
   "source": [
    "# Consuming APIs (and JSON)\n",
    "\n",
    "Consuming APIs is supposed to be easy (that's the point of having an API).  \n",
    "\n",
    "Let's look at a simple example of consuming a JSON API.  The example we'll look at is a *geocoder*: That is, a service for converting between addresses and normalized geographic information (e.g. latitude and longitude).  Going from addresses to normalized form is \"forward geocoding\" and going the other way is \"reverse geocoding\".\n",
    "\n",
    "We'll interact with a free (and non-authenticated) geocoder run by OpenStreetMap:"
   ]
  },
  {
   "cell_type": "code",
   "execution_count": null,
   "metadata": {
    "collapsed": false
   },
   "outputs": [],
   "source": [
    "import urllib2\n",
    "import simplejson as json\n",
    "def geocode(address):\n",
    "    url = \"http://nominatim.openstreetmap.org/search?q=%s&addressdetails=1&format=json\" % (urllib2.quote(address),)\n",
    "    ret = urllib2.urlopen(url).read()\n",
    "    return json.loads(ret)\n",
    "\n",
    "my_home = geocode(\"865 page st, san francisco, ca 94117\")\n",
    "my_home"
   ]
  },
  {
   "cell_type": "markdown",
   "metadata": {},
   "source": [
    "You can also select out elements of JSON blobs in \"the natural way\":"
   ]
  },
  {
   "cell_type": "code",
   "execution_count": null,
   "metadata": {
    "collapsed": false
   },
   "outputs": [],
   "source": [
    "my_home[0]['boundingbox']"
   ]
  },
  {
   "cell_type": "markdown",
   "metadata": {},
   "source": [
    "### Things to note:\n",
    "\n",
    "1.  In this case, the request parameters were encoded in the URL itself.  This is usually the case for simple \"`GET`\" queries.  Because our string contained characters like spaces, we had to \"URL encode\" it (this is what `urllib2.quote` does).  It's usually a bad idea to do your own encoding like this: below we'll talk about the `requests` library, which lets us avoid this.\n",
    "\n",
    "2. The result was returned to us in the form of _JSON_.  JSON is JavaScript Object Notation -- it's a human readable text-based format for transmitting key-value pairs (and strings, numbers, and arrays).  The `json` package lets us convert between this and Python's native dictionaries, etc.\n",
    " \n",
    "3. This was a public API, with no authentication.  We'll go through an example of the code for an authenticated API at the end -- the example will be the free Twitter stream.  (The reason we didn't do this up front is that you can't run the code without signing up for an API key, etc.)"
   ]
  },
  {
   "cell_type": "code",
   "execution_count": null,
   "metadata": {
    "collapsed": false
   },
   "outputs": [],
   "source": [
    "address = \"1600 Pennsylvania Avenue, Washington, DC\"\n",
    "url = \"http://nominatim.openstreetmap.org/search?q=%s&addressdetails=1&format=json\" % (urllib2.quote(address),)\n",
    "\n",
    "print address\n",
    "print\n",
    "print url\n",
    "print\n",
    "print urllib2.urlopen(url).read()\n",
    "print\n",
    "json.loads(urllib2.urlopen(url).read())"
   ]
  },
  {
   "cell_type": "markdown",
   "metadata": {},
   "source": [
    "To make it easier to see what's going on, let's pretty-print that JSON object:\n",
    "\n",
    "    [\n",
    "       {\"place_id\":\"9163027846\",\n",
    "        \"licence\":\"Data \\u00a9 OpenStreetMap contributors, ODbL 1.0. http:\\/\\/www.openstreetmap.org\\/copyright\",\n",
    "        \"osm_type\":\"way\",\n",
    "        \"osm_id\":\"11557939\",\n",
    "        \"boundingbox\": [\"39.655891418457\", \"39.6572189331055\", \n",
    "                        \"-77.5709609985352\", \"-77.5705108642578\"],\n",
    "        \"lat\":\"39.6566765\",\n",
    "        \"lon\":\"-77.5708067\",\n",
    "        \"display_name\":\"Pennsylvania Avenue, Smithsburg, Washington, Maryland, 21783, United States of America\",\n",
    "        \"class\":\"highway\",\n",
    "        \"type\":\"tertiary\",\n",
    "        \"importance\":0.41,\n",
    "        \"address\": {\"road\":\"Pennsylvania Avenue\",\n",
    "                    \"town\":\"Smithsburg\", \n",
    "                    \"county\":\"Washington\", \n",
    "                    \"state\":\"Maryland\", \n",
    "                    \"postcode\":\"21783\", \n",
    "                    \"country\":\"United States of America\", \n",
    "                    \"country_code\":\"us\"\n",
    "                   }\n",
    "       }\n",
    "    ]\n",
    "\n",
    "Just like in Python, `[..]` is for arrays and `{..}` is for a dictionary.  This is pretty much all there is to JSON.\n"
   ]
  },
  {
   "cell_type": "markdown",
   "metadata": {},
   "source": [
    "**Exercise:** There's also a [free API](http://openweathermap.org) for weather information.\n",
    "\n",
    "A sample request might look something like `http://api.openweathermap.org/data/2.5/weather?lat=35&lon=139`\n",
    "\n",
    "Use the geocoder to write a function\n",
    "\n",
    "        def weather_at_address(address):\n",
    "            ....\n",
    "            \n",
    "that gets the current weather (temperature, cloudy or not) from a human-entered address."
   ]
  },
  {
   "cell_type": "markdown",
   "metadata": {},
   "source": [
    "## Handling URL parameters\n",
    "\n",
    "`urllib2` module requires an enormous amount of work to perform the simplest of tasks. The `requests` library provides a higher-level way to do web requests. This is already nice in examples, like the above, where we need to encode parameters into the URL.  It is even more convenient when there are also `POST` parameters (or cookies, or authentication, or...) involved.  (Don't worry if you don't know what that means.)"
   ]
  },
  {
   "cell_type": "code",
   "execution_count": null,
   "metadata": {
    "collapsed": false
   },
   "outputs": [],
   "source": [
    "import requests\n",
    "def geocode(address):\n",
    "    params = { 'format'        :'json', \n",
    "               'addressdetails': 1, \n",
    "               'q'             : address}\n",
    "    r = requests.get('http://nominatim.openstreetmap.org/search', params=params)\n",
    "    return r.json()"
   ]
  },
  {
   "cell_type": "code",
   "execution_count": null,
   "metadata": {
    "collapsed": false
   },
   "outputs": [],
   "source": [
    "x = geocode(\"107 Page St., San Francisco\")"
   ]
  },
  {
   "cell_type": "code",
   "execution_count": null,
   "metadata": {
    "collapsed": false
   },
   "outputs": [],
   "source": [
    "x[0]"
   ]
  },
  {
   "cell_type": "markdown",
   "metadata": {},
   "source": [
    "## Authenticated APIs\n",
    "\n",
    "Lots of interesting APIs are free (or at least free for moderate use) but still require you to register first.  The `requests` library (together with some supporting ones, e.g. `requests_oauthlib`) make it easy to consume these too.\n",
    "\n",
    "**Exercise:** In order to access the Twitter API, you must first sign up: create an app on http://apps.twitter.com, get an access token, et voila, you have your shiny new credentials -- consisting of four pieces of data. The file /secrets/twitter_secrets.json.sample in the datacourse repo has the format template; then rename the file to have a .nogit extension to prevent it being tracked in the repository."
   ]
  },
  {
   "cell_type": "code",
   "execution_count": null,
   "metadata": {
    "collapsed": false
   },
   "outputs": [],
   "source": [
    "import simplejson\n",
    "from requests_oauthlib import OAuth1\n",
    "\n",
    "with open(\"secrets/twitter_secrets.json.nogit\") as fh:\n",
    "    secrets = simplejson.loads(fh.read())\n",
    "\n",
    "# create an auth object\n",
    "auth = OAuth1(\n",
    "    secrets[\"api_key\"],\n",
    "    secrets[\"api_secret\"],\n",
    "    secrets[\"access_token\"],\n",
    "    secrets[\"access_token_secret\"]\n",
    ")"
   ]
  },
  {
   "cell_type": "code",
   "execution_count": null,
   "metadata": {
    "collapsed": false
   },
   "outputs": [],
   "source": [
    "# See all of Michael's friends\n",
    "r = requests.get(\n",
    "    \"https://api.twitter.com/1.1/friends/ids.json\",\n",
    "    auth=auth,\n",
    "    params={'screen_name' : 'tianhuil'}\n",
    ")\n",
    "michaels_friends=r.json()\n",
    "\n",
    "r2 = requests.post(\n",
    "    'https://api.twitter.com/1.1/users/lookup.json',\n",
    "    auth=auth,\n",
    "    data={'user_id' : michaels_friends['ids'][:50]}\n",
    ")\n",
    "friends_info = r2.json()\n",
    "[(f['screen_name'], f['name']) for f in friends_info]"
   ]
  },
  {
   "cell_type": "code",
   "execution_count": null,
   "metadata": {
    "collapsed": false
   },
   "outputs": [],
   "source": [
    "## Requests also makes it easy to deal with simple streaming APIs.  Let's stream 100 tweets from the Twitter feed.\n",
    "\n",
    "import json, sys\n",
    "r_stream = requests.get('https://stream.twitter.com/1.1/statuses/sample.json', auth=auth, stream=True)\n",
    "counter = 0\n",
    "for line in r_stream.iter_lines():\n",
    "    # filter out keep-alive new lines\n",
    "    if not line:\n",
    "        continue\n",
    "    tweet = json.loads(line)\n",
    "    if 'text' in tweet:\n",
    "        counter +=1\n",
    "        print tweet['text']\n",
    "    sys.stdout.flush()\n",
    "    if counter > 100:\n",
    "        break"
   ]
  },
  {
   "cell_type": "code",
   "execution_count": null,
   "metadata": {
    "collapsed": false
   },
   "outputs": [],
   "source": [
    "## Here's a variant that's more US-centric.\n",
    "## Question: what does islice do?\n",
    "\n",
    "import json, sys\n",
    "from itertools import islice\n",
    "r_stream = requests.post('https://stream.twitter.com/1.1/statuses/filter.json', auth=auth,\n",
    "                          stream=True, data={\"locations\" : \"-125,23,-70,50\"} )\n",
    "for line in islice(r_stream.iter_lines(), 100):\n",
    "    # filter out keep-alive new lines\n",
    "    if not line:\n",
    "        continue\n",
    "    tweet = json.loads(line)\n",
    "    if 'text' in tweet:\n",
    "        print tweet['text']\n",
    "    sys.stdout.flush()"
   ]
  },
  {
   "cell_type": "markdown",
   "metadata": {},
   "source": [
    "### Exercises\n",
    "\n",
    "1. Write a Python script that takes as input an address and outputs 50 tweets from within about 10 miles of it.\n",
    "Now modify it to return the top 10 hashtags within that 10 mile range (based on, say, a 1000 tweet sample).\n",
    "1. You can plot maps using this [Python Package](http://peak5390.wordpress.com/2012/12/08/matplotlib-basemap-tutorial-plotting-points-on-a-simple-map/).  Get geo-located tweets from the streaming API and plot them on the map."
   ]
  },
  {
   "cell_type": "markdown",
   "metadata": {},
   "source": [
    "### Further reading for this lecture\n",
    "\n",
    "To learn more about JSON (there isn't much more to know!):\n",
    " - http://www.secretgeek.net/json_3mins.asp\n",
    " - http://en.wikipedia.org/wiki/JSON (esp. \"Data types, syntax, and examples\")\n",
    " - http://tools.ietf.org/html/rfc7159\n",
    "\n",
    "A useful tool for playing with JSON on the command line is [jq](http://stedolan.github.io/jq/).\n",
    "\n",
    "To learn more about about the prevailing design pattern (\"REST\") for web-based APIs:\n",
    " - http://en.wikipedia.org/wiki/Representational_state_transfer\n",
    " \n",
    "One wildcard is the wide variety of authentication strategies employed (\"basic auth\", cookies, bearer token, OAuth, OAuth 2, etc.).  For several of these, the documentation at http://docs.python-requests.org/en/latest/user/authentication/ is helpful."
   ]
  },
  {
   "cell_type": "markdown",
   "metadata": {
    "collapsed": false
   },
   "source": [
    "### Exit Tickets\n",
    "1. Explain the difference between requests.get() and requests.post().\n",
    "2. What data structures do JSON objects in Python use?\n",
    "3. Describe what the remote site is doing when it receives an API request from you."
   ]
  },
  {
   "cell_type": "markdown",
   "metadata": {},
   "source": [
    "*Copyright &copy; 2015 The Data Incubator.  All rights reserved.*"
   ]
  }
 ],
 "metadata": {
  "kernelspec": {
   "display_name": "Python 2",
   "language": "python",
   "name": "python2"
  },
  "language_info": {
   "codemirror_mode": {
    "name": "ipython",
    "version": 2
   },
   "file_extension": ".py",
   "mimetype": "text/x-python",
   "name": "python",
   "nbconvert_exporter": "python",
   "pygments_lexer": "ipython2",
   "version": "2.7.11"
  }
 },
 "nbformat": 4,
 "nbformat_minor": 0
}
