{
 "cells": [
  {
   "cell_type": "code",
   "execution_count": 1,
   "metadata": {
    "collapsed": false
   },
   "outputs": [],
   "source": [
    "from pyspark import SparkContext #Library\n",
    "sc = SparkContext(\"local[*]\", \"temp\") #Start a spart context\n"
   ]
  },
  {
   "cell_type": "code",
   "execution_count": 2,
   "metadata": {
    "collapsed": false
   },
   "outputs": [
    {
     "name": "stdout",
     "output_type": "stream",
     "text": [
      "MapPartitionsRDD[1] at textFile at NativeMethodAccessorImpl.java:-2\n"
     ]
    },
    {
     "data": {
      "text/plain": [
       "212990"
      ]
     },
     "execution_count": 2,
     "metadata": {},
     "output_type": "execute_result"
    }
   ],
   "source": [
    "posts_lines = sc.textFile(\"file:///home/vagrant/miniprojects/spark/part/allPosts/*.gz\") #create an RDD from file\n",
    "print posts_lines\n",
    "posts_lines.count()\n"
   ]
  },
  {
   "cell_type": "code",
   "execution_count": 3,
   "metadata": {
    "collapsed": false
   },
   "outputs": [
    {
     "name": "stdout",
     "output_type": "stream",
     "text": [
      "MapPartitionsRDD[4] at textFile at NativeMethodAccessorImpl.java:-2\n"
     ]
    },
    {
     "data": {
      "text/plain": [
       "100425"
      ]
     },
     "execution_count": 3,
     "metadata": {},
     "output_type": "execute_result"
    }
   ],
   "source": [
    "users_lines = sc.textFile(\"file:///home/vagrant/miniprojects/spark/part/allUsers/*.gz\")\n",
    "print users_lines\n",
    "users_lines.count()"
   ]
  },
  {
   "cell_type": "code",
   "execution_count": 4,
   "metadata": {
    "collapsed": true
   },
   "outputs": [],
   "source": [
    "#Import parsing library.\n",
    "import xml.etree.ElementTree as ET\n",
    "import numpy as np\n",
    "from datetime import datetime\n",
    "import time\n"
   ]
  },
  {
   "cell_type": "code",
   "execution_count": 5,
   "metadata": {
    "collapsed": true
   },
   "outputs": [],
   "source": [
    "def parseUser(line):\n",
    "    if '<row' in line:\n",
    "        try:\n",
    "            root = ET.fromstring(line.encode('utf8'))\n",
    "        except:\n",
    "            pass\n",
    "            return (\"Empty\")\n",
    "            \n",
    "        if root != '':\n",
    "            if \"Id\" and \"CreationDate\" in root.attrib:\n",
    "                return(root.attrib[\"Id\"], root.attrib[\"CreationDate\"])\n",
    "            else:\n",
    "                return(\"Empty\")\n",
    "        else:\n",
    "            return(\"Empty\")\n",
    "    else:\n",
    "        return(\"Empty\")\n",
    "            "
   ]
  },
  {
   "cell_type": "code",
   "execution_count": 6,
   "metadata": {
    "collapsed": false
   },
   "outputs": [
    {
     "name": "stdout",
     "output_type": "stream",
     "text": [
      "50320\n",
      "[('70185', '2015-03-02T18:42:20.510'), ('70186', '2015-03-02T19:04:13.380'), ('70187', '2015-03-02T19:40:16.420'), ('70188', '2015-03-02T19:46:45.400'), ('70189', '2015-03-02T19:56:37.233'), ('70190', '2015-03-02T19:59:18.320'), ('70191', '2015-03-02T20:08:27.600'), ('70192', '2015-03-02T20:10:19.623'), ('70193', '2015-03-02T20:41:46.567'), ('70194', '2015-03-02T20:46:08.073'), ('70195', '2015-03-02T20:52:08.043'), ('70196', '2015-03-02T20:57:18.773'), ('70197', '2015-03-02T21:08:21.617'), ('70198', '2015-03-02T21:37:38.363'), ('70199', '2015-03-02T21:38:27.963'), ('70200', '2015-03-02T22:35:10.230'), ('70201', '2015-03-02T22:39:31.877'), ('70202', '2015-03-02T23:33:39.623'), ('70203', '2015-03-02T23:41:20.063'), ('70204', '2015-03-02T23:45:15.587')]\n"
     ]
    }
   ],
   "source": [
    "users = users_lines.map(parseUser).filter(lambda x: x!= 'Empty')\n",
    "print users.count()\n",
    "print users.take(20)"
   ]
  },
  {
   "cell_type": "code",
   "execution_count": 7,
   "metadata": {
    "collapsed": false
   },
   "outputs": [],
   "source": [
    "def parsePost(line):\n",
    "    if '<row' in line:\n",
    "        try:\n",
    "            root = ET.fromstring(line.encode('utf8'))\n",
    "        except:\n",
    "            pass\n",
    "            return (\"Empty\")            \n",
    "        if root != '':\n",
    "            if \"CreationDate\" in root.attrib:\n",
    "                try:\n",
    "                    return (root.attrib[\"OwnerUserId\"], root.attrib[\"CreationDate\"])\n",
    "                except:\n",
    "                    pass\n",
    "                    return (\"Empty\")\n",
    "            else:\n",
    "                return(\"Empty\")\n",
    "        else:\n",
    "            return(\"Empty\")\n",
    "    else:\n",
    "        return(\"Empty\")\n",
    "            \n",
    "        "
   ]
  },
  {
   "cell_type": "code",
   "execution_count": 8,
   "metadata": {
    "collapsed": false
   },
   "outputs": [
    {
     "name": "stdout",
     "output_type": "stream",
     "text": [
      "PythonRDD[8] at RDD at PythonRDD.scala:43\n",
      "[('16609', '2014-06-04T13:18:18.120'), ('30623', '2014-06-04T13:31:24.160'), ('45266', '2014-06-04T13:43:15.913'), ('46059', '2014-06-04T13:57:07.657'), ('46703', '2014-06-04T14:14:48.753'), ('7828', '2014-06-04T14:19:20.430'), ('29068', '2014-06-04T14:25:45.873'), ('15997', '2014-06-04T14:28:42.040'), ('45277', '2014-06-04T14:30:15.493'), ('7916', '2014-06-04T14:35:08.560'), ('29068', '2014-06-04T14:35:51.100'), ('39953', '2014-06-04T14:41:11.140'), ('46705', '2014-06-04T14:48:17.310'), ('46708', '2014-06-04T15:00:58.427'), ('21160', '2014-06-04T15:07:20.207'), ('15997', '2014-06-04T15:07:48.407'), ('29068', '2014-06-04T15:07:55.817'), ('45268', '2014-06-04T15:13:20.170'), ('8013', '2014-06-04T15:14:33.713'), ('7828', '2014-06-04T15:24:10.153')]\n"
     ]
    },
    {
     "data": {
      "text/plain": [
       "107152"
      ]
     },
     "execution_count": 8,
     "metadata": {},
     "output_type": "execute_result"
    }
   ],
   "source": [
    "posts = posts_lines.map(parsePost).filter(lambda x: x!= 'Empty')\n",
    "print posts\n",
    "print posts.take(20)\n",
    "posts.count()\n"
   ]
  },
  {
   "cell_type": "code",
   "execution_count": 25,
   "metadata": {
    "collapsed": false
   },
   "outputs": [],
   "source": [
    "def parseQuestion(line):\n",
    "    if '<row'in line:\n",
    "        try:\n",
    "            root = ET.fromstring(line.encode('utf8').strip())\n",
    "        except:\n",
    "            pass\n",
    "            return (\"Empty\")\n",
    "            \n",
    "        if root != '':\n",
    "            if \"OwnerUserId\" in root.attrib:\n",
    "                p_type = root.attrib[\"PostTypeId\"]\n",
    "                owner = root.attrib[\"OwnerUserId\"]\n",
    "                if p_type == '1':\n",
    "                    score = float(root.attrib[\"Score\"])\n",
    "                    views = float(root.attrib[\"ViewCount\"])\n",
    "                    answers = float(root.attrib[\"AnswerCount\"])\n",
    "                    create_date = root.attrib[\"CreationDate\"] \n",
    "                    favs = 0.\n",
    "                    try:\n",
    "                        favs = float(root.attrib[\"FavoriteCount\"])\n",
    "                    except:\n",
    "                        pass\n",
    "\n",
    "                    return(owner, [create_date, score, views, answers, favs])\n",
    "                else:\n",
    "                    return(\"Empty\")\n",
    "            else:\n",
    "                return(\"Empty\")\n",
    "        else:\n",
    "            return(\"Empty\")\n",
    "    else:\n",
    "        return(\"Empty\")\n",
    "            \n",
    "        "
   ]
  },
  {
   "cell_type": "code",
   "execution_count": 26,
   "metadata": {
    "collapsed": false
   },
   "outputs": [
    {
     "name": "stdout",
     "output_type": "stream",
     "text": [
      "23133\n",
      "[('23994', [-1.0, 33.0, 1.0, 0.0]), ('61518', [4.0, 173.0, 1.0, 1.0]), ('35549', [1.0, 390.0, 1.0, 0.0]), ('36313', [3.0, 73.0, 0.0, 0.0]), ('69951', [0.0, 15.0, 0.0, 0.0]), ('11549', [2.0, 304.0, 1.0, 1.0]), ('60913', [1.0, 12.0, 0.0, 0.0]), ('17525', [3.0, 65.0, 2.0, 0.0]), ('11384', [1.0, 264.0, 0.0, 0.0]), ('43270', [0.0, 69.0, 1.0, 0.0]), ('10897', [1.0, 229.0, 1.0, 2.0]), ('48893', [3.0, 390.0, 1.0, 1.0]), ('3993', [8.0, 2850.0, 4.0, 1.0]), ('61176', [1.0, 81.0, 0.0, 0.0]), ('56583', [0.0, 18.0, 1.0, 0.0]), ('4686', [1.0, 70.0, 0.0, 0.0]), ('25065', [4.0, 89.0, 1.0, 3.0]), ('56236', [0.0, 36.0, 1.0, 0.0]), ('12703', [2.0, 238.0, 0.0, 1.0]), ('61195', [0.0, 15.0, 0.0, 0.0])]\n"
     ]
    }
   ],
   "source": [
    "questions = posts_lines.map(parseQuestion).filter(lambda x: x!= \"Empty\")\\\n",
    "            .reduceByKey(min).map(lambda x: (x[0],x[1][1:]))\n",
    "print questions.count()\n",
    "print questions.take(20)"
   ]
  },
  {
   "cell_type": "code",
   "execution_count": 27,
   "metadata": {
    "collapsed": true
   },
   "outputs": [],
   "source": [
    "from datetime import datetime\n",
    "import time\n",
    "\n",
    "def dateConversion (date1, date2):  \n",
    "    date1_obj = datetime.strptime(date1, \"%Y-%m-%dT%H:%M:%S.%f\")\n",
    "    date2_obj = datetime.strptime(date2, \"%Y-%m-%dT%H:%M:%S.%f\")\n",
    "    diff = date2_obj - date1_obj\n",
    "    diff_sec = diff.total_seconds()\n",
    "    if diff_sec > 8640000 and diff_sec < 12960000:\n",
    "        return 1\n",
    "    else:\n",
    "        return 0\n",
    "  "
   ]
  },
  {
   "cell_type": "code",
   "execution_count": 53,
   "metadata": {
    "collapsed": true
   },
   "outputs": [],
   "source": [
    "def transform(x):\n",
    "    if x[1]>=1:\n",
    "        vet =1\n",
    "    else:\n",
    "        vet = 0\n",
    "    return (x[0],vet)"
   ]
  },
  {
   "cell_type": "code",
   "execution_count": 54,
   "metadata": {
    "collapsed": false
   },
   "outputs": [
    {
     "name": "stdout",
     "output_type": "stream",
     "text": [
      "26847\n",
      "[('23991', 0), ('55619', 0), ('55344', 0), ('35549', 0), ('22465', 0), ('69953', 0), ('13732', 1), ('11549', 0), ('28999', 0), ('4028', 0), ('11386', 0), ('55298', 0), ('7515', 1), ('48899', 0), ('55766', 0), ('22269', 0), ('61205', 0), ('16674', 0), ('25068', 0), ('52265', 0), ('70001', 0), ('6154', 0), ('60355', 0), ('4027', 0), ('46135', 0), ('298', 0), ('41847', 0), ('64700', 0), ('64877', 0), ('21100', 0), ('60135', 0), ('17651', 0), ('57297', 0), ('46488', 0), ('43988', 0), ('52399', 0), ('36207', 0), ('41838', 1), ('57168', 0), ('56830', 0)]\n"
     ]
    }
   ],
   "source": [
    "joint = users.join(posts).map(lambda x: (x[0], dateConversion(x[1][0], x[1][1])))\\\n",
    "        .reduceByKey(lambda x,y: x+y).map(transform)\n",
    "print joint.count()\n",
    "print joint.take(40)"
   ]
  },
  {
   "cell_type": "code",
   "execution_count": 55,
   "metadata": {
    "collapsed": false
   },
   "outputs": [
    {
     "name": "stdout",
     "output_type": "stream",
     "text": [
      "2\n",
      "[(0, [2.1008130845513935, 553.51919913521647, 0.97071955632842977, 0.57588005827889266]), (1, [3.5434543454345433, 926.39823982398241, 1.2981298129812981, 1.3008800880088009])]\n"
     ]
    }
   ],
   "source": [
    "veterans = joint.join(questions).map(lambda x: (x[1][0], x[1][1]+[1]))\\\n",
    "            .reduceByKey(lambda x,y: np.add(x,y))\\\n",
    "            .map(lambda x: (x[0], [x[1][0]/x[1][4], x[1][1]/x[1][4], x[1][2]/x[1][4], x[1][3]/x[1][4]]))\n",
    "print veterans.count()\n",
    "print veterans.take(40)"
   ]
  },
  {
   "cell_type": "code",
   "execution_count": null,
   "metadata": {
    "collapsed": true
   },
   "outputs": [],
   "source": []
  }
 ],
 "metadata": {
  "kernelspec": {
   "display_name": "Python 2",
   "language": "python",
   "name": "python2"
  },
  "language_info": {
   "codemirror_mode": {
    "name": "ipython",
    "version": 2
   },
   "file_extension": ".py",
   "mimetype": "text/x-python",
   "name": "python",
   "nbconvert_exporter": "python",
   "pygments_lexer": "ipython2",
   "version": "2.7.10"
  }
 },
 "nbformat": 4,
 "nbformat_minor": 0
}
