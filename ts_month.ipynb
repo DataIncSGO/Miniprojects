{
 "cells": [
  {
   "cell_type": "code",
   "execution_count": null,
   "metadata": {
    "collapsed": true
   },
   "outputs": [],
   "source": []
  },
  {
   "cell_type": "code",
   "execution_count": 2,
   "metadata": {
    "collapsed": true
   },
   "outputs": [],
   "source": [
    "import requests, urllib2, gzip, urllib\n",
    "import pandas as pd\n",
    "import numpy as np"
   ]
  },
  {
   "cell_type": "code",
   "execution_count": 3,
   "metadata": {
    "collapsed": true
   },
   "outputs": [],
   "source": [
    "url = 'http://s3.amazonaws.com/thedataincubator/coursedata/mldata/train.txt.gz'"
   ]
  },
  {
   "cell_type": "code",
   "execution_count": 4,
   "metadata": {
    "collapsed": false
   },
   "outputs": [
    {
     "name": "stdout",
     "output_type": "stream",
     "text": [
      "[{'city': 'bos', 'temp': -11, 'hour': '00', 'month': '01'}, {'city': 'bos', 'temp': -6, 'hour': '01', 'month': '01'}]\n",
      "515581\n"
     ]
    }
   ],
   "source": [
    "#Download file\n",
    "urllib.urlretrieve(url,'Weather')\n",
    "\n",
    "weather_list = []\n",
    "with gzip.open('Weather', 'rb') as f:\n",
    "    for line in f.readlines():\n",
    "        info_dict = {}\n",
    "        info = line.split()\n",
    "        info_dict['month'] = info[1]\n",
    "        info_dict['hour'] = info[3]\n",
    "        info_dict['temp'] = int(info[4])\n",
    "        info_dict['city'] = info[12]\n",
    "        if info_dict['temp'] != -9999.0:\n",
    "            weather_list.append(info_dict)\n",
    "        \n",
    "print weather_list[0:2]\n",
    "print len(weather_list)\n"
   ]
  },
  {
   "cell_type": "code",
   "execution_count": 5,
   "metadata": {
    "collapsed": false
   },
   "outputs": [
    {
     "data": {
      "text/html": [
       "<div>\n",
       "<table border=\"1\" class=\"dataframe\">\n",
       "  <thead>\n",
       "    <tr style=\"text-align: right;\">\n",
       "      <th></th>\n",
       "      <th>temp</th>\n",
       "    </tr>\n",
       "  </thead>\n",
       "  <tbody>\n",
       "    <tr>\n",
       "      <th>count</th>\n",
       "      <td>515581.000000</td>\n",
       "    </tr>\n",
       "    <tr>\n",
       "      <th>mean</th>\n",
       "      <td>121.691294</td>\n",
       "    </tr>\n",
       "    <tr>\n",
       "      <th>std</th>\n",
       "      <td>103.047547</td>\n",
       "    </tr>\n",
       "    <tr>\n",
       "      <th>min</th>\n",
       "      <td>-272.000000</td>\n",
       "    </tr>\n",
       "    <tr>\n",
       "      <th>25%</th>\n",
       "      <td>39.000000</td>\n",
       "    </tr>\n",
       "    <tr>\n",
       "      <th>50%</th>\n",
       "      <td>122.000000</td>\n",
       "    </tr>\n",
       "    <tr>\n",
       "      <th>75%</th>\n",
       "      <td>206.000000</td>\n",
       "    </tr>\n",
       "    <tr>\n",
       "      <th>max</th>\n",
       "      <td>406.000000</td>\n",
       "    </tr>\n",
       "  </tbody>\n",
       "</table>\n",
       "</div>"
      ],
      "text/plain": [
       "                temp\n",
       "count  515581.000000\n",
       "mean      121.691294\n",
       "std       103.047547\n",
       "min      -272.000000\n",
       "25%        39.000000\n",
       "50%       122.000000\n",
       "75%       206.000000\n",
       "max       406.000000"
      ]
     },
     "execution_count": 5,
     "metadata": {},
     "output_type": "execute_result"
    }
   ],
   "source": [
    "weather_df = pd.DataFrame(weather_list)\n",
    "weather_df.head(10)\n",
    "weather_df.describe()"
   ]
  },
  {
   "cell_type": "code",
   "execution_count": 7,
   "metadata": {
    "collapsed": false
   },
   "outputs": [
    {
     "data": {
      "text/html": [
       "<div>\n",
       "<table border=\"1\" class=\"dataframe\">\n",
       "  <thead>\n",
       "    <tr style=\"text-align: right;\">\n",
       "      <th></th>\n",
       "      <th>av_temp</th>\n",
       "    </tr>\n",
       "  </thead>\n",
       "  <tbody>\n",
       "    <tr>\n",
       "      <th>count</th>\n",
       "      <td>1440.000000</td>\n",
       "    </tr>\n",
       "    <tr>\n",
       "      <th>mean</th>\n",
       "      <td>120.865884</td>\n",
       "    </tr>\n",
       "    <tr>\n",
       "      <th>std</th>\n",
       "      <td>91.578820</td>\n",
       "    </tr>\n",
       "    <tr>\n",
       "      <th>min</th>\n",
       "      <td>-58.013441</td>\n",
       "    </tr>\n",
       "    <tr>\n",
       "      <th>25%</th>\n",
       "      <td>38.106266</td>\n",
       "    </tr>\n",
       "    <tr>\n",
       "      <th>50%</th>\n",
       "      <td>119.553763</td>\n",
       "    </tr>\n",
       "    <tr>\n",
       "      <th>75%</th>\n",
       "      <td>202.966935</td>\n",
       "    </tr>\n",
       "    <tr>\n",
       "      <th>max</th>\n",
       "      <td>294.868280</td>\n",
       "    </tr>\n",
       "  </tbody>\n",
       "</table>\n",
       "</div>"
      ],
      "text/plain": [
       "           av_temp\n",
       "count  1440.000000\n",
       "mean    120.865884\n",
       "std      91.578820\n",
       "min     -58.013441\n",
       "25%      38.106266\n",
       "50%     119.553763\n",
       "75%     202.966935\n",
       "max     294.868280"
      ]
     },
     "execution_count": 7,
     "metadata": {},
     "output_type": "execute_result"
    }
   ],
   "source": [
    "predict_df = weather_df.groupby(['city', 'hour', 'month']).agg({'temp': [np.mean]}).reset_index()\n",
    "\n",
    "predict_df.columns = ['city', 'hour', 'month', 'av_temp']\n",
    "\n",
    "#predict_df.head()\n",
    "\n",
    "predict_df.describe()\n"
   ]
  },
  {
   "cell_type": "code",
   "execution_count": 19,
   "metadata": {
    "collapsed": false
   },
   "outputs": [
    {
     "name": "stdout",
     "output_type": "stream",
     "text": [
      "1441\n"
     ]
    }
   ],
   "source": [
    "predict_list = predict_df.values.tolist()\n",
    "estimator_dict = {}\n",
    "for item in predict_list:\n",
    "    estimator_dict[(item[0], item[1], item[2])] = item[3]  \n",
    "estimator_dict['Other'] = 121\n",
    "\n",
    "    \n",
    "print len(estimator_dict)\n"
   ]
  },
  {
   "cell_type": "code",
   "execution_count": 20,
   "metadata": {
    "collapsed": true
   },
   "outputs": [],
   "source": [
    "class Estimator(object):\n",
    "    def __init__(self, dict):\n",
    "        self.dict = dict\n",
    "    def predict(self, record):\n",
    "        line = record.split()\n",
    "        record_entry  = (line[12], line[3], line[1])\n",
    "        if record_entry in self.dict:\n",
    "            prediction = self.dict[record_entry]\n",
    "        else:\n",
    "            prediction = self.dict['Other']\n",
    "        return prediction\n",
    "    \n",
    "estimator = Estimator(estimator_dict)\n"
   ]
  },
  {
   "cell_type": "code",
   "execution_count": 21,
   "metadata": {
    "collapsed": false
   },
   "outputs": [],
   "source": [
    "#Store the instance using dill.\n",
    "import dill\n",
    "with open('temp_est_file','w') as f:\n",
    "    dill.dump(estimator,f)\n",
    "    "
   ]
  },
  {
   "cell_type": "code",
   "execution_count": 22,
   "metadata": {
    "collapsed": false
   },
   "outputs": [
    {
     "name": "stdout",
     "output_type": "stream",
     "text": [
      "('bos', '02', '01')\n",
      "-12.7768817204\n"
     ]
    }
   ],
   "source": [
    "test = \"2000 01 01 02   xx   -78 10211   230    36     0     0 -9999 bos\"\n",
    "\n",
    "check = test.split()\n",
    "check_entry = (check[12], check[3], check[1])\n",
    "print check_entry\n",
    "\n",
    "answer = estimator.predict(test)\n",
    "print answer\n"
   ]
  },
  {
   "cell_type": "code",
   "execution_count": 23,
   "metadata": {
    "collapsed": false
   },
   "outputs": [
    {
     "name": "stdout",
     "output_type": "stream",
     "text": [
      "-5.21505376344\n"
     ]
    }
   ],
   "source": [
    "check2 = estimator_dict[(u'bos', u'00', u'01')]\n",
    "print check2"
   ]
  },
  {
   "cell_type": "code",
   "execution_count": null,
   "metadata": {
    "collapsed": true
   },
   "outputs": [],
   "source": []
  }
 ],
 "metadata": {
  "kernelspec": {
   "display_name": "Python 2",
   "language": "python",
   "name": "python2"
  },
  "language_info": {
   "codemirror_mode": {
    "name": "ipython",
    "version": 2
   },
   "file_extension": ".py",
   "mimetype": "text/x-python",
   "name": "python",
   "nbconvert_exporter": "python",
   "pygments_lexer": "ipython2",
   "version": "2.7.10"
  }
 },
 "nbformat": 4,
 "nbformat_minor": 0
}
