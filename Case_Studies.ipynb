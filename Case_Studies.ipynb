{
 "cells": [
  {
   "cell_type": "code",
   "execution_count": null,
   "metadata": {
    "collapsed": true
   },
   "outputs": [],
   "source": [
    "%matplotlib inline\n",
    "import matplotlib\n",
    "import seaborn as sns\n",
    "matplotlib.rcParams['savefig.dpi'] = 2 * matplotlib.rcParams['savefig.dpi']"
   ]
  },
  {
   "cell_type": "markdown",
   "metadata": {},
   "source": [
    "# The purpose of case studies\n",
    "We're going to practice doing some \"case studies\" mixing thinking about business questions and data-driven / data science solutions to them.  Depending on the form of the question, going through such a case will involve some or all of the following steps:\n",
    "\n",
    "**Given:** A business question or problem.\n",
    "\n",
    "**Step 1:** _Structure the problem_.  This means hypothesize some key inputs to understanding the question or problem, and/or the levers and metrics that need to be tracked to address it.  This may be a place to draw a tree, or write down a formula, to try to break up something complicated into simpler pieces.  \n",
    "\n",
    "**Step 2:** _Plan the data_. Identify what existing (or hypothetical) data you will want to look at or collect.  Consider data availability / quality / cost / etc.\n",
    "\n",
    "** Step 3:** _Plan the analysis_.  Is there a single model, or several related sub-models?  For each: Is it a regression or a classification problem, supervised or unsupervised?  What are some plausible features?  How will you test it?\n",
    "\n",
    "\n",
    "We will talk through the following sorts of examples:\n",
    "- Default risk\n",
    "- Web user growth issues\n",
    "- Value of a new feature\n",
    "- Advertising\n",
    "- Fraud"
   ]
  },
  {
   "cell_type": "code",
   "execution_count": null,
   "metadata": {
    "collapsed": false
   },
   "outputs": [],
   "source": [
    "import mistune\n",
    "from IPython.display import HTML"
   ]
  },
  {
   "cell_type": "markdown",
   "metadata": {},
   "source": [
    "## An online dating platform\n",
    "\n",
    "**The question**: Dater is an online dating platform.  They experienced a tremendous amount of user growth in their first two years but growth has recently declined.  Help them understand what's happening and how to turn it around.\n",
    "\n",
    "**Spoilers / structure below**:"
   ]
  },
  {
   "cell_type": "code",
   "execution_count": null,
   "metadata": {
    "collapsed": false
   },
   "outputs": [],
   "source": [
    "md_sec=\"\"\"\n",
    "####Dhrfgvbaf gb nfx:\n",
    "1. Ner crbcyr ratntvat jvgu gur jrofvgr (jung ner gur evtug zrgevpf sbe ratntrzrag, cebsvyr ivrjf cre ivfvg? ivfvgf cre jrrx?)\n",
    "1. Ubj qvq crbcyr hfr gb urne nobhg gur jrofvgr (creuncf erpbzzraq n sevraq sbe Qngre vf abj oebxra?)\n",
    "1. Bs cerivbhf hfref jub wbvarq gur jrofvgr, jung qvq byq hfref qb va gurve svefg jrrx gung znqr gurz zber yvxryl gb or ybat grez npgvir zrzoref?  Jevgr n syvegngvbhf zrffntr?  Ohl tvsgf sbe zrzoref?  Ivrj ybgf bs cntrf?\n",
    "1. Pna jr genpx hfre fngvfsnpgvba?  Ner hfref whfg abg fngvfsvrq jvgu gur freivpr naq jbeq vf trggvat bhg?  Ubj jbhyq lbh zrnfher fngvfsnpgvba?  Ba n qngvat jrofvgr, vg'f uneq gb xabj vs crbcyr tb ba n qngr.\n",
    "1. Pna jr ernpgvir yncfrq hfref?  Ybbx ng rkvfgvat yncfrq hfref jub unir er-ratntrq naq frr jung gurl ner qbvat.\n",
    "1. Fyvpr gur ybffrf (rvgure sebz yncfrq hfref be fybjre hfre npdhvgvbaf) ol qrzbtencuvpf.  Vs gur ybffrf ner pbapragengrq va n fcrpvsvp qrzbtencuvp, ner gurer pbzcrgvgbef va gung fcnpr?\n",
    "\"\"\"\n",
    "\n",
    "# HTML(mistune.markdown(md_sec.encode('rot13')))"
   ]
  },
  {
   "cell_type": "markdown",
   "metadata": {},
   "source": [
    "## A new feature on a website\n",
    "\n",
    "We're launching a new feature on our website.  The feature is a recommendation engine that should get people to visit more of our content pages.  What is the value of this new feature?"
   ]
  },
  {
   "cell_type": "code",
   "execution_count": null,
   "metadata": {
    "collapsed": false
   },
   "outputs": [],
   "source": [
    "md_sec=\"\"\"\n",
    "###Svefg fgno ng na nafjre:\n",
    "\n",
    "Urer'f gur fvzcyrfg cbffvoyr zbqry -- jurer jr nffhzr gung gur dhrfgvba vf npghnyyl pbeerpg va vgf sbezhyngvba: \n",
    "Gung vf, gung gur znva vzcnpg bs gur erpbzzraqngvba ratvar vf vapernfvat gur ahzore bs cntrf ivfvgrq cre hfre.\n",
    "\n",
    "####Guvatf lbh fubhyq nfx sbe:\n",
    "- Ubj znal cntrf qvq n hfre glcvpnyyl ivfvg cre ivfvg gb gur fvgr, cevbe gb gur arj srngher? (10 cntrf - ubj jbhyq lbh svther guvf bhg?)\n",
    "- Ubj znal cntrf qb lbh rkcrpg n hfre gb ivfvg jvgu gur arj srngher va cynpr?  (12 cntrf - ubj jbhyq lbh svther guvf bhg?)\n",
    "- Vf gurer na vapernfr va serdhrapl bs ivfvgf ol gur fnzr hfre? (Jr xabj sebz cevbe rkcrevrapr gung hfref jub frr 12 cntrf pbzr onpx va bar zbagu engure guna gjb -- JNEAVAT, cbbe pbzcnenoyr.)\n",
    "- Ubj qbrf gur jrofvgr zbargvmr?  (Jr'er na r-pbzzrepr cyngsbez, jr fryy fghss.)\n",
    "- Jung'f gur chepunfr engr cre cntr ivrj (Vg'f pheeragyl ng 0.01% -- JNEAVAT, cbbe pbzcnenoyr.)\n",
    "- Jung vf gur glcvpny onfxrg fvmr (\\$100).\n",
    "- Ubj znal ivfvgbef qb jr trg n zbagu?  (1 zvyyvba).\n",
    "\n",
    "####Nafjre:\n",
    "- Rkgen erirahr cre zbagu = \\$100 k 0.01% k 1 zvyyvba ivfvgf k 10 ivrjf k (20% = yvsg sebz zber cntrf cre ivfvg) k (2 = yvsg sebz serdhrapl bs ergheaf) = \\$40X.\n",
    "- Jung vf jrnx nobhg gurfr nffhzcgvbaf?\"\"\"\n",
    "\n",
    "# HTML(mistune.markdown(md_sec.encode('rot13')))"
   ]
  },
  {
   "cell_type": "code",
   "execution_count": null,
   "metadata": {
    "collapsed": false
   },
   "outputs": [],
   "source": [
    "md_sec=\"\"\"\n",
    "## Freivpr inyhr pbafvqrengvbaf\n",
    "\n",
    "_Yvsrgvzr inyhr bs npgvir hfre_ = (# bs ivfvgf) * (# pbairefvbaf cre ivfvg) * (# inyhr bs pbairefvba)\n",
    "\n",
    "_Yvsrgvzr inyhr bs freivpr_ = (# bs npgvir hfref) * (Yvsrgvzr inyhr bs npgvir hfre)\n",
    "\n",
    "_Qrzbtencuvpf_: traqre, enpr, vapbzr, trbtencul, ntr.\n",
    "(r.t., vzntvar lbhe srngher vzcnpgrq bar qrzbtencuvp zber guna bguref)\n",
    "\n",
    "_Pbairefvba_ = chepunfr be nq pyvpx, qrcraqvat ba zbqry.\n",
    "\n",
    "_Pbfg gb nggnva n hfre_\n",
    "- Pbhcbaf\n",
    "- Yrnq trarengvba (zbfgyl Tbbtyr, FRB, pbairefvba engr sbe nq jbeqf)\n",
    "\n",
    "_Rknzcyrf_\n",
    "- Fryyvat n jvqtrg bayvar / zrqvn pbagrag pzbcnal.\n",
    "- Svkrq naq inevnoyr pbfgf.\n",
    "- Aba-svanapvny zrgevp\n",
    "- Npgvir hfref if. aba-npgvir hfref.  Xrrc crbcyr sebz yrnivat.\n",
    "- Pnanonyvmvat lbhe bja srngherf\n",
    "- Pbzcyrzragnel tbbq gb rkvfgvat srngherf\n",
    "- Pbzcyrzragnel if pbzcrgvgvir sbe hfref.\n",
    "- Hcfryyvat.\n",
    "\n",
    "_Bgure Pbafvqrengvbaf_:\n",
    "\n",
    "- Ivenyvgl pbzcbarag (gb freivprf, nqf).  \n",
    "- Qverpg inyhr bs hfre qngn.\n",
    "- Fjvgpuvat pbfg sbe hfref.\n",
    "\"\"\"\n",
    "\n",
    "# HTML(mistune.markdown(md_sec.encode('rot13')))"
   ]
  },
  {
   "cell_type": "markdown",
   "metadata": {},
   "source": [
    "## Coupon profitability\n",
    "\n",
    "Our company ran a trial ad offering online coupons for \\$20 off our widgets. The trial run had 1000 redemptions.  Should we scale up the program?\n"
   ]
  },
  {
   "cell_type": "code",
   "execution_count": null,
   "metadata": {
    "collapsed": false
   },
   "outputs": [],
   "source": [
    "md_sec = \"\"\"\n",
    "####Guvatf lbh fubhyq nfx sbe:\n",
    "1. Ubj zhpu qvq gubfr bayvar nqf pbfg: pbfg cre npgvba vf \\$5.\n",
    "1. Jung vf gur znetvany cebsvg ba n jvqtrg: \\$10\n",
    "1. Ner hfref jr trg erpheevat?  Vs fb ubj znal zber chepunfrf qb jr rkcrpg gurz gb znxr: gur nirentr hfre znxrf 5 chepunfrf ba bhe jrofvgr (JNEAVAT - vf bhe uvfgbevpny hfre cbby n tbbq tnhtr)\n",
    "1. Ner jr pnanonyvmvat rkvfgvat fnyrf?  (Vs guvf vf n fznyy senpgvba bs fnyrf, guvf vf uneq gb gryy.  Vs gur pbhcba jnf zrnag gb gnetrg n arj qrzbtencuvp, lbh pbhyq frr vs gur erqrzcgvbaf jrer sebz crbcyr jub orybat gb gur qrzbtencuvp).\n",
    "\"\"\"\n",
    "\n",
    "# HTML(mistune.markdown(md_sec.encode('rot13')))"
   ]
  },
  {
   "cell_type": "markdown",
   "metadata": {},
   "source": [
    "## Credit card insurance\n",
    "\n",
    "A credit card company is considering issuing default insurance.  In exchange for a 1% monthly fee, they will offer to pay off your balance in the event of certain specific adverse events: if you lose your job or are disabled.  The question is: what is the profitability of this?\n",
    "\n",
    "Follow-up question: What about the profitability of a plain credit card offering?\n"
   ]
  },
  {
   "cell_type": "code",
   "execution_count": null,
   "metadata": {
    "collapsed": false
   },
   "outputs": [],
   "source": [
    "md_sec = \"\"\"\n",
    "#### Guvatf lbh fubhyq nfx sbe:\n",
    "- Jung vf gur pbfg bs phfgbzre npdhvfvgba: 50 pragf sbe n znvyre naq 1% erfcbafr (ubj jbhyq lbh rfgvzngr gur erfcbafr engr)\n",
    "- Jung vf gur pbfg bs pynvzf bire pbfg bs qrsnhyg: 5% pynvzf engr, qrsnhyg vf 3%.\n",
    "- Jung vf gur grez bs gur ybna: 12 zbaguf\n",
    "- Jung vf gur glcvpny zbaguyl onynapr: $1000\n",
    "\n",
    "### Cebsvgnovyvgl: \n",
    "- cre obeebjre: \\$120 erirahr - (\\$20 bs jevgr-bssf + \\$50 sbe phfgbzre npdhvfvgvba).\n",
    "- Abgr: ab pbfg bs pncvgny\n",
    "- Abgr: fubhyq zragvba zbeny unmneq ceboyrz.  Jvgu zbeny unmneq, lbh fubhyq nffhzr lbhe pbfgf tb jnl hc -- nyzbfg pregnvayl rabhtu gb xvyy gur cebqhpg.\n",
    "\"\"\"\n",
    "\n",
    "# HTML(mistune.markdown(md_sec.encode('rot13')))"
   ]
  },
  {
   "cell_type": "markdown",
   "metadata": {},
   "source": [
    "## A LinkedIn ad campaign\n",
    "-------------------------\n",
    "\n",
    "Your company is considering using LinkedIn to send messages to prospective students.  A message costs \\$1 to send.  We can also target messages based on user profiles and we know if they opened the message.  Who should we target the campaign to, how much should we expect to spend, and how many customers do we expect to get?\n",
    "\n"
   ]
  },
  {
   "cell_type": "code",
   "execution_count": null,
   "metadata": {
    "collapsed": false
   },
   "outputs": [],
   "source": [
    "md_sec = \"\"\"\n",
    "####Nafjref\n",
    "1. Fraq n fznyy pnzcnvta gb crbcyr lbh guvax ner yvxryl gb pbaireg onfrq ba nq-ubp ehyrf.  Hfr guvf nf genvavat qngn.  Ubj qb lbh guvax nobhg gur fvmr bs guvf pnzcnvta?\n",
    "1. Eha n pynffvsvre nytbevguz gb vqragvsl jub'f zbfg yvxryl gb erfcbaq onfrq ba hfre cebsvyrf.\n",
    "1. Nfx sbe gur yvsrgvzr inyhr bs n phfgbzre: $20.  Bayl fraq zrffntrf gb crbcyr nobir n pbairefvba cebonovyvgl guerfubyq (juvpu jvyy arire or yrff guna 5%).\n",
    "1. Hfvat gur cerpvfvba genqrbss pheir, jr fubhyq or noyr gb pbzchgr gur nafjref sbe inevbhf crepragntr phgbssf.\n",
    "\n",
    "####Guvatf lbh fubhyq abgr\n",
    "1. N/O grfg zrffntrf\n",
    "1. Fryrpgvba ovnf va gur qrfvta bs lbhe fznyy pnzcnvta:\n",
    "    1. Lbh qba'g jnag gb fraq zrffntrf gb crbcyr jub ner abg yvxryl gb erfcbaq (orpnhfr lbh'er abg yrneavat nalguvat) ohg lbh zvtug nyfb zvff n tebhc bs sbyxf jub pbhyq erfcbaq jryy.\n",
    "    1. Grzcbeny rssrpgf (erfcbafr ba qvssrerag qnlf bs gur jrrx inel).\n",
    "1. Gurer'f n ybg bs crbcyr ba YvaxrqVa: gnetrg cerpvfvba, abg erpnyy vavgvnyyl gb inyvqngr gur pbaprcg.\n",
    "\n",
    "####Rkgrafvbaf\n",
    "1. Jung vs jr ner guvaxvat nobhg ohlvat Tbbtyr nq jbeqf?  Eubhtuyl fcrnxvat, guvf vf gur fnzr ceboyrz rkprcg nyy havgf ner cre havg gvzr.\n",
    "1. Nq rssrpgvirarff tbrf qbja jvgu rkcbfherf fb lbhe ryyvtvoyr cbchyngvba vf qrpernfvat.\n",
    "\"\"\"\n",
    "\n",
    "# HTML(mistune.markdown(md_sec.encode('rot13')))"
   ]
  },
  {
   "cell_type": "markdown",
   "metadata": {},
   "source": [
    "## Fraud detection\n",
    "\n",
    "What's the right metric?  Do you have ground truth?\n",
    "\n",
    "People usually care about true positives versus false positives."
   ]
  },
  {
   "cell_type": "markdown",
   "metadata": {},
   "source": [
    "### More questions"
   ]
  },
  {
   "cell_type": "markdown",
   "metadata": {},
   "source": [
    "1. You are an employer and you're finding that some of your employees are becoming dissatisfied and leaving.  How would you predict who is most at risk for leaving soon?  How would you use this information?\n",
    "\n",
    "1. Online advertising works based on an auction where the auction bid (score) is the product of your predicted conversion rate and the ad unit's bid.  Write an algorithm to determine the optimal bid.\n",
    "\n",
    "1. We are an advertising company that delivers ads based on a keyword system.  People type searchwords into the browser and, based on pre-specified keywords the advertiser has chosen, they are eligible to show ads against certain queries.  We have a large advertiser coming onboard and our sales team needs to know how much of an advertising budget to request from them for the next quarter.  It's bad to under-deliver but we cannot ask for a larger advertising budget later in the quarter -- how large of a budget do we ask for?\n",
    "\n",
    "1. How would you track user engagement with an article on our website?\n",
    "\n",
    "1. How would you build a recommender system for venues in FourSquare?\n",
    "\n",
    "1. If you have historical drug spending data, how can you predict which consumers are likely to adhere to their drug regimens?\n",
    "\n",
    "1. If you have predictions of treatment regimen adherence, how would you determine how much of a discount you should offer an individual?\n",
    "\n",
    "1. How would you use social media data to improve offering of personal loans?\n",
    "\n",
    "1. How would you find duplicate entries in a contacts book?\n",
    "\n",
    "1. You are an online retailer that shows users items from a broad catalog.  How do you measure user fatigue / novelty of items, and how would you determine the optimal number of times to show someone an item to get them to purchase it online?\n",
    "\n",
    "1. Given certain precision and recall numbers, value of a mailer to send out, could you calculate the return?"
   ]
  },
  {
   "cell_type": "markdown",
   "metadata": {},
   "source": [
    "### More general notes"
   ]
  },
  {
   "cell_type": "markdown",
   "metadata": {},
   "source": [
    "## User growth problems\n",
    "----------------------\n",
    "\n",
    "**Main user segments:**\n",
    "1. New users\n",
    "1. Retaining existing users\n",
    "1. Re-engaging lapsed users\n",
    "\n",
    "**The general technique:** (for any of the 3 segments)  Look at historical users and what explained their success:\n",
    "1. Demographic factors (gender, race, income, geography, age).  Most applications ask for gender and age.  Geography can sometimes be inferred from IP address.  Race and income are difficult.\n",
    "1. Actions taken (or not taken) on the website immediately after sign-on (e.g. add friends, page views, \"likes\", check-ins, leave a review).\n",
    "1. Social factors (in a social network), how active are their friends?\n",
    "\n",
    "**Actions you can take:**\n",
    "1. Email users (targeted messages, do certain types of users respond better to messages?).\n",
    "1. Customize the feed: most websites have a feed of content.  The content should be compelling to users.\n",
    "1. Pop-ups and other attention-getting instruments to drive desired behavior (e.g. add a friend).\n",
    "1. Social: get friends who are established on the website to engage with the user through the site.  Even if the action is not valuable for helping to retain the friend, it can be helpful to engage the new user.\n",
    "\n",
    "**Important takeaway:** The global metric is clear (user growth).  However, you often need to break it down into intermediate local metrics (e.g. adding a friend, clicking on content etc.) and then understand how those local metrics impact the primary metric.\n",
    "\n",
    "**General proviso:** You probably don't need machine-learning.  Explicability is more important than precision in this kind of exercise, because the actionable insights gained have to be implemented by other teams.  A big exception is a \"feed\" where the recommendations can be machine-learned to optimize for a metric."
   ]
  },
  {
   "cell_type": "markdown",
   "metadata": {},
   "source": [
    "## What is the value of a customer?\n",
    "-----------------------------------\n",
    "\n",
    "Remember, the scientific metric is not always the business metric!\n",
    "\n",
    "1. Credit customer question, Components:\n",
    "    1. Cost of customer acquisition\n",
    "    1. Default Rates, recovery amount\n",
    "    1. Premiums earned\n",
    "1. Consumer Internet User value question\n",
    "    1. Ads shown * Click-through rate * average spend / Monthly Actives\n",
    "    1. Given a new model, how would you project increase in revenue (answer: lift in precision @ 1, A/B Test)."
   ]
  },
  {
   "cell_type": "markdown",
   "metadata": {},
   "source": [
    "### Exit Tickets\n",
    "1. What are three common assumptions you should expect to run into?\n",
    "1. How do you distinguish between the effects of your actions and external factors?\n",
    "1. How do you calculate the value of a user?"
   ]
  },
  {
   "cell_type": "code",
   "execution_count": null,
   "metadata": {
    "collapsed": false
   },
   "outputs": [],
   "source": []
  },
  {
   "cell_type": "code",
   "execution_count": null,
   "metadata": {
    "collapsed": false
   },
   "outputs": [],
   "source": [
    "\n"
   ]
  },
  {
   "cell_type": "markdown",
   "metadata": {},
   "source": [
    "### Spoiler generation..."
   ]
  },
  {
   "cell_type": "code",
   "execution_count": null,
   "metadata": {
    "collapsed": false
   },
   "outputs": [],
   "source": [
    "print \"\"\"\n",
    "####Questions to ask:\n",
    "1. Are people engaging with the website (what are the right metrics for engagement, profile views per visit? visits per week?)\n",
    "1. How did people use to hear about the website (perhaps recommend a friend for Dater is now broken?)\n",
    "1. Of previous users who joined the website, what did old users do in their first week that made them more likely to be long term active members?  Write a flirtatious message?  Buy gifts for members?  View lots of pages?\n",
    "1. Can we track user satisfaction?  Are users just not satisfied with the service and word is getting out?  How would you measure satisfaction?  On a dating website, it's hard to know if people go on a date.\n",
    "1. Can we reactive lapsed users?  Look at existing lapsed users who have re-engaged and see what they are doing.\n",
    "1. Slice the losses (either from lapsed users or slower user acquitions) by demographics.  If the losses are concentrated in a specific demographic, are there competitors in that space?\n",
    "\"\"\".encode('rot13')"
   ]
  },
  {
   "cell_type": "code",
   "execution_count": null,
   "metadata": {
    "collapsed": false
   },
   "outputs": [],
   "source": [
    "print \"\"\"\n",
    "###First stab at an answer:\n",
    "\n",
    "Here's the simplest possible model -- where we assume that the question is actually correct in its formulation: \n",
    "That is, that the main impact of the recommendation engine is increasing the number of pages visited per user.\n",
    "\n",
    "####Things you should ask for:\n",
    "- How many pages did a user typically visit per visit to the site, prior to the new feature? (10 pages - how would you figure this out?)\n",
    "- How many pages do you expect a user to visit with the new feature in place?  (12 pages - how would you figure this out?)\n",
    "- Is there an increase in frequency of visits by the same user? (We know from prior experience that users who see 12 pages come back in one month rather than two -- WARNING, poor comparable.)\n",
    "- How does the website monetize?  (We're an e-commerce platform, we sell stuff.)\n",
    "- What's the purchase rate per page view (It's currently at 0.01% -- WARNING, poor comparable.)\n",
    "- What is the typical basket size (\\$100).\n",
    "- How many visitors do we get a month?  (1 million).\n",
    "\n",
    "####Answer:\n",
    "- Extra revenue per month = \\$100 x 0.01% x 1 million visits x 10 views x (20% = lift from more pages per visit) x (2 = lift from frequency of returns) = \\$40K.\n",
    "- What is weak about these assumptions?\n",
    "\"\"\".encode('rot13')"
   ]
  },
  {
   "cell_type": "code",
   "execution_count": null,
   "metadata": {
    "collapsed": false
   },
   "outputs": [],
   "source": [
    "print \"\"\"\n",
    "## Service value considerations\n",
    "\n",
    "_Lifetime value of active user_ = (# of visits) * (# conversions per visit) * (# value of conversion)\n",
    "\n",
    "_Lifetime value of service_ = (# of active users) * (Lifetime value of active user)\n",
    "\n",
    "_Demographics_: gender, race, income, geography, age.\n",
    "(e.g., imagine your feature impacted one demographic more than others)\n",
    "\n",
    "_Conversion_ = purchase or ad click, depending on model.\n",
    "\n",
    "_Cost to attain a user_\n",
    "- Coupons\n",
    "- Lead generation (mostly Google, SEO, conversion rate for ad words)\n",
    "\n",
    "_Examples_\n",
    "- Selling a widget online / media content cmopany.\n",
    "- Fixed and variable costs.\n",
    "- Non-financial metric\n",
    "- Active users vs. non-active users.  Keep people from leaving.\n",
    "- Canabalizing your own features\n",
    "- Complementary good to existing features\n",
    "- Complementary vs competitive for users.\n",
    "- Upselling.\n",
    "\n",
    "_Other Considerations_:\n",
    "\n",
    "- Virality component (to services, ads).  \n",
    "- Direct value of user data.\n",
    "- Switching cost for users.\n",
    "\"\"\".encode('rot13')"
   ]
  },
  {
   "cell_type": "code",
   "execution_count": null,
   "metadata": {
    "collapsed": false
   },
   "outputs": [],
   "source": [
    "print \"\"\"\n",
    "\n",
    "#### Things you should ask for:\n",
    "1. How much did those online ads cost: cost per action is \\$5.\n",
    "1. What is the marginal profit on a widget: \\$10\n",
    "1. Are users we get recurring?  If so how many more purchases do we expect them to make: the average user makes 5 purchases on our website (WARNING - is our historical user pool a good gauge)\n",
    "1. Are we canabalizing existing sales?  (If this is a small fraction of sales, this is hard to tell.  If the coupon was meant to target a new demographic, you could see if the redemptions were from people who belong to the demographic).\n",
    "\n",
    "\"\"\".encode('rot13')"
   ]
  },
  {
   "cell_type": "code",
   "execution_count": null,
   "metadata": {
    "collapsed": false
   },
   "outputs": [],
   "source": [
    "print \"\"\"\n",
    "\n",
    "#### Things you should ask for:\n",
    "- What is the cost of customer acquisiton: 50 cents for a mailer and 1% response (how would you estimate the response rate)\n",
    "- What is the cost of claims over cost of default: 5% claims rate, default is 3%.\n",
    "- What is the term of the loan: 12 months\n",
    "- What is the typical monthly balance: $1000\n",
    "\n",
    "#### Profitability: \n",
    "per borrower: \\$120 revenue - (\\$20 of write-offs + \\$50 for customer acquisition).\n",
    "- Note: no cost of capital\n",
    "- Note: should mention moral hazard problem.  With moral hazard, you should assume your costs go way up -- almost certainly enough to kill the product.\n",
    "\n",
    "\"\"\".encode('rot13')"
   ]
  },
  {
   "cell_type": "code",
   "execution_count": null,
   "metadata": {
    "collapsed": false
   },
   "outputs": [],
   "source": [
    "print \"\"\"\n",
    "####Answers\n",
    "1. Send a small campaign to people you think are likely to convert based on ad-hoc rules.  Use this as training data.  How do you think about the size of this campaign?\n",
    "1. Run a classifier algorithm to identify who's most likely to respond based on user profiles.\n",
    "1. Ask for the lifetime value of a customer: $20.  Only send messages to people above a conversion probability threshold (which will never be less than 5%).\n",
    "1. Using the precision tradeoff curve, we should be able to compute the answers for various percentage cutoffs.\n",
    "\n",
    "####Things you should note\n",
    "1. A/B test messages\n",
    "1. Selection bias in the design of your small campaign:\n",
    "    1. You don't want to send messages to people who are not likely to respond (because you're not learning anything) but you might also miss a group of folks who could respond well.\n",
    "    1. Temporal effects (response on different days of the week vary).\n",
    "1. There's a lot of people on LinkedIn: target precision, not recall initially to validate the concept.\n",
    "\n",
    "####Extensions\n",
    "1. What if we are thinking about buying Google ad words?  Rhoughly speaking, this is the same problem except all units are per unit time.\n",
    "1. Ad effectiveness goes down with exposures so your elligible population is decreasing.\n",
    "\"\"\".encode('rot13')"
   ]
  },
  {
   "cell_type": "code",
   "execution_count": null,
   "metadata": {
    "collapsed": false
   },
   "outputs": [],
   "source": []
  },
  {
   "cell_type": "markdown",
   "metadata": {},
   "source": [
    "*Copyright &copy; 2015 The Data Incubator.  All rights reserved.*"
   ]
  }
 ],
 "metadata": {
  "kernelspec": {
   "display_name": "Python 2",
   "language": "python",
   "name": "python2"
  },
  "language_info": {
   "codemirror_mode": {
    "name": "ipython",
    "version": 2
   },
   "file_extension": ".py",
   "mimetype": "text/x-python",
   "name": "python",
   "nbconvert_exporter": "python",
   "pygments_lexer": "ipython2",
   "version": "2.7.10"
  }
 },
 "nbformat": 4,
 "nbformat_minor": 0
}
