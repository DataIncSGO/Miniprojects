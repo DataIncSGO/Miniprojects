{
 "cells": [
  {
   "cell_type": "code",
   "execution_count": 1,
   "metadata": {
    "collapsed": false
   },
   "outputs": [],
   "source": [
    "#Imports\n",
    "from pyspark import SparkContext #Library\n",
    "sc = SparkContext(\"local[*]\", \"temp\") #Start a spart context\n",
    "\n",
    "from pyspark.ml.feature import Word2Vec\n",
    "from pyspark.sql import SQLContext\n",
    "sqlContext = SQLContext(sc)\n",
    "\n",
    "import xml.etree.ElementTree as ET\n",
    "\n"
   ]
  },
  {
   "cell_type": "code",
   "execution_count": 16,
   "metadata": {
    "collapsed": false
   },
   "outputs": [
    {
     "name": "stdout",
     "output_type": "stream",
     "text": [
      "MapPartitionsRDD[86] at textFile at NativeMethodAccessorImpl.java:-2\n"
     ]
    },
    {
     "data": {
      "text/plain": [
       "47946654"
      ]
     },
     "execution_count": 16,
     "metadata": {},
     "output_type": "execute_result"
    }
   ],
   "source": [
    "posts_lines = sc.textFile(\"file:///home/vagrant/miniprojects/spark/full/allPosts/*.gz\") #create an RDD from file\n",
    "print posts_lines\n",
    "posts_lines.count()\n"
   ]
  },
  {
   "cell_type": "code",
   "execution_count": 17,
   "metadata": {
    "collapsed": false
   },
   "outputs": [],
   "source": [
    "def parsePost(line):\n",
    "    if '<row'in line:\n",
    "        try:\n",
    "            root = ET.fromstring(line.encode('utf8').strip())\n",
    "        except:\n",
    "            pass\n",
    "            return (\"Empty\")\n",
    "            \n",
    "        if root != '':\n",
    "            if \"Tags\" in root.attrib:\n",
    "                    try:\n",
    "                        data = root.attrib[\"Tags\"]\n",
    "                    except:\n",
    "                        pass\n",
    "                        return (\"Empty\")\n",
    "                    data = data.replace(\"<\", \" \").replace(\">\", \" \")\n",
    "                    return data\n",
    "            else:\n",
    "                return(\"Empty\")\n",
    "        else:\n",
    "            return(\"Empty\")\n",
    "    else:\n",
    "        return(\"Empty\")\n",
    "            \n",
    "        "
   ]
  },
  {
   "cell_type": "code",
   "execution_count": 18,
   "metadata": {
    "collapsed": false
   },
   "outputs": [
    {
     "name": "stdout",
     "output_type": "stream",
     "text": [
      "DataFrame[text: array<string>, score: bigint]\n",
      "[Row(text=[u'', u'optimization', u'', u'cuda', u''], score=1), Row(text=[u'', u'java', u'', u'android', u'', u'linux', u'', u'networking', u'', u'sshj', u''], score=1), Row(text=[u'', u'python', u'', u'python-3.x', u'', u'dictionary', u''], score=1), Row(text=[u'', u'android', u''], score=1), Row(text=[u'', u'solr', u'', u'elasticsearch', u'', u'morelikethis', u''], score=1), Row(text=[u'', u'android', u'', u'android-intent', u'', u'call', u''], score=1), Row(text=[u'', u'ruby', u'', u'dictionary', u''], score=1), Row(text=[u'', u'java', u'', u'android', u'', u'class', u'', u'bluetooth', u'', u'android-bluetooth', u''], score=1), Row(text=[u'', u'jsp', u'', u'error-handling', u'', u'struts-1.x', u''], score=1), Row(text=[u'', u'bash', u'', u'arguments', u''], score=1), Row(text=[u'', u'codeigniter', u''], score=1), Row(text=[u'', u'c++', u'', u'class', u'', u'templates', u''], score=1), Row(text=[u'', u'c++', u'', u'cmake', u''], score=1), Row(text=[u'', u'actionscript-3', u'', u'flashdevelop', u''], score=1), Row(text=[u'', u'php', u'', u'arrays', u'', u'for-loop', u''], score=1), Row(text=[u'', u'javascript', u'', u'jquery', u''], score=1), Row(text=[u'', u'php', u'', u'mysql', u'', u'arrays', u''], score=1), Row(text=[u'', u'nexus', u'', u'jersey-client', u''], score=1), Row(text=[u'', u'jenkins', u''], score=1), Row(text=[u'', u'asp.net-mvc', u'', u'visual-studio-2013', u'', u'yahoo-oauth', u''], score=1)]\n"
     ]
    }
   ],
   "source": [
    "\n",
    "content = posts_lines.map(parsePost).filter(lambda x: x!= 'Empty')\\\n",
    "            .map(lambda line: (line.split(\" \"), 1)).toDF(['text', 'score'])\n",
    "\n",
    "print content\n",
    "content.count()\n",
    "print content.take(20)"
   ]
  },
  {
   "cell_type": "code",
   "execution_count": 19,
   "metadata": {
    "collapsed": false
   },
   "outputs": [],
   "source": [
    "w2v = Word2Vec(inputCol=\"text\",vectorSize=100, seed=42L) \n",
    "model = w2v.fit(content)\n"
   ]
  },
  {
   "cell_type": "code",
   "execution_count": 20,
   "metadata": {
    "collapsed": false
   },
   "outputs": [
    {
     "name": "stdout",
     "output_type": "stream",
     "text": [
      "[Row(word=u'lattice', similarity=3.524193114110293), Row(word=u'data.table', similarity=3.3310135983354088), Row(word=u'plyr', similarity=3.3025323727585065), Row(word=u'data.frame', similarity=3.289413454401584), Row(word=u'boxplot', similarity=3.283173644508127), Row(word=u'shiny', similarity=3.229499163582802), Row(word=u'dplyr', similarity=3.1751775821156856), Row(word=u'reshape', similarity=3.137661829586672), Row(word=u'xts', similarity=3.135725747540133), Row(word=u'plot', similarity=3.0837451419287265), Row(word=u'rstudio', similarity=3.0748395155952974), Row(word=u'time-series', similarity=3.0575445126499283), Row(word=u'legend', similarity=3.0381227646791773), Row(word=u'lm', similarity=3.035470365285809), Row(word=u'ggmap', similarity=3.011285446212616), Row(word=u'reshape2', similarity=3.0104954805609343), Row(word=u'axis-labels', similarity=2.994953293973785), Row(word=u'quantmod', similarity=2.993072617965781), Row(word=u'rgl', similarity=2.9858464230342263), Row(word=u'facet-wrap', similarity=2.966235297053326), Row(word=u'geom-bar', similarity=2.9635844933024518), Row(word=u'heatmap', similarity=2.958948121687268), Row(word=u'r-factor', similarity=2.952065058289612), Row(word=u'regression', similarity=2.946026635030315), Row(word=u'zoo', similarity=2.9265415841897378), Row(word=u'anova', similarity=2.9254672966769504), Row(word=u'na', similarity=2.9214207754409065), Row(word=u'r-grid', similarity=2.9209730828078917), Row(word=u'levelplot', similarity=2.9167877063157213), Row(word=u'gridextra', similarity=2.912113238193909), Row(word=u'scatter-plot', similarity=2.9104741473141718), Row(word=u'plotmath', similarity=2.8915891492485977), Row(word=u'igraph', similarity=2.889485801995395), Row(word=u'data-manipulation', similarity=2.867677986490278), Row(word=u'gam', similarity=2.8676542963208824), Row(word=u'vegan', similarity=2.8665153181719822), Row(word=u'forecasting', similarity=2.859913265101068), Row(word=u'knitr', similarity=2.8503893042300565), Row(word=u'performanceanalytics', similarity=2.844778968907316), Row(word=u'ecdf', similarity=2.840918870418886)]\n"
     ]
    }
   ],
   "source": [
    "result = model.findSynonyms('ggplot2', 40).rdd.take(40)\n",
    "print result\n"
   ]
  },
  {
   "cell_type": "code",
   "execution_count": 21,
   "metadata": {
    "collapsed": false
   },
   "outputs": [
    {
     "name": "stdout",
     "output_type": "stream",
     "text": [
      "[('lattice', 3.524193114110293), ('data.table', 3.3310135983354088), ('plyr', 3.3025323727585065), ('data.frame', 3.289413454401584), ('boxplot', 3.283173644508127), ('shiny', 3.229499163582802), ('dplyr', 3.1751775821156856), ('reshape', 3.137661829586672), ('xts', 3.135725747540133), ('plot', 3.0837451419287265), ('rstudio', 3.0748395155952974), ('time-series', 3.0575445126499283), ('legend', 3.0381227646791773), ('lm', 3.035470365285809), ('ggmap', 3.011285446212616), ('reshape2', 3.0104954805609343), ('axis-labels', 2.994953293973785), ('quantmod', 2.993072617965781), ('rgl', 2.9858464230342263), ('facet-wrap', 2.966235297053326), ('geom-bar', 2.9635844933024518), ('heatmap', 2.958948121687268), ('r-factor', 2.952065058289612), ('regression', 2.946026635030315), ('zoo', 2.9265415841897378)]\n"
     ]
    }
   ],
   "source": [
    "\n",
    "answer=[]\n",
    "for i in range(0,25):\n",
    "    answer.append((str(result[i][0]), result[i][1]))\n",
    "print answer"
   ]
  },
  {
   "cell_type": "code",
   "execution_count": null,
   "metadata": {
    "collapsed": true
   },
   "outputs": [],
   "source": []
  }
 ],
 "metadata": {
  "kernelspec": {
   "display_name": "Python 2",
   "language": "python",
   "name": "python2"
  },
  "language_info": {
   "codemirror_mode": {
    "name": "ipython",
    "version": 2
   },
   "file_extension": ".py",
   "mimetype": "text/x-python",
   "name": "python",
   "nbconvert_exporter": "python",
   "pygments_lexer": "ipython2",
   "version": "2.7.10"
  }
 },
 "nbformat": 4,
 "nbformat_minor": 0
}
