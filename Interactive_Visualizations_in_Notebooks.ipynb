{
 "cells": [
  {
   "cell_type": "code",
   "execution_count": null,
   "metadata": {
    "collapsed": true
   },
   "outputs": [],
   "source": [
    "%matplotlib inline\n",
    "import matplotlib\n",
    "import seaborn as sns\n",
    "matplotlib.rcParams['savefig.dpi'] = 2 * matplotlib.rcParams['savefig.dpi']"
   ]
  },
  {
   "cell_type": "markdown",
   "metadata": {},
   "source": [
    "## Interactivity in visualizations\n",
    "This module should be useful for those of you wishing to incorporate interactivity into Jupyter notebook visualizations. We will go through some examples in Bokeh but the same ideas apply to matplotlib.\n",
    "\n",
    "## When to use Jupyter notebooks\n",
    "In contrast to techniques using D3, which tend to be focused on polished, *explanatory* visualizations for the end-user, Jupyter notebooks tend to be more useful for *exploration*. This is the time when running code modularly is useful because you're interested in the effect of changing a few lines of code without rerunning the entire script. We already discussed the rationale behind including visualization as part of your data exploration, and interactivity is a powerful tool to accomplish that objective, whether it's just you, or your team huddled around your computer.\n",
    "\n",
    "Let's start with the same old time series data."
   ]
  },
  {
   "cell_type": "code",
   "execution_count": null,
   "metadata": {
    "collapsed": false
   },
   "outputs": [],
   "source": [
    "import pandas as pd\n",
    "import numpy as np\n",
    "\n",
    "from bokeh.plotting import figure, show\n",
    "from bokeh.io import output_notebook\n",
    "from bokeh.palettes import Spectral6\n",
    "from IPython.html.widgets import *"
   ]
  },
  {
   "cell_type": "code",
   "execution_count": null,
   "metadata": {
    "collapsed": false
   },
   "outputs": [],
   "source": [
    "import requests\n",
    "import simplejson as json\n",
    "\n",
    "with open('small_data/goog.json') as raw_f:\n",
    "    raw_data = raw_f.read()\n",
    "    json_data = json.loads(raw_data)\n",
    "    \n",
    "df = pd.DataFrame(json_data['data'], columns=json_data['column_names'])\n",
    "df.set_index(pd.DatetimeIndex(df['Date']), inplace=True)"
   ]
  },
  {
   "cell_type": "code",
   "execution_count": null,
   "metadata": {
    "collapsed": false
   },
   "outputs": [],
   "source": [
    "output_notebook()\n",
    "TOOLS = \"pan, box_zoom, wheel_zoom, reset, save\""
   ]
  },
  {
   "cell_type": "markdown",
   "metadata": {},
   "source": [
    "## Layering information\n",
    "While it is possible to include additional axes of data using color, thickness, texture, etc., it can be beneficial to use interactivity for this purpose.\n",
    "* Gives the end user control, gets them engaged with the data.\n",
    "* Allows for the base graph to be less cluttered and send a clearer message.\n",
    "* \"Feels\" impressive. Interactive graphs make you feel like there's a vast amount of data which you're tapping into.\n",
    "\n",
    "Most web-deployed interactive plots (or dashboards, as people like to call them) run on D3. You give these tools a large data source server-side, and the JavaScript can rapidly render the desired slice of the data. For polished tools, look at Bokeh server, Pyxley, or highcharts.\n",
    "\n",
    "While it is possible to request new data as a function of a choice made by the end user, the bandwidth required to do this scales with how responsive you want the display to be and how detailed the data is. This is currently an area of active technology development."
   ]
  },
  {
   "cell_type": "markdown",
   "metadata": {},
   "source": [
    "A basic technique for adding interactivity to IPython notebooks is HTML widgets."
   ]
  },
  {
   "cell_type": "code",
   "execution_count": null,
   "metadata": {
    "collapsed": false,
    "scrolled": true
   },
   "outputs": [],
   "source": [
    "def update(start=0, end=len(df), col='Close'):\n",
    "    remove_from_tail = start\n",
    "    remove_from_head = len(df) - end\n",
    "    days = len(df)\n",
    "    plot = figure(tools=TOOLS, title=\"Title\", x_axis_label=\"date\", x_axis_type=\"datetime\")\n",
    "    plot.line(df[col].index[days-end:days-start], df[col][days-end:days-start])\n",
    "    show(plot)"
   ]
  },
  {
   "cell_type": "code",
   "execution_count": null,
   "metadata": {
    "collapsed": false,
    "scrolled": false
   },
   "outputs": [],
   "source": [
    "interact(update, start=(0,len(df)-1), end=(1,len(df)), col=('Open', 'High', 'Low', 'Close', 'Volume'))"
   ]
  },
  {
   "cell_type": "markdown",
   "metadata": {
    "collapsed": true
   },
   "source": [
    "*Exercise*: Change the update function so that it always plots a month of data, and the slider moves the window back and forth in time."
   ]
  },
  {
   "cell_type": "markdown",
   "metadata": {},
   "source": [
    "Now that you know how to do the basics, let's get a little fancier and overlay two stocks of the user's choice."
   ]
  },
  {
   "cell_type": "code",
   "execution_count": null,
   "metadata": {
    "collapsed": false
   },
   "outputs": [],
   "source": [
    "def get_url(ticker):\n",
    "    return 'https://www.quandl.com/api/v1/datasets/WIKI/%s.json' % ticker.upper()\n",
    "    \n",
    "def get_data(ticker):\n",
    "    session = requests.Session()\n",
    "    session.mount('http://', requests.adapters.HTTPAdapter(max_retries=2))\n",
    "    raw_data = session.get(get_url(ticker)).content\n",
    "    json_data = json.loads(raw_data)\n",
    "    return pd.DataFrame(json_data['data'], columns=json_data['column_names'])\n",
    "\n",
    "def update2(col='Volume', lag=20, ticker1='INTC', ticker2='AAPL'):\n",
    "    tickers = [ticker1, ticker2]\n",
    "\n",
    "    colorwheel = Spectral6\n",
    "    color_idx = 0\n",
    "    plot = figure(tools=TOOLS, title=\"Better Title\", x_axis_label=\"date\", x_axis_type=\"datetime\")\n",
    "    \n",
    "    for ticker in tickers:\n",
    "        if ticker not in dfs:\n",
    "            dfs[ticker] = get_data(ticker)\n",
    "            dfs[ticker].set_index(pd.DatetimeIndex(dfs[ticker]['Date']), inplace=True)\n",
    "        df = dfs[ticker][:lag]\n",
    "        plot.line(df[col].index, df[col], line_color=colorwheel[color_idx], line_width=2, legend=ticker)\n",
    "        color_idx += 1\n",
    "        if color_idx > len(colorwheel):\n",
    "            color_idx = 0\n",
    "    \n",
    "    show(plot)\n",
    "\n",
    "dfs = {}"
   ]
  },
  {
   "cell_type": "code",
   "execution_count": null,
   "metadata": {
    "collapsed": false
   },
   "outputs": [],
   "source": [
    "interact(update2, col=('Open', 'High', 'Low', 'Close', 'Volume'), lag=(5,360,5), ticker1='intc', ticker2='aapl')"
   ]
  },
  {
   "cell_type": "markdown",
   "metadata": {},
   "source": [
    "### Next stop, Google Finance!"
   ]
  },
  {
   "cell_type": "markdown",
   "metadata": {},
   "source": [
    "## Being creative\n",
    "Don't be limited here - interactivity can affect not just data slicing but also the underlying source data, plot type, and more. You might even be able to cater to people viewing your chart on different devices.\n",
    "\n",
    "For more ideas, styling, functionality, and examples, see [the documentation](http://nbviewer.ipython.org/github/quantopian/ipython/blob/master/examples/Interactive%20Widgets/Index.ipynb).\n",
    "\n",
    "## Answering the second and third question\n",
    "One of the great strengths of interactivity is the ability to conduct an entire discussion with your audience instead of just presenting them a static view of what you think they'll be interested in. The time sliders in the above example are nice, but most of the functionality comes from being able to select different columns (data at different scales) in the same time window and compare."
   ]
  },
  {
   "cell_type": "markdown",
   "metadata": {},
   "source": [
    "Exercise spoilers..."
   ]
  },
  {
   "cell_type": "code",
   "execution_count": null,
   "metadata": {
    "collapsed": true
   },
   "outputs": [],
   "source": []
  },
  {
   "cell_type": "code",
   "execution_count": null,
   "metadata": {
    "collapsed": true
   },
   "outputs": [],
   "source": []
  },
  {
   "cell_type": "code",
   "execution_count": null,
   "metadata": {
    "collapsed": true
   },
   "outputs": [],
   "source": []
  },
  {
   "cell_type": "code",
   "execution_count": null,
   "metadata": {
    "collapsed": true
   },
   "outputs": [],
   "source": []
  },
  {
   "cell_type": "code",
   "execution_count": null,
   "metadata": {
    "collapsed": true
   },
   "outputs": [],
   "source": []
  },
  {
   "cell_type": "code",
   "execution_count": null,
   "metadata": {
    "collapsed": true
   },
   "outputs": [],
   "source": []
  },
  {
   "cell_type": "code",
   "execution_count": null,
   "metadata": {
    "collapsed": true
   },
   "outputs": [],
   "source": [
    "def update(start=0, col='Close'):\n",
    "    days = len(df)\n",
    "    plot = figure(tools=TOOLS, title=\"Title\", x_axis_label=\"date\", x_axis_type=\"datetime\")\n",
    "    plot.line(df[col].index[days-start-20:days-start], df[col][days-start-20:days-start])\n",
    "    show(plot)"
   ]
  },
  {
   "cell_type": "code",
   "execution_count": null,
   "metadata": {
    "collapsed": false
   },
   "outputs": [],
   "source": [
    "interact(update, start=(0,len(df)-20), col=('Open', 'High', 'Low', 'Close', 'Volume'))"
   ]
  },
  {
   "cell_type": "code",
   "execution_count": null,
   "metadata": {
    "collapsed": true
   },
   "outputs": [],
   "source": []
  },
  {
   "cell_type": "markdown",
   "metadata": {},
   "source": [
    "*Copyright &copy; 2015 The Data Incubator.  All rights reserved.*"
   ]
  }
 ],
 "metadata": {
  "kernelspec": {
   "display_name": "Python 2",
   "language": "python",
   "name": "python2"
  },
  "language_info": {
   "codemirror_mode": {
    "name": "ipython",
    "version": 2
   },
   "file_extension": ".py",
   "mimetype": "text/x-python",
   "name": "python",
   "nbconvert_exporter": "python",
   "pygments_lexer": "ipython2",
   "version": "2.7.10"
  }
 },
 "nbformat": 4,
 "nbformat_minor": 0
}
