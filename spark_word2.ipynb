{
 "cells": [
  {
   "cell_type": "code",
   "execution_count": 1,
   "metadata": {
    "collapsed": false
   },
   "outputs": [],
   "source": [
    "#Imports\n",
    "from pyspark import SparkContext #Library\n",
    "sc = SparkContext(\"local[*]\", \"temp\") #Start a spart context\n",
    "from pyspark.mllib.feature import Word2Vec\n",
    "import xml.etree.ElementTree as ET\n",
    "\n"
   ]
  },
  {
   "cell_type": "code",
   "execution_count": 2,
   "metadata": {
    "collapsed": false
   },
   "outputs": [
    {
     "name": "stdout",
     "output_type": "stream",
     "text": [
      "MapPartitionsRDD[1] at textFile at NativeMethodAccessorImpl.java:-2\n"
     ]
    },
    {
     "data": {
      "text/plain": [
       "212990"
      ]
     },
     "execution_count": 2,
     "metadata": {},
     "output_type": "execute_result"
    }
   ],
   "source": [
    "posts_lines = sc.textFile(\"file:///home/vagrant/miniprojects/spark/part/allPosts/*.gz\") #create an RDD from file\n",
    "print posts_lines\n",
    "posts_lines.count()\n"
   ]
  },
  {
   "cell_type": "code",
   "execution_count": 3,
   "metadata": {
    "collapsed": false
   },
   "outputs": [],
   "source": [
    "def parsePost(line):\n",
    "    if '<row'in line:\n",
    "        try:\n",
    "            root = ET.fromstring(line.encode('utf8').strip())\n",
    "        except:\n",
    "            pass\n",
    "            return (\"Empty\")\n",
    "            \n",
    "        if root != '':\n",
    "            if \"Tags\" in root.attrib:\n",
    "                    try:\n",
    "                        data = root.attrib[\"Tags\"]\n",
    "                    except:\n",
    "                        pass\n",
    "                        return (\"Empty\")\n",
    "                    data = data.replace(\"<\", \" \").replace(\">\", \" \")\n",
    "                    return data\n",
    "            else:\n",
    "                return(\"Empty\")\n",
    "        else:\n",
    "            return(\"Empty\")\n",
    "    else:\n",
    "        return(\"Empty\")\n",
    "            \n",
    "        "
   ]
  },
  {
   "cell_type": "code",
   "execution_count": 4,
   "metadata": {
    "collapsed": false
   },
   "outputs": [
    {
     "name": "stdout",
     "output_type": "stream",
     "text": [
      "PythonRDD[3] at RDD at PythonRDD.scala:43\n",
      "[['', 'machine-learning', '', 'cross-validation', ''], ['', 'statistical-significance', '', 'sequence-analysis', '', 'ratio', ''], ['', 'r', '', 'machine-learning', '', 'python', '', 'matrix', '', 'information-retrieval', ''], ['', 'r', '', 'regression', '', 'nonlinear', ''], ['', 'mixed-model', '', 'sas', '', 'mixed-effect', ''], ['', 'machine-learning', '', 'correlation', '', 'statistical-significance', ''], ['', 'machine-learning', '', 'svm', ''], ['', 'regression', '', 'time-series', '', 'multiple-regression', ''], ['', 'p-value', '', 'z-statistic', ''], ['', 'self-study', '', 'classification', '', 'fuzzy-set', ''], ['', 'r', '', 'mixed-model', '', 'mixed-effect', ''], ['', 'logistic', '', 'convergence', '', 'application', ''], ['', 'estimation', '', 'variance', '', 'semiparametric', ''], ['', 'r', '', 'random-effects-model', '', 'nlme', '', 'nls', ''], ['', 'python', '', 'mcmc', '', 'metropolis-hastings', ''], ['', 'likert', '', 'sem', ''], ['', 'regression', '', 'statistical-significance', '', 'mathematical-statistics', '', 'experiment-design', '', 'minitab', ''], ['', 'probability', '', 'hypothesis-testing', '', 'self-study', '', 'chi-squared', '', 'p-value', ''], ['', 'multilevel-analysis', '', 'model', '', 'hierarchical', ''], ['', 'summary-statistics', '', 'statistical-learning', '']]\n"
     ]
    }
   ],
   "source": [
    "\n",
    "content = posts_lines.map(parsePost).filter(lambda x: x!= 'Empty')\\\n",
    "            .map(lambda line: (line.split(\" \")))\n",
    "\n",
    "print content\n",
    "content.count()\n",
    "print content.take(20)"
   ]
  },
  {
   "cell_type": "code",
   "execution_count": 6,
   "metadata": {
    "collapsed": false
   },
   "outputs": [],
   "source": [
    "model = Word2Vec().setVectorSize(100).setSeed(42L).fit(content)\n",
    "\n",
    "\n"
   ]
  },
  {
   "cell_type": "code",
   "execution_count": 7,
   "metadata": {
    "collapsed": false
   },
   "outputs": [
    {
     "name": "stdout",
     "output_type": "stream",
     "text": [
      "[(u'interactive-visualization', 0.47878699331497565), (u'computing', 0.47513749476999617), (u'fraud', 0.46842712665341885), (u'reproducible-research', 0.46761435264406248), (u'dlm', 0.46578803624316184), (u'boxplot', 0.46448828958282745), (u'project-management', 0.46178529728499079), (u'moderator', 0.46095014551699226), (u'loess', 0.46074643014431249), (u'barplot', 0.45022855333016565), (u'kde', 0.44966737525523076), (u'dendrogram', 0.44956753753688167), (u'curve-fitting', 0.44934813480908881), (u'csv-file', 0.44835199710868745), (u'meta-analysis', 0.44476333718310257), (u'journals', 0.44351344622306055), (u'units', 0.44337845887650401), (u'density-function', 0.44254811698153634), (u'resources', 0.44114422493821731), (u'code', 0.44083433315856507), (u'piecewise-linear', 0.43951444456145516), (u'multivariable', 0.43900843962030017), (u'rule-of-thumb', 0.43751817309437929), (u'neuroimaging', 0.43696118988952448), (u'web', 0.43682345095263519)]\n"
     ]
    }
   ],
   "source": [
    "result = model.findSynonyms('ggplot2', 25)\n",
    "print result\n"
   ]
  },
  {
   "cell_type": "code",
   "execution_count": 8,
   "metadata": {
    "collapsed": false
   },
   "outputs": [
    {
     "name": "stdout",
     "output_type": "stream",
     "text": [
      "[('interactive-visualization', 0.47878699331497565), ('computing', 0.47513749476999617), ('fraud', 0.46842712665341885), ('reproducible-research', 0.46761435264406248), ('dlm', 0.46578803624316184), ('boxplot', 0.46448828958282745), ('project-management', 0.46178529728499079), ('moderator', 0.46095014551699226), ('loess', 0.46074643014431249), ('barplot', 0.45022855333016565), ('kde', 0.44966737525523076), ('dendrogram', 0.44956753753688167), ('curve-fitting', 0.44934813480908881), ('csv-file', 0.44835199710868745), ('meta-analysis', 0.44476333718310257), ('journals', 0.44351344622306055), ('units', 0.44337845887650401), ('density-function', 0.44254811698153634), ('resources', 0.44114422493821731), ('code', 0.44083433315856507), ('piecewise-linear', 0.43951444456145516), ('multivariable', 0.43900843962030017), ('rule-of-thumb', 0.43751817309437929), ('neuroimaging', 0.43696118988952448), ('web', 0.43682345095263519)]\n"
     ]
    }
   ],
   "source": [
    "\n",
    "answer=[]\n",
    "for i in range(0,len(result)):\n",
    "    answer.append((str(result[i][0]), result[i][1]))\n",
    "print answer\n"
   ]
  },
  {
   "cell_type": "code",
   "execution_count": null,
   "metadata": {
    "collapsed": true
   },
   "outputs": [],
   "source": []
  },
  {
   "cell_type": "code",
   "execution_count": null,
   "metadata": {
    "collapsed": true
   },
   "outputs": [],
   "source": []
  }
 ],
 "metadata": {
  "kernelspec": {
   "display_name": "Python 2",
   "language": "python",
   "name": "python2"
  },
  "language_info": {
   "codemirror_mode": {
    "name": "ipython",
    "version": 2
   },
   "file_extension": ".py",
   "mimetype": "text/x-python",
   "name": "python",
   "nbconvert_exporter": "python",
   "pygments_lexer": "ipython2",
   "version": "2.7.10"
  }
 },
 "nbformat": 4,
 "nbformat_minor": 0
}
