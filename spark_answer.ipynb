{
 "cells": [
  {
   "cell_type": "code",
   "execution_count": 1,
   "metadata": {
    "collapsed": false
   },
   "outputs": [],
   "source": [
    "from pyspark import SparkContext #Library\n",
    "sc = SparkContext(\"local[*]\", \"temp\") #Start a spart context\n"
   ]
  },
  {
   "cell_type": "code",
   "execution_count": 2,
   "metadata": {
    "collapsed": false
   },
   "outputs": [
    {
     "name": "stdout",
     "output_type": "stream",
     "text": [
      "MapPartitionsRDD[1] at textFile at NativeMethodAccessorImpl.java:-2\n"
     ]
    },
    {
     "data": {
      "text/plain": [
       "212990"
      ]
     },
     "execution_count": 2,
     "metadata": {},
     "output_type": "execute_result"
    }
   ],
   "source": [
    "posts_lines = sc.textFile(\"file:///home/vagrant/miniprojects/spark/part/allPosts/*.gz\") #create an RDD from file\n",
    "print posts_lines\n",
    "posts_lines.count()\n",
    "#posts_lines.take(8)"
   ]
  },
  {
   "cell_type": "code",
   "execution_count": 3,
   "metadata": {
    "collapsed": false
   },
   "outputs": [
    {
     "name": "stdout",
     "output_type": "stream",
     "text": [
      "MapPartitionsRDD[4] at textFile at NativeMethodAccessorImpl.java:-2\n"
     ]
    },
    {
     "data": {
      "text/plain": [
       "100425"
      ]
     },
     "execution_count": 3,
     "metadata": {},
     "output_type": "execute_result"
    }
   ],
   "source": [
    "users_lines = sc.textFile(\"file:///home/vagrant/miniprojects/spark/part/allUsers/*.gz\")\n",
    "print users_lines\n",
    "users_lines.count()"
   ]
  },
  {
   "cell_type": "code",
   "execution_count": 4,
   "metadata": {
    "collapsed": true
   },
   "outputs": [],
   "source": [
    "#Import parsing library.\n",
    "import xml.etree.ElementTree as ET\n",
    "import numpy as np\n"
   ]
  },
  {
   "cell_type": "code",
   "execution_count": 5,
   "metadata": {
    "collapsed": true
   },
   "outputs": [],
   "source": [
    "def parseUser(line):\n",
    "    if '  <row'in line:\n",
    "        try:\n",
    "            root = ET.fromstring(line.encode('utf8'))\n",
    "        except:\n",
    "            pass\n",
    "            return (\"Empty\")\n",
    "            \n",
    "        if root != '':\n",
    "            if \"Id\" and \"Reputation\" in root.attrib:\n",
    "                return(root.attrib[\"Id\"], int(root.attrib[\"Reputation\"]))\n",
    "            else:\n",
    "                return(\"Empty\")\n",
    "        else:\n",
    "            return(\"Empty\")\n",
    "    else:\n",
    "        return(\"Empty\")\n",
    "            "
   ]
  },
  {
   "cell_type": "code",
   "execution_count": 6,
   "metadata": {
    "collapsed": false
   },
   "outputs": [
    {
     "name": "stdout",
     "output_type": "stream",
     "text": [
      "50320\n",
      "[('70185', 1), ('70186', 6), ('70187', 1), ('70188', 1), ('70189', 101), ('70190', 1), ('70191', 1), ('70192', 1), ('70193', 1), ('70194', 11), ('70195', 1), ('70196', 6), ('70197', 18), ('70198', 1), ('70199', 51), ('70200', 11), ('70201', 1), ('70202', 101), ('70203', 116), ('70204', 103), ('70205', 6), ('70206', 101), ('70207', 1), ('70208', 101), ('70211', 1), ('70212', 1), ('70213', 1), ('70214', 1), ('70215', 11), ('70216', 1), ('70217', 1), ('70218', 1), ('70219', 101), ('70220', 1), ('70221', 1), ('70222', 1), ('70223', 1), ('70224', 6), ('70225', 1), ('70226', 11), ('70227', 101), ('70228', 1), ('70229', 1), ('70230', 1), ('70231', 1), ('70232', 1), ('70233', 1), ('70234', 1), ('70235', 1), ('70236', 1), ('70237', 3), ('70238', 1), ('70239', 1), ('70240', 1), ('70241', 1), ('70242', 1), ('70243', 6), ('70244', 101), ('70245', 1), ('70246', 1), ('70247', 1), ('70248', 1), ('70249', 1), ('70250', 4), ('70251', 1), ('70252', 1), ('70253', 101), ('70254', 1), ('70255', 1), ('70256', 1), ('70258', 26), ('70259', 1), ('70260', 1), ('70261', 1), ('70262', 1), ('70263', 1), ('70264', 1), ('70265', 101), ('70266', 101), ('70267', 1), ('70268', 1), ('70269', 148), ('70270', 1), ('70271', 101), ('70272', 101), ('70273', 111), ('70274', 1), ('70275', 1), ('70276', 1), ('70277', 1), ('70278', 1), ('70279', 16), ('70280', 101), ('70281', 1), ('70282', 1), ('70283', 1), ('70284', 21), ('70285', 1), ('70286', 1)]\n"
     ]
    }
   ],
   "source": [
    "users = users_lines.map(parseUser).filter(lambda x: x!= 'Empty')\n",
    "print users.count()\n",
    "print users.take(99)"
   ]
  },
  {
   "cell_type": "code",
   "execution_count": 7,
   "metadata": {
    "collapsed": false
   },
   "outputs": [],
   "source": [
    "def parsePost(line):\n",
    "    if '  <row'in line:\n",
    "        try:\n",
    "            root = ET.fromstring(line.encode('utf8'))\n",
    "        except:\n",
    "            pass\n",
    "            return (\"Empty\")\n",
    "            \n",
    "        if root != '':\n",
    "            if \"OwnerUserId\" and \"PostTypeId\" in root.attrib:\n",
    "                type = root.attrib[\"PostTypeId\"]\n",
    "                try:\n",
    "                    owner = root.attrib[\"OwnerUserId\"]\n",
    "                except:\n",
    "                    pass\n",
    "                    return (\"Empty\")\n",
    "                if type == '2':\n",
    "                    type_count = [1.,0.,1.]\n",
    "                else:\n",
    "                    if type == '1':\n",
    "                        type_count = [0.,1.,1.]\n",
    "                    else:\n",
    "                        return(\"Empty\")\n",
    "                return(owner, type_count)\n",
    "            else:\n",
    "                return(\"Empty\")\n",
    "        else:\n",
    "            return(\"Empty\")\n",
    "    else:\n",
    "        return(\"Empty\")\n",
    "            \n",
    "        "
   ]
  },
  {
   "cell_type": "code",
   "execution_count": 8,
   "metadata": {
    "collapsed": false
   },
   "outputs": [
    {
     "name": "stdout",
     "output_type": "stream",
     "text": [
      "PythonRDD[12] at RDD at PythonRDD.scala:43\n",
      "[('23994', [0.0, 1.0, 1.0]), ('61518', array([ 0.,  2.,  2.])), ('35549', [0.0, 1.0, 1.0]), ('69951', [0.0, 1.0, 1.0]), ('29446', [1.0, 0.0, 1.0]), ('11549', array([ 0.,  3.,  3.])), ('21631', [1.0, 0.0, 1.0]), ('60913', [0.0, 1.0, 1.0]), ('17297', [0.0, 1.0, 1.0]), ('11384', array([ 0.,  8.,  8.])), ('55294', [1.0, 0.0, 1.0]), ('43270', [0.0, 1.0, 1.0]), ('10897', [0.0, 1.0, 1.0]), ('5987', [1.0, 0.0, 1.0]), ('22267', array([ 2.,  0.,  2.])), ('48893', array([ 0.,  2.,  2.])), ('3993', [0.0, 1.0, 1.0]), ('61176', [0.0, 1.0, 1.0]), ('56583', array([ 1.,  1.,  2.])), ('53900', [0.0, 1.0, 1.0]), ('25065', [0.0, 1.0, 1.0]), ('56236', array([ 0.,  2.,  2.])), ('12703', [0.0, 1.0, 1.0]), ('61195', [0.0, 1.0, 1.0]), ('43185', array([ 0.,  2.,  2.])), ('35430', [0.0, 1.0, 1.0]), ('42457', array([ 0.,  3.,  3.])), ('31915', [0.0, 1.0, 1.0]), ('37734', array([ 1.,  1.,  2.])), ('5857', [0.0, 1.0, 1.0]), ('55587', [0.0, 1.0, 1.0]), ('69554', [0.0, 1.0, 1.0]), ('291', array([ 3.,  1.,  4.])), ('3773', array([ 0.,  3.,  3.])), ('60136', [0.0, 1.0, 1.0]), ('46484', [0.0, 1.0, 1.0]), ('69370', [0.0, 1.0, 1.0]), ('21108', [0.0, 1.0, 1.0]), ('56053', [0.0, 1.0, 1.0]), ('40605', array([ 0.,  2.,  2.]))]\n"
     ]
    },
    {
     "data": {
      "text/plain": [
       "26887"
      ]
     },
     "execution_count": 8,
     "metadata": {},
     "output_type": "execute_result"
    }
   ],
   "source": [
    "posts = posts_lines.map(parsePost).filter(lambda x: x!= 'Empty')\\\n",
    "        .reduceByKey(lambda x, y: np.add(x,y))\n",
    "print posts\n",
    "print posts.take(40)\n",
    "posts.count()\n"
   ]
  },
  {
   "cell_type": "code",
   "execution_count": null,
   "metadata": {
    "collapsed": false
   },
   "outputs": [],
   "source": []
  },
  {
   "cell_type": "code",
   "execution_count": 9,
   "metadata": {
    "collapsed": false
   },
   "outputs": [
    {
     "name": "stdout",
     "output_type": "stream",
     "text": [
      "[(919, 0.99669421487603305), (805, 0.99597495527728086), (686, 0.98030495552731889), (7290, 0.99188876013904981), (930, 0.9817351598173516), (4505, 1.0), (4253, 0.99097472924187724), (183, 0.84787018255578095), (11032, 0.98756476683937822), (28746, 0.96842105263157896), (887, 0.97948717948717945), (159, 0.97288135593220337), (2116, 0.98333333333333328), (4856, 0.95431472081218272), (22047, 1.0), (5739, 0.98727735368956748), (3277, 0.95608108108108103), (88, 0.96604938271604934), (2970, 1.0), (601, 0.97721518987341771), (17230, 0.99700598802395213), (449, 1.0), (2392, 0.97241379310344822), (1390, 0.94117647058823528), (5836, 0.84644194756554303), (7555, 1.0), (603, 0.81588447653429608), (7972, 0.98230088495575218), (6633, 0.99122807017543857), (2958, 0.99303135888501737), (9394, 0.97008547008547008), (7828, 0.9850427350427351), (2817, 0.82068965517241377), (7224, 0.97575757575757571), (4598, 0.98571428571428577), (7071, 0.9107142857142857), (1739, 0.99487179487179489), (1036, 0.95454545454545459), (3382, 1.0), (8013, 0.90406976744186052), (3019, 0.8571428571428571), (4376, 0.96330275229357798), (251, 0.99242424242424243), (28666, 0.90000000000000002), (1764, 0.93258426966292129), (23853, 1.0), (32036, 0.99598393574297184), (10849, 0.95180722891566261), (26338, 0.96913580246913578), (1352, 0.99029126213592233), (401, 0.91194968553459121), (5, 0.85470085470085466), (8, 0.89915966386554624), (7250, 0.98773006134969321), (1909, 0.95180722891566261), (21054, 0.93457943925233644), (4257, 0.97575757575757571), (196, 0.73575129533678751), (442, 0.87121212121212122), (279, 1.0), (2669, 0.94684385382059799), (8402, 0.65217391304347827), (36041, 0.98898071625344353), (2126, 1.0), (44269, 0.90336134453781514), (6029, 1.0), (11981, 0.96491228070175439), (1934, 0.96808510638297873), (795, 0.676056338028169), (25433, 0.98672566371681414), (253, 0.36956521739130432), (364, 0.67361111111111116), (25, 0.91666666666666663), (22311, 0.94017094017094016), (334, 1.0), (13047, 0.97333333333333338), (8507, 0.94285714285714284), (264, 0.90625), (14188, 0.89830508474576276), (307, 1.0), (8076, 0.93333333333333335), (5862, 1.0), (8413, 0.98360655737704916), (1307, 0.83333333333333337), (2860, 0.89032258064516134), (223, 0.85882352941176465), (11887, 0.97687861271676302), (52554, 0.96527777777777779), (2074, 1.0), (35989, 0.94871794871794868), (1005, 0.0034482758620689655), (22228, 0.85135135135135132), (4862, 0.89743589743589747), (3601, 0.98529411764705888), (17908, 1.0), (13138, 0.86394557823129248), (1108, 0.97222222222222221), (1679, 0.94174757281553401), (11852, 1.0)]\n"
     ]
    }
   ],
   "source": [
    "joint = posts.join(users).map(lambda x: (x[1][1], x[1][0], int(x[0])))\\\n",
    "        .map(lambda x: (x[0],(x[2], x[1][0]/x[1][2]))).sortByKey(False)\\\n",
    "        .map(lambda x: x[1]).collect()\n",
    "print joint[:99]\n"
   ]
  },
  {
   "cell_type": "code",
   "execution_count": 10,
   "metadata": {
    "collapsed": false
   },
   "outputs": [
    {
     "name": "stdout",
     "output_type": "stream",
     "text": [
      "(-1, 0.51576399852522714)\n"
     ]
    }
   ],
   "source": [
    "total = posts.map(lambda x: (\"t\",x[1])).reduceByKey(lambda x, y: np.add(x,y)).collect()\n",
    "total_sum = total[0]\n",
    "fraction = (-1, total_sum[1][0]/total_sum[1][2])\n",
    "print fraction"
   ]
  },
  {
   "cell_type": "code",
   "execution_count": null,
   "metadata": {
    "collapsed": true
   },
   "outputs": [],
   "source": [
    "[(7071, 0.9107142857142857)] * 100"
   ]
  }
 ],
 "metadata": {
  "kernelspec": {
   "display_name": "Python 2",
   "language": "python",
   "name": "python2"
  },
  "language_info": {
   "codemirror_mode": {
    "name": "ipython",
    "version": 2
   },
   "file_extension": ".py",
   "mimetype": "text/x-python",
   "name": "python",
   "nbconvert_exporter": "python",
   "pygments_lexer": "ipython2",
   "version": "2.7.10"
  }
 },
 "nbformat": 4,
 "nbformat_minor": 0
}
