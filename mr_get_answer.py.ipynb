{
 "cells": [
  {
   "cell_type": "code",
   "execution_count": 20,
   "metadata": {
    "collapsed": false
   },
   "outputs": [
    {
     "name": "stdout",
     "output_type": "stream",
     "text": [
      "[('xml', 189061), ('x', 202304), ('www', 156239), ('with', 137882), ('wikitext', 188566), ('wiki', 199562), ('was', 213411), ('username', 361677), ('user', 154075), ('url', 79642), ('united', 86507), ('to', 489127), ('title', 539917), ('timestamp', 377863), ('this', 123821), ('they', 76751), ('the', 1596419), ('that', 160304), ('text', 604352), ('talk', 123576), ('style', 136602), ('stub', 70368), ('states', 72699), ('span', 74840), ('space', 197216), ('small', 102848), ('sha1', 376839), ('s', 295792), ('revision', 380467), ('ref', 370336), ('redirect', 111336), ('quot', 1400092), ('preserve', 188766), ('people', 94283), ('parentid', 292767), ('page', 439939), ('other', 82511), ('or', 113222), ('one', 71327), ('on', 244426), ('of', 972204), ('ns', 378544), ('now', 74596), ('not', 95261), ('new', 94893), ('nbsp', 89135), ('name', 180142), ('moved', 69255), ('model', 381564), ('minor', 117167), ('lt', 1205656), ('it', 218535), ('is', 407340), ('in', 659218), ('if', 77047), ('id', 1142905), ('i', 119877), ('http', 217221), ('his', 75778), ('he', 126278), ('have', 69087), ('gt', 1211888), ('from', 152852), ('format', 386311), ('for', 216011), ('football', 90184), ('font', 153538), ('first', 83424), ('date', 82360), ('d', 169346), ('contributor', 377226), ('comment', 350146), ('com', 122914), ('color', 121533), ('cite', 83289), ('center', 111562), ('category', 380599), ('by', 218491), ('br', 166273), ('be', 109563), ('b', 85584), ('at', 112928), ('as', 159125), ('are', 134268), ('and', 634202), ('an', 101364), ('amp', 243908), ('american', 73474), ('align', 148689), ('a', 581510), ('5', 82212), ('4', 95648), ('3', 122138), ('2013', 153752), ('2009', 69337), ('2', 203461), ('10', 93360), ('1', 250429), ('03', 77703), ('0', 358489)]\n"
     ]
    }
   ],
   "source": [
    "import os\n",
    "import csv\n",
    "\n",
    "answer_list=[]\n",
    "with open('mr_pb1_ans.txt', 'r') as data:\n",
    "    for line in data:\n",
    "        temp = line.split()\n",
    "        tup = (temp[1][1:-1], int(temp[0]))\n",
    "        answer_list.append(tup)\n",
    "        \n",
    "print answer_list\n",
    "    \n",
    "\n",
    "        "
   ]
  },
  {
   "cell_type": "code",
   "execution_count": 1,
   "metadata": {
    "collapsed": false
   },
   "outputs": [
    {
     "name": "stdout",
     "output_type": "stream",
     "text": [
      "[('year', 51863), ('www', 156091), ('world', 52035), ('with', 131266), ('which', 55955), ('were', 53549), ('web', 62204), ('was', 212142), ('utc', 66762), ('user', 143609), ('url', 79552), ('united', 82527), ('to', 444377), ('title', 115911), ('this', 121687), ('they', 76566), ('the', 1576430), ('that', 158219), ('talk', 111668), ('sup', 55593), ('style', 136070), ('stub', 67724), ('states', 69581), ('span', 74679), ('small', 102485), ('s', 289215), ('right', 63991), ('ref', 369994), ('publisher', 60175), ('player', 60057), ('people', 89639), ('other', 79715), ('or', 105610), ('one', 70243), ('on', 185848), ('of', 942833), ('not', 92945), ('new', 90343), ('nbsp', 89036), ('name', 176926), ('n', 56929), ('m', 54249), ('league', 52157), ('jpg', 66512), ('it', 214939), ('is', 404265), ('in', 646062), ('image', 57715), ('if', 76328), ('i', 117137), ('http', 216698), ('his', 75609), ('he', 125996), ('have', 68521), ('has', 65112), ('from', 143029), ('for', 208826), ('football', 88700), ('font', 152662), ('first', 82912), ('file', 52255), ('de', 54228), ('date', 81923), ('d', 57216), ('county', 54028), ('com', 122378), ('color', 119925), ('city', 53626), ('cite', 82980), ('center', 111227), ('category', 325092), ('can', 58852), ('c', 65914), ('by', 147971), ('but', 55018), ('br', 166106), ('bgcolor', 60566), ('be', 108319), ('b', 84605), ('at', 111489), ('as', 156526), ('are', 133640), ('and', 618234), ('an', 100089), ('american', 70317), ('also', 62619), ('align', 148617), ('accessdate', 65070), ('a', 572068), ('6', 63528), ('5', 79866), ('4', 88688), ('3', 118331), ('2010', 56905), ('2009', 61337), ('2008', 60633), ('2', 197361), ('10', 62553), ('1', 234717), ('0', 213960)]\n"
     ]
    }
   ],
   "source": [
    "import os\n",
    "import csv\n",
    "\n",
    "answer2_list=[]\n",
    "with open('mr_pb2_ans.txt', 'r') as data2:\n",
    "    for line in data2:\n",
    "        temp2 = line.split()\n",
    "        tup2 = (temp2[1][1:-1], int(temp2[0]))\n",
    "        answer2_list.append(tup2)\n",
    "        \n",
    "print answer2_list\n",
    "    "
   ]
  },
  {
   "cell_type": "code",
   "execution_count": 1,
   "metadata": {
    "collapsed": false
   },
   "outputs": [
    {
     "name": "stdout",
     "output_type": "stream",
     "text": [
      "[('www', 155382), ('world', 51825), ('with', 129445), ('which', 55529), ('were', 53277), ('web', 61907), ('was', 211346), ('utc', 66674), ('user', 143333), ('url', 79116), ('united', 82403), ('to', 437769), ('title', 114229), ('this', 114622), ('they', 76219), ('there', 51593), ('the', 1558776), ('that', 157236), ('talk', 111351), ('sup', 55502), ('style', 135675), ('stub', 67714), ('states', 69422), ('span', 74453), ('small', 102044), ('s', 287610), ('right', 63425), ('ref', 367749), ('publisher', 59932), ('player', 60007), ('people', 89449), ('other', 79168), ('or', 102463), ('one', 69800), ('on', 184036), ('of', 934465), ('not', 89709), ('new', 89979), ('name', 175267), ('n', 56691), ('m', 54128), ('league', 52110), ('jpg', 66255), ('it', 212556), ('is', 400448), ('in', 640735), ('image', 56849), ('if', 74485), ('i', 116903), ('http', 215387), ('his', 75304), ('he', 125805), ('have', 68040), ('has', 64741), ('from', 139633), ('for', 203387), ('football', 88639), ('font', 152507), ('first', 82378), ('file', 52054), ('de', 53902), ('date', 80874), ('d', 57059), ('county', 53832), ('com', 121628), ('color', 119841), ('city', 52130), ('cite', 82575), ('center', 111013), ('category', 324437), ('can', 58281), ('c', 65693), ('by', 146559), ('but', 54674), ('br', 165490), ('bgcolor', 60521), ('be', 106774), ('b', 84509), ('at', 108283), ('as', 154806), ('are', 131026), ('and', 609270), ('an', 99574), ('american', 70267), ('also', 61786), ('align', 148320), ('accessdate', 64857), ('a', 567288), ('6', 63172), ('5', 79360), ('4', 88368), ('3', 117809), ('2011', 51653), ('2010', 56610), ('2009', 61167), ('2008', 60467), ('2', 196447), ('10', 62334), ('1', 233608), ('0', 213398)]\n"
     ]
    }
   ],
   "source": [
    "import os\n",
    "import csv\n",
    "\n",
    "answer3_list=[]\n",
    "with open('mr_pb3_ans.txt', 'r') as data3:\n",
    "    for line in data3:\n",
    "        temp3 = line.split()\n",
    "        tup3 = (temp3[1][1:-1], int(temp3[0]))\n",
    "        answer3_list.append(tup3)\n",
    "        \n",
    "print answer3_list\n",
    "    "
   ]
  },
  {
   "cell_type": "code",
   "execution_count": null,
   "metadata": {
    "collapsed": true
   },
   "outputs": [],
   "source": []
  },
  {
   "cell_type": "code",
   "execution_count": 2,
   "metadata": {
    "collapsed": false
   },
   "outputs": [
    {
     "name": "stdout",
     "output_type": "stream",
     "text": [
      "[284883413.0, 6556297956.541672, 284740950.0, 5397023628.357562, 284598495.0, 4444132030.124838]\n",
      "entropy1 5.07182766079\n",
      "entropy2 4.5654607043\n",
      "entropy3 4.1563027327\n"
     ]
    }
   ],
   "source": [
    "import os\n",
    "import csv\n",
    "import math\n",
    "\n",
    "answer4_list=[]\n",
    "variables = []\n",
    "with open('hope_entropy.txt', 'r') as data4:\n",
    "    for line in data4:\n",
    "        temp4 = line.split()\n",
    "        variables.append(float(temp4[2]))\n",
    "        \n",
    "print variables\n",
    "\n",
    "entropy1 = math.log(variables[0],2) - ((1/variables[0])*variables[1])\n",
    "entropy2 = math.log(variables[2],2) - ((1/variables[2])*variables[3])\n",
    "entropy3 = math.log(variables[4],2) - ((1/variables[4])*variables[5])\n",
    "\n",
    "\n",
    "print 'entropy1', entropy1\n",
    "print 'entropy2', entropy2/2\n",
    "print 'entropy3', entropy3/3"
   ]
  },
  {
   "cell_type": "code",
   "execution_count": null,
   "metadata": {
    "collapsed": true
   },
   "outputs": [],
   "source": []
  },
  {
   "cell_type": "code",
   "execution_count": 4,
   "metadata": {
    "collapsed": false
   },
   "outputs": [
    {
     "name": "stdout",
     "output_type": "stream",
     "text": [
      "[447748892.0, 10060931689.555285, 447553084.0, 8061019642.215222, 447357290.0, 6539838811.348949]\n",
      "entropy1 6.26808316092\n",
      "entropy2 5.36308420948\n",
      "entropy3 4.70600844214\n"
     ]
    }
   ],
   "source": [
    "import os\n",
    "import csv\n",
    "import math\n",
    "\n",
    "answer4_list=[]\n",
    "variables = []\n",
    "with open('hope_ent_thai.txt', 'r') as data4:\n",
    "    for line in data4:\n",
    "        temp4 = line.split()\n",
    "        variables.append(float(temp4[2]))\n",
    "        \n",
    "print variables\n",
    "\n",
    "entropy1 = math.log(variables[0],2) - ((1/variables[0])*variables[1])\n",
    "entropy2 = math.log(variables[2],2) - ((1/variables[2])*variables[3])\n",
    "entropy3 = math.log(variables[4],2) - ((1/variables[4])*variables[5])\n",
    "\n",
    "\n",
    "print 'entropy1', entropy1\n",
    "print 'entropy2', entropy2/2\n",
    "print 'entropy3', entropy3/3"
   ]
  },
  {
   "cell_type": "code",
   "execution_count": null,
   "metadata": {
    "collapsed": true
   },
   "outputs": [],
   "source": []
  },
  {
   "cell_type": "code",
   "execution_count": 61,
   "metadata": {
    "collapsed": false
   },
   "outputs": [
    {
     "name": "stdout",
     "output_type": "stream",
     "text": [
      "[(('communes of the yonne department', 'france'), 0.06851956783485441), (('communes of the yonne department', 'departments of france'), 0.06841913983633724), (('communes of the pyr\\\\u00e9n\\\\u00e9es-atlantiques department', 'france'), 0.06835924238181121), (('communes of the yonne department', 'yonne'), 0.06830510902166947), (('communes of the yonne department', 'communes of france'), 0.06830118748908552), (('list of cities in illinois', 'illinois'), 0.06829846618562839), (('communes of the pyr\\\\u00e9n\\\\u00e9es-atlantiques department', 'departments of france'), 0.06827537431921973), (('communes of the pyr\\\\u00e9n\\\\u00e9es-atlantiques department', 'pyr\\\\u00e9n\\\\u00e9es-atlantiques'), 0.06821892543858273), (('communes of the pyr\\\\u00e9n\\\\u00e9es-atlantiques department', 'commune in france'), 0.06817226623738824), (('communes of the allier department', 'france'), 0.06762580767402722), (('list of cities in illinois', 'united states'), 0.06762339868092959), (('communes of the vend\\\\u00e9e department', 'france'), 0.06761742402879362), (('communes of the allier department', 'allier'), 0.06746164456866467), (('communes of the vend\\\\u00e9e department', 'pays de la loire'), 0.06745869387006344), (('communes of the allier department', 'departments of france'), 0.06740052575012745), (('communes of the vend\\\\u00e9e department', 'communes of france'), 0.0672722658312864), (('communes of the vend\\\\u00e9e department', 'vend\\\\u00e9e'), 0.06726354971518773), (('communes of the allier department', 'communes of france'), 0.06721506580947463), (('list of cities in illinois', 'city'), 0.06584815925790612), (('list of cities in indiana', 'indiana'), 0.065159433226787), (('communes of the mayenne department', 'france'), 0.06467249833618108), (('communes of the mayenne department', 'pays de la loire'), 0.06451721883307548), (('list of cities in indiana', 'united states'), 0.06445019618167208), (('communes of the mayenne department', 'communes of france'), 0.06431593058830896), (('communes of the mayenne department', 'mayenne'), 0.06430651970933286), (('dolj county', 'romania'), 0.06141079772579187), (('communes of the aisne department', 'france'), 0.0611947344388581), (('communes of the aisne department', 'departments of france'), 0.06113788156950523), (('communes of the aisne department', 'regions of france'), 0.061057371801495466), (('communes of the aisne department', 'aisne'), 0.061054249923373584), (('communes of the aisne department', 'communes of france'), 0.061052029921153585), (('communes of the aisne department', 'picardie'), 0.0610489080430317), (('communes of the pas-de-calais department', 'france'), 0.06091641970444508), (('list of cities in iowa', 'iowa'), 0.06091236107929898), (('communes of the pas-de-calais department', 'nord-pas-de-calais'), 0.060814489888229545), (('communes of the pas-de-calais department', 'departments of france'), 0.060814489888229545), (('communes of the pas-de-calais department', 'pas-de-calais'), 0.060808632754552866), (('communes of the pas-de-calais department', 'communes of france'), 0.060756652988287384), (('communes of the pas-de-calais department', 'regions of france'), 0.06069689575205956), (('list of cities in iowa', 'united states'), 0.060629877442653524), (('list of cities in iowa', 'city'), 0.06054724230778424), (('communes of the ard\\\\u00e8che department', 'ard\\\\u00e8che'), 0.0605329292892851), (('communes of the gironde department', 'france'), 0.0605076131732997), (('communes of the gironde department', 'departments of france'), 0.0603791331890631), (('communes of the gironde department', 'aquitaine'), 0.0603791331890631), (('communes of the ard\\\\u00e8che department', 'france'), 0.06030908114994401), (('communes of the gironde department', 'regions of france'), 0.0602875362157457), (('communes of the gironde department', 'gironde'), 0.06028288137238118), (('communes of the gironde department', 'communes of france'), 0.060279571261544186), (('communes of the calvados department', 'france'), 0.060041339327630866), (('communes of the calvados department', 'calvados (department)'), 0.0599783828934833), (('communes of the calvados department', 'basse-normandie'), 0.059972227153255536), (('communes of the calvados department', 'regions of france'), 0.05993251463431864), (('communes of the calvados department', 'departments of france'), 0.05992635889409088), (('communes of the calvados department', 'communes of france'), 0.05992635889409088), (('communes of the sarthe department', 'france'), 0.05923343810363756), (('communes of the sarthe department', 'pays de la loire'), 0.05911246217703504), (('communes of the sarthe department', 'departments of france'), 0.05911246217703504), (('list of cities in oklahoma', 'united states'), 0.05910910807650527), (('list of cities in oklahoma', 'oklahoma'), 0.05908799410327779), (('communes of the sarthe department', 'regions of france'), 0.0589733852333846), (('communes of the sarthe department', 'sarthe'), 0.058966742259989706), (('communes of the sarthe department', 'communes of france'), 0.05896201836779778), (('communes of the ard\\\\u00e8che department', 'departments of france'), 0.058312065031181935), (('communes of the ain department', 'france'), 0.05819434955251755), (('communes of the vaucluse department', 'france'), 0.0581852352766406), (('communes of the ain department', 'regions of france'), 0.058095827385029865), (('communes of the ain department', 'rh\\\\u00f4ne-alpes'), 0.058085610271364475), (('communes of the ain department', 'departments of france'), 0.058085610271364475), (('communes of the ain department', 'ain'), 0.058052170269580775), (('communes of the ain department', 'communes of france'), 0.058047924196369186), (('dolj county', 'commune in romania'), 0.05802775655716839), (('list of cities in oklahoma', 'city'), 0.0579238956655615), (('communes of the vaucluse department', \"provence-alpes-c\\\\u00f4te d'azur\"), 0.057616848241187714), (('communes of the vaucluse department', 'vaucluse'), 0.057538800872721174), (('communes of the vaucluse department', 'communes of france'), 0.05724259674418172), (('communes of the alpes-maritimes department', 'france'), 0.05581703022489237), (('communes of the alpes-maritimes department', 'alpes-maritimes'), 0.05571150463517779), (('list of cities in idaho', 'idaho'), 0.055691581868047596), (('list of cities in arkansas', 'arkansas'), 0.05565383798980128), (('list of cities in idaho', 'united states'), 0.05556290712398823), (('list of cities in arkansas', 'united states'), 0.05546412066860986), (('communes of the alpes-maritimes department', 'communes of france'), 0.05543515776665215), (('communes of the alpes-maritimes department', \"provence-alpes-c\\\\u00f4te d'azur\"), 0.055242930938995516), (('communes of the alpes-maritimes department', 'departments of france'), 0.054937585337067586), (('list of cities in arkansas', 'city'), 0.05474105771620342), (('list of cities in idaho', 'city'), 0.05459466596343939), (('communes of the alpes-maritimes department', 'regions of france'), 0.05458997515705517), (('list of cities in kentucky', 'kentucky'), 0.05279865626956192), (('arrondissement of largenti\\\\u00e8re', 'france'), 0.05277849773205807), (('list of cities in kentucky', 'united states'), 0.05249707258658077), (('list of cities in kentucky', 'city'), 0.05228747412828866), (('communes of the bouches-du-rh\\\\u00f4ne department', 'france'), 0.05216254633009376), (('list of cities in belgium', 'belgium'), 0.05199023111351975), (('districts of bangladesh', 'bangladesh'), 0.05187881839835329), (('arrondissement of bayeux', 'france'), 0.05182100151337212), (('arrondissement of largenti\\\\u00e8re', 'departments of france'), 0.051634478352744574), (('list of japan international footballers', 'japan national football team'), 0.05157580289719476), (('list of japan international footballers', 'association football'), 0.05157580289719476), (('list of japan international footballers', 'japan'), 0.05137739343524571)]\n"
     ]
    }
   ],
   "source": [
    "import os\n",
    "import csv\n",
    "\n",
    "answer7_list=[]\n",
    "with open('double_link_answer.txt', 'r') as data7:\n",
    "    for line in data7:\n",
    "        temp7 = line.split('\\t')\n",
    "        title = temp7[0].split('\", \"')\n",
    "        title[0] = title[0].replace('[\"', \"\")\n",
    "        title[1] = title[1].replace('\"]', \"\")\n",
    "        weight = float(temp7[1])\n",
    "        tup7 = ((title[0], title[1]), weight)\n",
    "        #print tup7\n",
    "        answer7_list.append(tup7)\n",
    "        \n",
    "print answer7_list\n",
    "    \n",
    "\n",
    "        "
   ]
  },
  {
   "cell_type": "code",
   "execution_count": null,
   "metadata": {
    "collapsed": true
   },
   "outputs": [],
   "source": []
  }
 ],
 "metadata": {
  "kernelspec": {
   "display_name": "Python 2",
   "language": "python",
   "name": "python2"
  },
  "language_info": {
   "codemirror_mode": {
    "name": "ipython",
    "version": 2
   },
   "file_extension": ".py",
   "mimetype": "text/x-python",
   "name": "python",
   "nbconvert_exporter": "python",
   "pygments_lexer": "ipython2",
   "version": "2.7.10"
  }
 },
 "nbformat": 4,
 "nbformat_minor": 0
}
