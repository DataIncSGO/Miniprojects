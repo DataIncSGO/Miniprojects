{
 "cells": [
  {
   "cell_type": "code",
   "execution_count": 1,
   "metadata": {
    "collapsed": false
   },
   "outputs": [],
   "source": [
    "#Imports\n",
    "from pyspark import SparkContext #Library\n",
    "sc = SparkContext(\"local[*]\", \"temp\") #Start a spart context\n",
    "\n",
    "from pyspark.ml.feature import Word2Vec\n",
    "from pyspark.sql import SQLContext\n",
    "sqlContext = SQLContext(sc)\n",
    "\n",
    "import xml.etree.ElementTree as ET\n",
    "\n"
   ]
  },
  {
   "cell_type": "code",
   "execution_count": 2,
   "metadata": {
    "collapsed": false
   },
   "outputs": [
    {
     "name": "stdout",
     "output_type": "stream",
     "text": [
      "MapPartitionsRDD[1] at textFile at NativeMethodAccessorImpl.java:-2\n"
     ]
    },
    {
     "data": {
      "text/plain": [
       "47946654"
      ]
     },
     "execution_count": 2,
     "metadata": {},
     "output_type": "execute_result"
    }
   ],
   "source": [
    "posts_lines = sc.textFile(\"file:///home/vagrant/miniprojects/spark/full/allPosts/*.gz\") #create an RDD from file\n",
    "print posts_lines\n",
    "posts_lines.count()\n"
   ]
  },
  {
   "cell_type": "code",
   "execution_count": 3,
   "metadata": {
    "collapsed": false
   },
   "outputs": [],
   "source": [
    "def parsePost(line):\n",
    "    if '<row'in line:\n",
    "        try:\n",
    "            root = ET.fromstring(line.encode('utf8').strip())\n",
    "        except:\n",
    "            pass\n",
    "            return (\"Empty\")\n",
    "            \n",
    "        if root != '':\n",
    "            if \"Tags\" in root.attrib:\n",
    "                    try:\n",
    "                        data = root.attrib[\"Tags\"]\n",
    "                    except:\n",
    "                        pass\n",
    "                        return (\"Empty\")\n",
    "                    data = data.replace(\"><\", \" \").replace(\"<\", \"\").replace(\">\", \"\")\n",
    "                    return data\n",
    "            else:\n",
    "                return(\"Empty\")\n",
    "        else:\n",
    "            return(\"Empty\")\n",
    "    else:\n",
    "        return(\"Empty\")\n",
    "            \n",
    "        "
   ]
  },
  {
   "cell_type": "code",
   "execution_count": 4,
   "metadata": {
    "collapsed": false
   },
   "outputs": [
    {
     "name": "stdout",
     "output_type": "stream",
     "text": [
      "DataFrame[text: array<string>, score: bigint]\n",
      "[Row(text=[u'optimization', u'cuda'], score=1), Row(text=[u'java', u'android', u'linux', u'networking', u'sshj'], score=1), Row(text=[u'python', u'python-3.x', u'dictionary'], score=1), Row(text=[u'android'], score=1), Row(text=[u'solr', u'elasticsearch', u'morelikethis'], score=1), Row(text=[u'android', u'android-intent', u'call'], score=1), Row(text=[u'ruby', u'dictionary'], score=1), Row(text=[u'java', u'android', u'class', u'bluetooth', u'android-bluetooth'], score=1), Row(text=[u'jsp', u'error-handling', u'struts-1.x'], score=1), Row(text=[u'bash', u'arguments'], score=1), Row(text=[u'codeigniter'], score=1), Row(text=[u'c++', u'class', u'templates'], score=1), Row(text=[u'c++', u'cmake'], score=1), Row(text=[u'actionscript-3', u'flashdevelop'], score=1), Row(text=[u'php', u'arrays', u'for-loop'], score=1), Row(text=[u'javascript', u'jquery'], score=1), Row(text=[u'php', u'mysql', u'arrays'], score=1), Row(text=[u'nexus', u'jersey-client'], score=1), Row(text=[u'jenkins'], score=1), Row(text=[u'asp.net-mvc', u'visual-studio-2013', u'yahoo-oauth'], score=1)]\n"
     ]
    }
   ],
   "source": [
    "\n",
    "content = posts_lines.map(parsePost).filter(lambda x: x!= 'Empty')\\\n",
    "            .map(lambda line: (line.split(\" \"), 1)).toDF(['text', 'score'])\n",
    "\n",
    "print content\n",
    "content.count()\n",
    "print content.take(20)"
   ]
  },
  {
   "cell_type": "code",
   "execution_count": 5,
   "metadata": {
    "collapsed": false
   },
   "outputs": [],
   "source": [
    "w2v = Word2Vec(inputCol=\"text\",vectorSize=100, seed=42L) \n",
    "model = w2v.fit(content)\n"
   ]
  },
  {
   "cell_type": "code",
   "execution_count": 6,
   "metadata": {
    "collapsed": false,
    "scrolled": true
   },
   "outputs": [
    {
     "name": "stdout",
     "output_type": "stream",
     "text": [
      "[Row(word=u'lattice', similarity=2.500966616566001), Row(word=u'shiny', similarity=2.329235087188001), Row(word=u'data.frame', similarity=2.3228756021521852), Row(word=u'r-grid', similarity=2.316870014786195), Row(word=u'lm', similarity=2.3096607665949684), Row(word=u'plyr', similarity=2.3075690277968426), Row(word=u'boxplot', similarity=2.3047255614301383), Row(word=u'data.table', similarity=2.2902269345825337), Row(word=u'na', similarity=2.2860795623681476), Row(word=u'levelplot', similarity=2.278655040779817), Row(word=u'geom-bar', similarity=2.2679633397888206), Row(word=u'quantmod', similarity=2.249092516045453), Row(word=u'reshape', similarity=2.248116894836326), Row(word=u'ggvis', similarity=2.2455025888019824), Row(word=u'r-factor', similarity=2.244787382164097), Row(word=u'facet-wrap', similarity=2.2323297589284676), Row(word=u'vegan', similarity=2.2240827623302373), Row(word=u'dplyr', similarity=2.220983793081478), Row(word=u'lme4', similarity=2.2201058228506656), Row(word=u'do.call', similarity=2.219662937376575), Row(word=u'plotmath', similarity=2.2165199201319497), Row(word=u'zoo', similarity=2.213539713024378), Row(word=u'rgl', similarity=2.212606172200445), Row(word=u'gtable', similarity=2.2107515807481612), Row(word=u'read.table', similarity=2.2106231837194112), Row(word=u'ggmap', similarity=2.2009871073979865), Row(word=u'tapply', similarity=2.192943974106041), Row(word=u'geom-text', similarity=2.192184782732603), Row(word=u'gmisc', similarity=2.1812180993713053), Row(word=u'reshape2', similarity=2.180295422837546), Row(word=u'rstudio', similarity=2.1768332479664774), Row(word=u'xts', similarity=2.1761807903186323), Row(word=u'cran', similarity=2.169535477781076), Row(word=u'loess', similarity=2.1681908369323306), Row(word=u'bioconductor', similarity=2.1676337559562118), Row(word=u'sapply', similarity=2.164038714148857), Row(word=u'gwidgets', similarity=2.1627434024448853), Row(word=u'performanceanalytics', similarity=2.1609558194879455), Row(word=u'melt', similarity=2.15529230288843), Row(word=u'ecdf', similarity=2.1548519504283115)]\n"
     ]
    }
   ],
   "source": [
    "result = model.findSynonyms('ggplot2', 40).rdd.take(40)\n",
    "print result\n"
   ]
  },
  {
   "cell_type": "code",
   "execution_count": 7,
   "metadata": {
    "collapsed": false
   },
   "outputs": [
    {
     "name": "stdout",
     "output_type": "stream",
     "text": [
      "[('lattice', 2.500966616566001), ('shiny', 2.329235087188001), ('data.frame', 2.3228756021521852), ('r-grid', 2.316870014786195), ('lm', 2.3096607665949684), ('plyr', 2.3075690277968426), ('boxplot', 2.3047255614301383), ('data.table', 2.2902269345825337), ('na', 2.2860795623681476), ('levelplot', 2.278655040779817), ('geom-bar', 2.2679633397888206), ('quantmod', 2.249092516045453), ('reshape', 2.248116894836326), ('ggvis', 2.2455025888019824), ('r-factor', 2.244787382164097), ('facet-wrap', 2.2323297589284676), ('vegan', 2.2240827623302373), ('dplyr', 2.220983793081478), ('lme4', 2.2201058228506656), ('do.call', 2.219662937376575), ('plotmath', 2.2165199201319497), ('zoo', 2.213539713024378), ('rgl', 2.212606172200445), ('gtable', 2.2107515807481612), ('read.table', 2.2106231837194112)]\n"
     ]
    }
   ],
   "source": [
    "\n",
    "answer=[]\n",
    "for i in range(0,25):\n",
    "    answer.append((str(result[i][0]), result[i][1]))\n",
    "print answer"
   ]
  },
  {
   "cell_type": "code",
   "execution_count": null,
   "metadata": {
    "collapsed": true
   },
   "outputs": [],
   "source": []
  }
 ],
 "metadata": {
  "kernelspec": {
   "display_name": "Python 2",
   "language": "python",
   "name": "python2"
  },
  "language_info": {
   "codemirror_mode": {
    "name": "ipython",
    "version": 2
   },
   "file_extension": ".py",
   "mimetype": "text/x-python",
   "name": "python",
   "nbconvert_exporter": "python",
   "pygments_lexer": "ipython2",
   "version": "2.7.10"
  }
 },
 "nbformat": 4,
 "nbformat_minor": 0
}
