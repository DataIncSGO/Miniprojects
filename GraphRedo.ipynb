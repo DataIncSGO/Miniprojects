{
 "cells": [
  {
   "cell_type": "code",
   "execution_count": 81,
   "metadata": {
    "collapsed": false
   },
   "outputs": [],
   "source": [
    "#Imports\n",
    "import requests\n",
    "from bs4 import BeautifulSoup\n",
    "import re\n",
    "from datetime import datetime\n",
    "\n",
    "\n",
    "#Constants\n",
    "url = \"http://www.newyorksocialdiary.com/party-pictures?page=\"\n",
    "base_url = \"http://www.newyorksocialdiary.com\"\n",
    "stop_date = datetime.strptime('Monday, December 1, 2014', '%A, %B %d, %Y')\n",
    "#base_url_2 = http://www.newyorksocialdiary.com/party-pictures?page=1\n",
    "match = \"pictures\"\n",
    "\n",
    "\n",
    "#Initialize lists\n",
    "link_list=[]\n",
    "date_list=[] \n",
    "valid_links=[]\n",
    "\n",
    "#Obtain all the pages and check for valid captions.  First page skipped because of stop date.\n",
    "for p in range(1,27):  \n",
    "    response = requests.get(url+str(p))\n",
    "    c = response.content\n",
    "    soup = BeautifulSoup(c)\n",
    "\n",
    "    test = soup.findAll(attrs={'class': 'field-content'})\n",
    "\n",
    "    for link in test:\n",
    "        link_string = str(link) \n",
    "        if re.search(match, link_string):\n",
    "            href_string = str(link.next.get(\"href\"))\n",
    "            link_list.append(href_string)\n",
    "        else:\n",
    "            date_list.append(str(link.next))\n",
    "        "
   ]
  },
  {
   "cell_type": "code",
   "execution_count": 82,
   "metadata": {
    "collapsed": false
   },
   "outputs": [
    {
     "name": "stdout",
     "output_type": "stream",
     "text": [
      "1192\n"
     ]
    }
   ],
   "source": [
    "\n",
    "#Get only those captions within the established date range.\n",
    "for i in range(0,len(date_list)):\n",
    "    date = datetime.strptime(date_list[i],'%A, %B %d, %Y')\n",
    "    if date < stop_date:\n",
    "        valid_links.append(link_list[i])\n",
    "print len(valid_links)\n"
   ]
  },
  {
   "cell_type": "code",
   "execution_count": 83,
   "metadata": {
    "collapsed": false
   },
   "outputs": [
    {
     "name": "stdout",
     "output_type": "stream",
     "text": [
      "1192\n",
      "113763\n"
     ]
    }
   ],
   "source": [
    "print len(valid_links)\n",
    "\n",
    "#Select those tags and attributes which correspond to a photo caption.\n",
    "raw_captions=[]\n",
    "caps=[]\n",
    "\n",
    "for j in range(0,len(valid_links)):\n",
    "    new_url=base_url + valid_links[j]\n",
    "    response2 = requests.get(new_url)\n",
    "    soup = BeautifulSoup(response2.content)\n",
    "    caps1 = soup.select('.photocaption')\n",
    "    caps2 = soup.select('font')\n",
    "    caps=caps1+caps2\n",
    "    for link in caps:\n",
    "        if link.text != \"\":\n",
    "            raw_captions.append(link.text)\n",
    "print len(raw_captions)\n",
    "    \n",
    "    \n"
   ]
  },
  {
   "cell_type": "code",
   "execution_count": 84,
   "metadata": {
    "collapsed": false
   },
   "outputs": [],
   "source": [
    "#For convenience pickle the data object.\n",
    "import pickle\n",
    "\n",
    "with open('CaptionsB','w') as f:\n",
    "    pickle.dump(raw_captions,f)\n",
    "    \n"
   ]
  },
  {
   "cell_type": "code",
   "execution_count": 423,
   "metadata": {
    "collapsed": false
   },
   "outputs": [],
   "source": [
    "#For convenience of time, work with the pickled object.\n",
    "import pickle\n",
    "captions = pickle.load(open('CaptionsB', 'r'))\n",
    "\n"
   ]
  },
  {
   "cell_type": "code",
   "execution_count": 424,
   "metadata": {
    "collapsed": false
   },
   "outputs": [
    {
     "name": "stdout",
     "output_type": "stream",
     "text": [
      "113553\n"
     ]
    }
   ],
   "source": [
    "#Eliminate those captions with excessively long length.\n",
    "valid_captions = []\n",
    "for item in captions:\n",
    "    if len(item)<250:\n",
    "        valid_captions.append(item)\n",
    "print len(valid_captions)\n"
   ]
  },
  {
   "cell_type": "code",
   "execution_count": 425,
   "metadata": {
    "collapsed": false
   },
   "outputs": [
    {
     "name": "stdout",
     "output_type": "stream",
     "text": [
      "Pat\n",
      "                    Carey, Joan McGivern, and Mario Buatta\n"
     ]
    }
   ],
   "source": [
    "print valid_captions[113200]\n",
    "\n"
   ]
  },
  {
   "cell_type": "code",
   "execution_count": 426,
   "metadata": {
    "collapsed": false
   },
   "outputs": [
    {
     "name": "stdout",
     "output_type": "stream",
     "text": [
      "113553\n",
      "112320\n",
      "[u' Carter Bays and Craig Thomas ', u' Melissa Errico, Todd Hollander, and Natalia Bulgari ', u' George Lichtblau, Anne Lichtblau, and  Sig Ackerman ', u' Daniel Murphy, Deann Murphy, Jessica Farrell, and Ken Farrell ', u' Jonny Podell ', u' Ashley McDermott ', u' Caroline Dean ', u' Jena Silverman, John Silverman, Tess Silverman, and Dara Silverman ', u' Jaime Gleicher and Jared Seligman ', u' Fred Feiner, Ricki Feiner, Sandie Greene, and Bob Greene ']\n"
     ]
    }
   ],
   "source": [
    "#Eliminate some common words.\n",
    "test_list = valid_captions\n",
    "print len(test_list)\n",
    "\n",
    "Title = ['President', 'president','Board Member','Sir','Honoree', 'Prima ballerina' ,'Trustee','Gala ', 'Event ', 'Girl Scout', 'Special Surgery', 'Dr.','Mrs.', 'Mr.', 'Ms.','Baroness', 'Princess', 'Ambassador','Commissioner', 'Police', 'Lung','Against', 'Foundation', 'Uniting','Mayor', 'Curator','Director', 'General', 'consul General','Honorable']\n",
    "Nationality =['French', 'German', 'Russian', 'British', 'Spanish', \"New York\", 'France', 'Embassy', 'American']\n",
    "Middle = ['Legal', 'Justice', 'friend', 'friends', 'guests', 'Jr. ','Co-men ','Co-man ', 'PhD', 'MD', 'CEO', 'Guest','M.D.', 'Jr.', 'Host','Co-Chairs','Co-Chairmen', 'Chairs', 'Chair','Chairman', 'Chairmen', '-Chairmen']\n",
    "Common = ['Award', 'The', 'Steering Committee','his wife','man of','of the' ,'Actor','Actress', 'Playwright', 'Broadway', ' her husband ' ,'Have', 'Dream','Committee', 'Company','Dance', 'Cocktail', 'School', 'Annual', 'Gala', 'National', 'Fund', 'Kettering','Education', 'Humanitarian', 'Family', 'Museum','Historic','Natural History','Memorial']\n",
    "\n",
    "for item in test_list:\n",
    "    if \"Photographs by\" in item:\n",
    "        test_list.remove(item)\n",
    "for i in range(0, len(test_list)):\n",
    "    for title in Title:\n",
    "        if title in test_list[i]:\n",
    "            test_list[i]=test_list[i].replace(title, \"\")\n",
    "    for nat in Nationality:\n",
    "        if nat in test_list[i]:\n",
    "            test_list[i]=test_list[i].replace(nat, \"\")\n",
    "    for mid in Middle:\n",
    "        if mid in test_list[i]:\n",
    "            test_list[i]=test_list[i].replace(mid, \"\") \n",
    "    for common in Common:\n",
    "        if common in test_list[i]:\n",
    "            test_list[i]=test_list[i].replace(common,\"\")\n",
    "            \n",
    "print len(test_list)\n",
    "print test_list[30:40]"
   ]
  },
  {
   "cell_type": "code",
   "execution_count": 427,
   "metadata": {
    "collapsed": false
   },
   "outputs": [
    {
     "name": "stdout",
     "output_type": "stream",
     "text": [
      "112320\n",
      "[[u' Carter Bays and Craig Thomas '], [u' Melissa Errico', u' Todd Hollander', u' and Natalia Bulgari '], [u' George Lichtblau', u' Anne Lichtblau', u' and  Sig Ackerman '], [u' Daniel Murphy', u' Deann Murphy', u' Jessica Farrell', u' and Ken Farrell '], [u' Jonny Podell '], [u' Ashley McDermott '], [u' Caroline Dean '], [u' Jena Silverman', u' John Silverman', u' Tess Silverman', u' and Dara Silverman '], [u' Jaime Gleicher and Jared Seligman '], [u' Fred Feiner', u' Ricki Feiner', u' Sandie Greene', u' and Bob Greene ']]\n"
     ]
    }
   ],
   "source": [
    "#Split each caption entry on commas.\n",
    "revised_list=[]\n",
    "for y in test_list:\n",
    "    revised_list.append(y.split(\",\"))\n",
    "\n",
    "print len(revised_list)\n",
    "print revised_list[30:40]"
   ]
  },
  {
   "cell_type": "code",
   "execution_count": 428,
   "metadata": {
    "collapsed": true
   },
   "outputs": [],
   "source": [
    "#Take care of 'with' in caption by splitting into two strings.\n",
    "for foto_element in revised_list:\n",
    "    for t in range(0, len(foto_element)):\n",
    "        if ' with ' in foto_element[t]:\n",
    "            hold = foto_element[t].split('with')\n",
    "            foto_element[t]=hold[0]\n",
    "            foto_element.append(hold[1])\n"
   ]
  },
  {
   "cell_type": "code",
   "execution_count": 429,
   "metadata": {
    "collapsed": false
   },
   "outputs": [
    {
     "name": "stdout",
     "output_type": "stream",
     "text": [
      "[[u'Craig Thomas', u'Carter Bays'], [u'Melissa Errico', u'Todd Hollander', u'Natalia Bulgari'], [u'George Lichtblau', u'Anne Lichtblau', u'Sig Ackerman'], [u'Daniel Murphy', u'Deann Murphy', u'Jessica Farrell', u'Ken Farrell'], [u'Jonny Podell '], [u'Ashley McDermott '], [u'Caroline Dean '], [u'Jena Silverman', u'John Silverman', u'Tess Silverman', u'Dara Silverman'], [u'Jared Seligman', u'Jaime Gleicher'], [u'Fred Feiner', u'Ricki Feiner', u'Sandie Greene', u'Bob Greene']]\n",
      "112320\n"
     ]
    }
   ],
   "source": [
    "#Take care of 'and' in caption.  Three cases: before name, betweeen names married, and between names.\n",
    "for foto_caption in revised_list:\n",
    "    for s in range(0, len(foto_caption)):\n",
    "        if ' and ' in foto_caption[s]:\n",
    "            temp = foto_caption[s].split()\n",
    "            if temp[0] == 'and':\n",
    "                foto_caption[s] = \" \".join(temp[1:])\n",
    "            else:\n",
    "                if temp[1] == 'and':\n",
    "                    foto_caption[s] = \" \".join(temp[2:])\n",
    "                    foto_caption.append(\" \".join([temp[0], temp[-1]]))\n",
    "                else:\n",
    "                    if temp[2] == 'and':\n",
    "                        foto_caption[s] = \" \".join(temp[3:])\n",
    "                        foto_caption.append(\" \".join(temp[0:2]))\n",
    "                    else:\n",
    "                        if len(temp)>4:\n",
    "                            if temp[3]== 'and':\n",
    "                                foto_caption[s] = \" \".join(temp[4:])\n",
    "                                foto_caption.append(\" \".join(temp[0:3]))\n",
    "                                                                                           \n",
    "#Get rid of empty spaces at start of name.               \n",
    "for clean_caption in revised_list:\n",
    "    for r in range(0, len(clean_caption)):\n",
    "        if clean_caption[r] != \"\" and clean_caption[r][0] == \" \":\n",
    "            clean_caption[r] = clean_caption[r][1:]\n",
    "            \n",
    "            \n",
    "print revised_list[30:40]\n",
    "print len(revised_list)"
   ]
  },
  {
   "cell_type": "code",
   "execution_count": 430,
   "metadata": {
    "collapsed": false
   },
   "outputs": [],
   "source": [
    "#Take care of long sentences by taking the first two names.\n",
    "for foto_item in revised_list:\n",
    "    for u in range(0, len(foto_item)):\n",
    "        special = foto_item[u].split()\n",
    "        if len(special)>4:\n",
    "            foto_item[u]=special[0]+ \" \" + special[1]\n"
   ]
  },
  {
   "cell_type": "code",
   "execution_count": 431,
   "metadata": {
    "collapsed": false
   },
   "outputs": [
    {
     "name": "stdout",
     "output_type": "stream",
     "text": [
      "112320\n"
     ]
    }
   ],
   "source": [
    "#Remove empty lists.\n",
    "for picture in revised_list:\n",
    "    if picture == []:\n",
    "        revised_list.remove(picture)\n",
    "print len(revised_list)"
   ]
  },
  {
   "cell_type": "code",
   "execution_count": 432,
   "metadata": {
    "collapsed": false
   },
   "outputs": [
    {
     "name": "stdout",
     "output_type": "stream",
     "text": [
      "[[u'Craig Thomas', u'Carter Bays'], [u'Melissa Errico', u'Todd Hollander', u'Natalia Bulgari'], [u'George Lichtblau', u'Anne Lichtblau', u'Sig Ackerman'], [u'Daniel Murphy', u'Deann Murphy', u'Jessica Farrell', u'Ken Farrell'], [u'Jonny Podell '], [u'Ashley McDermott '], [u'Caroline Dean '], [u'Jena Silverman', u'John Silverman', u'Tess Silverman', u'Dara Silverman'], [u'Jared Seligman', u'Jaime Gleicher'], [u'Fred Feiner', u'Ricki Feiner', u'Sandie Greene', u'Bob Greene']]\n"
     ]
    }
   ],
   "source": [
    "#Remove odd characters.\n",
    "\n",
    "for foto_check in revised_list:\n",
    "    for item in foto_check:\n",
    "        if item == \" \":\n",
    "            foto_check.remove(item)\n",
    "        if item == \"  \":\n",
    "            foto_check.remove(item)\n",
    "        if item == \"s\":\n",
    "            foto_check.remove(item)\n",
    "        if item == 'a ':\n",
    "            foto_check.remove(item)\n",
    "            \n",
    "            #if picture_item[v] == \"  \":\n",
    "                #picture_item.remove(picture_item[v])\n",
    "            #if picture_item[v] == 's':\n",
    "                #picture_item.remove(picture_item[v])\n",
    "\n",
    "for foto_check2 in revised_list:\n",
    "    for item2 in foto_check2:\n",
    "        if item2 == '':\n",
    "            foto_check2.remove(item2)\n",
    "            \n",
    "                   \n",
    "print revised_list[30:40]"
   ]
  },
  {
   "cell_type": "code",
   "execution_count": 433,
   "metadata": {
    "collapsed": false
   },
   "outputs": [],
   "source": [
    "#revised_list=[]\n",
    "#for i in range(0,len(test_list)):\n",
    "    #r = re.findall(r'([A-Z]{1}[a-z]*\\s[A-Z]{1}[a-z]+)', test_list[i])\n",
    "    #r = re.findall(r'([A-Z]{1}[a-z]*\\s[A-Z]{1}[c]*[A-Z]*[a-z]+)', test_list[i])\n",
    "    #if r != []:\n",
    "        #revised_list.append(r)\n",
    "#print len(revised_list)\n",
    "#print revised_list[30:40]"
   ]
  },
  {
   "cell_type": "code",
   "execution_count": 434,
   "metadata": {
    "collapsed": false
   },
   "outputs": [
    {
     "name": "stdout",
     "output_type": "stream",
     "text": [
      "237354\n",
      "[(u'Sharon Teles', u'Eby McKay'), (u'Carol Sutton Lewis', u'Kathryn Chenault'), (u'Dan Paduano', u'Nancy Paduano'), (u'George Hambrecht', u'Andrea Fahnestock'), (u'Doug Blonsky', u'Judy Angelo'), (u'James Scott', u'Barbara Scott'), (u'James Scott', u'Julie Miller'), (u'James Scott', u'Kamie Lightburn'), (u'Barbara Scott', u'Julie Miller'), (u'Barbara Scott', u'Kamie Lightburn'), (u'Julie Miller', u'Kamie Lightburn'), (u'Anne Harrison', u'Bill Harrison'), (u'Mary Silver', u'Mitchell Silver'), (u'William Zeckendorf', u'Gillian Miniter'), (u'Tom Gold', u'Michelle Smith'), (u'Patti Harris', u'Tom Kempner'), (u'Patti Harris', u'Veronica White'), (u'Tom Kempner', u'Veronica White'), (u'Marcus Miller', u'Jon Batiste'), (u'Geoffrey Canada', u'Sherrilyn Ifill')]\n"
     ]
    }
   ],
   "source": [
    "#Use itertools to create all of the combinations between people in the same foto.\n",
    "import itertools\n",
    "\n",
    "combinations_list=[]\n",
    "for j in range(0,len(revised_list)):\n",
    "    results = [x for x in itertools.combinations(revised_list[j], 2)]\n",
    "    if results != []:\n",
    "        combinations_list+=results\n",
    "print len(combinations_list)\n",
    "print combinations_list[170:190]"
   ]
  },
  {
   "cell_type": "code",
   "execution_count": 435,
   "metadata": {
    "collapsed": true
   },
   "outputs": [],
   "source": [
    "#Create graph to map all of the connections.\n",
    "import networkx as nx\n",
    "G=nx.Graph()\n",
    "G.add_edges_from(combinations_list)"
   ]
  },
  {
   "cell_type": "code",
   "execution_count": 436,
   "metadata": {
    "collapsed": false
   },
   "outputs": [
    {
     "name": "stdout",
     "output_type": "stream",
     "text": [
      "Robert Cecot\n",
      "106814\n",
      "<type 'dict'>\n",
      "3\n"
     ]
    }
   ],
   "source": [
    "#Get information about the number of pictures for individuals.\n",
    "listing_dict = dict(nx.degree(G))\n",
    "listing = list(nx.degree(G))\n",
    "print listing[800]\n",
    "print len(listing_dict)\n",
    "print type(listing_dict)\n",
    "print listing_dict['Douglas Jencks']\n"
   ]
  },
  {
   "cell_type": "code",
   "execution_count": 437,
   "metadata": {
    "collapsed": false
   },
   "outputs": [
    {
     "name": "stdout",
     "output_type": "stream",
     "text": [
      "             Degrees\n",
      "count  106814.000000\n",
      "mean        3.828131\n",
      "std         6.746784\n",
      "min         1.000000\n",
      "25%         1.000000\n",
      "50%         2.000000\n",
      "75%         4.000000\n",
      "max       425.000000\n"
     ]
    }
   ],
   "source": [
    "#Create a dataframe of the information.\n",
    "import pandas as pd\n",
    "import numpy as np\n",
    "\n",
    "#hope = pd.DataFrame.from_dict(listing_dict)\n",
    "df = pd.DataFrame([[key,value] for key,value in listing_dict.iteritems()],columns=[\"Name\",\"Degrees\"])\n",
    "\n",
    "\n",
    "print df.describe()"
   ]
  },
  {
   "cell_type": "code",
   "execution_count": 438,
   "metadata": {
    "collapsed": false
   },
   "outputs": [
    {
     "name": "stdout",
     "output_type": "stream",
     "text": [
      "                     Name  Degrees\n",
      "0          Jean Shafiroff      425\n",
      "1         Mark Gilbertson      348\n",
      "2         Gillian Miniter      244\n",
      "3      Geoffrey Bradfield      209\n",
      "4     Alexandra Lebenthal      209\n",
      "5            Mario Buatta      204\n",
      "6           Somers Farkas      202\n",
      "7           Andrew Saffir      201\n",
      "8               Alina Cho      190\n",
      "9             Sharon Bush      189\n",
      "10          Yaz Hernandez      187\n",
      "11        Kamie Lightburn      181\n",
      "12        Debbie Bancroft      178\n",
      "13     Lucia Hwong Gordon      174\n",
      "14       Eleanora Kennedy      173\n",
      "15       Patrick McMullan      165\n",
      "16    Muffie Potter Aston      162\n",
      "17          Allison Aston      159\n",
      "18         Bettina Zilkha      158\n",
      "19       Amy Fine Collins      147\n",
      "20         Martha Stewart      147\n",
      "21       Deborah Norville      143\n",
      "22          Barbara Tober      142\n",
      "23        Kipton Cronkite      141\n",
      "24                             138\n",
      "25          Grace Meigher      138\n",
      "26            Lydia Fenet      136\n",
      "27          Jamee Gregory      135\n",
      "28     Christopher Hyland      132\n",
      "29    Elizabeth Stribling      131\n",
      "..                    ...      ...\n",
      "70     Beth Rudin DeWoody       98\n",
      "71  Coralie Charriol Paul       98\n",
      "72   Michele Gerber Klein       98\n",
      "73        Richard Johnson       98\n",
      "74     Georgina Schaeffer       98\n",
      "75           Pamela Fiori       98\n",
      "76       Tinsley Mortimer       98\n",
      "77            Jamie Niven       97\n",
      "78          Janna Bullock       97\n",
      "79      Michael Bloomberg       97\n",
      "80           R. Couri Hay       96\n",
      "81    Alexandra Lind Rose       96\n",
      "82          Mary Davidson       96\n",
      "83       Alexia Hamm Ryan       96\n",
      "84    Dawne Marie Grannum       96\n",
      "85             Carol Mack       95\n",
      "86             CeCe Black       95\n",
      "87         Steven Stolman       94\n",
      "88           Stewart Lane       94\n",
      "89        Daniel Benedict       93\n",
      "90        Deborah Roberts       93\n",
      "91   Melissa Berkelhammer       93\n",
      "92        Shoshanna Gruss       91\n",
      "93      Chuck Scarborough       91\n",
      "94   Cassandra Seidenfeld       91\n",
      "95      Hilary Geary Ross       91\n",
      "96         Susan Magazine       91\n",
      "97          Heather Leeds       91\n",
      "98        Suzanne Cochran       90\n",
      "99            John Demsey       90\n",
      "\n",
      "[100 rows x 2 columns]\n",
      "          Degrees\n",
      "count  100.000000\n",
      "mean   128.760000\n",
      "std     50.426688\n",
      "min     90.000000\n",
      "25%     98.000000\n",
      "50%    113.500000\n",
      "75%    138.000000\n",
      "max    425.000000\n"
     ]
    }
   ],
   "source": [
    "#print df\n",
    "\n",
    "#Sort the list for top 100 people with connections.\n",
    "top_df = df.sort(['Degrees'], ascending=[False])[:100]\n",
    "top_df = top_df.reset_index(drop=True)\n",
    "\n",
    "print top_df[:100]\n",
    "\n",
    "print top_df.describe()"
   ]
  },
  {
   "cell_type": "code",
   "execution_count": 439,
   "metadata": {
    "collapsed": false
   },
   "outputs": [
    {
     "name": "stdout",
     "output_type": "stream",
     "text": [
      "[(u'Jean Shafiroff', 425), (u'Mark Gilbertson', 348), (u'Gillian Miniter', 244), (u'Geoffrey Bradfield', 209), (u'Alexandra Lebenthal', 209), (u'Mario Buatta', 204), (u'Somers Farkas', 202), (u'Andrew Saffir', 201), (u'Alina Cho', 190), (u'Sharon Bush', 189), (u'Yaz Hernandez', 187), (u'Kamie Lightburn', 181), (u'Debbie Bancroft', 178), (u'Lucia Hwong Gordon', 174), (u'Eleanora Kennedy', 173), (u'Patrick McMullan', 165), (u'Muffie Potter Aston', 162), (u'Allison Aston', 159), (u'Bettina Zilkha', 158), (u'Amy Fine Collins', 147), (u'Martha Stewart', 147), (u'Deborah Norville', 143), (u'Barbara Tober', 142), (u'Kipton Cronkite', 141), (u'', 138), (u'Grace Meigher', 138), (u'Lydia Fenet', 136), (u'Jamee Gregory', 135), (u'Christopher Hyland', 132), (u'Elizabeth Stribling', 131), (u'Karen LeFrak', 129), (u'Donna Karan', 128), (u'Evelyn Lauder', 127), (u'Russell Simmons', 127), (u'Diana Taylor', 127), (u'Paula Zahn', 126), (u'Nicole Miller', 126), (u'Alec Baldwin', 124), (u'Leonard Lauder', 124), (u'Fernanda Kellogg', 123), (u'Audrey Gruss', 123), (u'Karen Klopp', 122), (u'Margo Langenberg', 120), (u'Dennis Basso', 120), (u'Bonnie Comley', 118), (u'Liliana Cavendish', 118), (u'Jennifer Creel', 117), (u'Rosanna Scotto', 117), (u'Liz Peek', 114), (u'Fern Mallis', 114), (u'Michele Herbert', 113), (u'Anka Palitz', 112), (u'Amy Hoadley', 112), (u'Adelina Wong Ettelson', 111), (u'Susan Shin', 110), (u'Nathalie Kaplan', 109), (u'Fe Fendi', 108), (u'Tory Burch', 108), (u'Felicia Taylor', 105), (u'Amy McFarland', 105), (u'Barbara Regna', 104), (u'Michael Bloomberg', 103), (u'Cynthia Lufkin', 103), (u'Lisa Anastos', 102), (u'Margaret Russell', 101), (u'Martha Glass', 101), (u'Wendy Carduner', 100), (u'Evelyn Tompkins', 100), (u'Bette Midler', 99), (u'Dayssi Olarte de Kanavos', 98), (u'Beth Rudin DeWoody', 98), (u'Coralie Charriol Paul', 98), (u'Michele Gerber Klein', 98), (u'Richard Johnson', 98), (u'Georgina Schaeffer', 98), (u'Pamela Fiori', 98), (u'Tinsley Mortimer', 98), (u'Jamie Niven', 97), (u'Janna Bullock', 97), (u' Michael Bloomberg', 97), (u'R. Couri Hay', 96), (u'Alexandra Lind Rose', 96), (u'Mary Davidson', 96), (u'Alexia Hamm Ryan', 96), (u'Dawne Marie Grannum', 96), (u'Carol Mack', 95), (u'CeCe Black', 95), (u'Steven Stolman', 94), (u'Stewart Lane', 94), (u'Daniel Benedict', 93), (u'Deborah Roberts', 93), (u'Melissa Berkelhammer', 93), (u'Shoshanna Gruss', 91), (u'Chuck Scarborough', 91), (u'Cassandra Seidenfeld', 91), (u'Hilary Geary Ross', 91), (u'Susan Magazine', 91), (u'Heather Leeds', 91), (u'Suzanne Cochran', 90), (u'John Demsey', 90)]\n"
     ]
    }
   ],
   "source": [
    "#Initialize the answer tuple for question one.\n",
    "ANSWER1 = []\n",
    "#Get the required values for the answer tuple.\n",
    "for i in top_df.index:\n",
    "    tup1=(top_df.iloc[i,0], top_df.iloc[i,1])\n",
    "    ANSWER1.append(tup1)\n",
    "print ANSWER1\n"
   ]
  },
  {
   "cell_type": "code",
   "execution_count": 440,
   "metadata": {
    "collapsed": false
   },
   "outputs": [],
   "source": [
    "#Obtain the pagerank information.\n",
    "pr_dict = nx.pagerank_scipy(G, alpha=0.85)\n",
    "\n",
    "pr_df = pd.DataFrame([[key,value] for key,value in pr_dict.iteritems()],columns=[\"Name\",\"Rank\"])\n"
   ]
  },
  {
   "cell_type": "code",
   "execution_count": 441,
   "metadata": {
    "collapsed": false
   },
   "outputs": [
    {
     "name": "stdout",
     "output_type": "stream",
     "text": [
      "                        Name      Rank\n",
      "76               Jamie Niven  0.000127\n",
      "77        Beth Rudin DeWoody  0.000126\n",
      "78      Melissa Berkelhammer  0.000126\n",
      "79            Clockwise from  0.000126\n",
      "80             Amy McFarland  0.000126\n",
      "81               Denise Rich  0.000124\n",
      "82      Cassandra Seidenfeld  0.000124\n",
      "83              R. Couri Hay  0.000124\n",
      "84                Tina Brown  0.000124\n",
      "85             Mary Davidson  0.000123\n",
      "86                Agnes Gund  0.000123\n",
      "87           Daniel Benedict  0.000122\n",
      "88            Wendy Carduner  0.000121\n",
      "89            Cynthia Lufkin  0.000120\n",
      "90          Margaret Russell  0.000120\n",
      "91             Mary Van Pelt  0.000119\n",
      "92          Bettina Prentice  0.000119\n",
      "93         Chuck Scarborough  0.000118\n",
      "94          Edward Callaghan  0.000118\n",
      "95        Kristian Laliberte  0.000118\n",
      "96                CeCe Black  0.000117\n",
      "97  Dayssi Olarte de Kanavos  0.000116\n",
      "98         Michael Bloomberg  0.000115\n",
      "99               Peter Lyden  0.000115\n",
      "          Degrees\n",
      "count  100.000000\n",
      "mean   128.760000\n",
      "std     50.426688\n",
      "min     90.000000\n",
      "25%     98.000000\n",
      "50%    113.500000\n",
      "75%    138.000000\n",
      "max    425.000000\n"
     ]
    }
   ],
   "source": [
    "#Sort the list according to top ranks.\n",
    "top_pr_df = pr_df.sort(['Rank'], ascending=[False])[:100]\n",
    "top_pr_df = top_pr_df.reset_index(drop=True)\n",
    "\n",
    "print top_pr_df[76:100]\n",
    "\n",
    "print top_df.describe()"
   ]
  },
  {
   "cell_type": "code",
   "execution_count": 442,
   "metadata": {
    "collapsed": false
   },
   "outputs": [
    {
     "name": "stdout",
     "output_type": "stream",
     "text": [
      "[(u'Jean Shafiroff', 0.00051017717120291437), (u'Mark Gilbertson', 0.00042461662649169788), (u'Gillian Miniter', 0.00029455200988996505), (u'Mario Buatta', 0.00028239832773155967), (u'Andrew Saffir', 0.00028018032708199342), (u'Geoffrey Bradfield', 0.00026674072552197519), (u'Alexandra Lebenthal', 0.00025344656741694307), (u'Sharon Bush', 0.00024982846872476073), (u'Somers Farkas', 0.0002394643294944174), (u'Yaz Hernandez', 0.00022583236687775897), (u'Alina Cho', 0.00022452905819222069), (u'Lucia Hwong Gordon', 0.00022072829353856466), (u'Kamie Lightburn', 0.00021944586164993076), (u'Patrick McMullan', 0.00021410288179690465), (u'Debbie Bancroft', 0.00021216768767288449), (u'Barbara Tober', 0.00020779579260971136), (u'Eleanora Kennedy', 0.00020143041459213086), (u'Christopher Hyland', 0.0001919032665927794), (u'Martha Stewart', 0.000190563856013161), (u'Donna Karan', 0.00018421022139295063), (u'Kipton Cronkite', 0.00018408535325863541), (u'Bettina Zilkha', 0.0001819178213055089), (u'Amy Fine Collins', 0.00018188438646705088), (u'Lydia Fenet', 0.0001796740703749502), (u'Muffie Potter Aston', 0.00017649078880652543), (u'Elizabeth Stribling', 0.00017487397309758445), (u'Allison Aston', 0.000174002673824442), (u'Alec Baldwin', 0.00017315099436120333), (u'Russell Simmons', 0.00017161475976739345), (u'Bonnie Comley', 0.00016730903638495593), (u'', 0.00016465316002069156), (u'Grace Meigher', 0.00016394600951691817), (u'Fernanda Kellogg', 0.00016277353893226162), (u'Leonard Lauder', 0.0001616323208813492), (u'Deborah Norville', 0.00016111873410290414), (u'Jamee Gregory', 0.00015959877155910537), (u'Steven Stolman', 0.00015920738586221812), (u'Karen LeFrak', 0.00015862808636458672), (u'Karen Klopp', 0.00015680539236546172), (u'family', 0.00015497036588145376), (u'Diana Taylor', 0.00015416178248266483), (u'Margo Langenberg', 0.0001539949426987793), (u'Nicole Miller', 0.00015324080708762944), (u'Fern Mallis', 0.00014992532958406311), (u'Rosanna Scotto', 0.000149098926020457), (u'Audrey Gruss', 0.00014761258835003049), (u'Evelyn Lauder', 0.00014705537604205589), (u'Anka Palitz', 0.00014702182223698981), (u'Paula Zahn', 0.00014666980636801784), (u'Dawne Marie Grannum', 0.00014536292071052969), (u'Michele Herbert', 0.00014465026049139792), (u'Georgina Schaeffer', 0.00014452222547453578), (u'Michele Gerber Klein', 0.00014332285311602567), (u'Michael Bloomberg', 0.00014329160006647175), (u'Dennis Basso', 0.0001415546698465145), (u'Susan Shin', 0.00014030429785255954), (u'Barbara Regna', 0.00013964311758755978), (u'Lisa Anastos', 0.00013761480806642615), (u'Liliana Cavendish', 0.00013687955701485307), (u'Jennifer Creel', 0.00013541445365579244), (u'children', 0.00013487759013011387), (u'Stewart Lane', 0.0001338400601334309), (u'Nathalie Kaplan', 0.00013378885297676696), (u'Felicia Taylor', 0.00013300875552612097), (u'Liz Peek', 0.00013292362770570966), (u'Richard Johnson', 0.00013271734910908756), (u'Bette Midler', 0.0001325246791144165), (u'Pamela Fiori', 0.00013217555763055949), (u'Evelyn Tompkins', 0.00013166542403202048), (u'Amy Hoadley', 0.00013078050771546981), (u'Tinsley Mortimer', 0.00013068077947494188), (u'Fe Fendi', 0.00012997280873478832), (u'Janna Bullock', 0.00012959113114683929), (u'Adelina Wong Ettelson', 0.00012946553014948553), (u'Tory Burch', 0.00012784239678052063), (u'L. to', 0.00012776063987992057), (u'Jamie Niven', 0.00012740099831226863), (u'Beth Rudin DeWoody', 0.00012649370625520721), (u'Melissa Berkelhammer', 0.00012626919548831277), (u'Clockwise from', 0.00012610409432897135), (u'Amy McFarland', 0.00012599328792659175), (u'Denise Rich', 0.00012449980215029701), (u'Cassandra Seidenfeld', 0.0001241244899118616), (u'R. Couri Hay', 0.00012390437589466483), (u'Tina Brown', 0.00012390180695981623), (u'Mary Davidson', 0.00012345383471870289), (u'Agnes Gund', 0.00012324128826135181), (u'Daniel Benedict', 0.00012187298857916516), (u'Wendy Carduner', 0.00012050404216017701), (u'Cynthia Lufkin', 0.00012038210147970303), (u'Margaret Russell', 0.00011997240865613619), (u'Mary Van Pelt', 0.00011925227535953701), (u'Bettina Prentice', 0.00011860721589369135), (u'Chuck Scarborough', 0.00011849843205264739), (u'Edward Callaghan', 0.00011847171699265685), (u'Kristian Laliberte', 0.00011767200087210178), (u'CeCe Black', 0.00011656311053361754), (u'Dayssi Olarte de Kanavos', 0.00011592858863167315), (u' Michael Bloomberg', 0.00011545508674802177), (u'Peter Lyden', 0.00011520839212220561)]\n"
     ]
    }
   ],
   "source": [
    "#Initialize the tuple for the second question.\n",
    "ANSWER2 = []\n",
    "#Get the required values for the answer tuple.\n",
    "for i in top_pr_df.index:\n",
    "    tup2=(top_pr_df.iloc[i,0], top_pr_df.iloc[i,1])\n",
    "    ANSWER2.append(tup2)\n",
    "print ANSWER2"
   ]
  },
  {
   "cell_type": "code",
   "execution_count": 443,
   "metadata": {
    "collapsed": true
   },
   "outputs": [],
   "source": [
    "#Create a multigraph for the connections.\n",
    "import networkx as nx\n",
    "\n",
    "M=nx.MultiGraph()\n",
    "M.add_edges_from(combinations_list)"
   ]
  },
  {
   "cell_type": "code",
   "execution_count": 444,
   "metadata": {
    "collapsed": false
   },
   "outputs": [],
   "source": [
    "#Create a dictionary with all the connection pairs\n",
    "friend_dict={}\n",
    "for pair in combinations_list:\n",
    "    edge_wt = M.number_of_edges(*pair)\n",
    "    friend_dict[pair]=edge_wt\n"
   ]
  },
  {
   "cell_type": "code",
   "execution_count": 445,
   "metadata": {
    "collapsed": false
   },
   "outputs": [
    {
     "name": "stdout",
     "output_type": "stream",
     "text": [
      "                            Pair  Num\n",
      "0     (Lisa Genova, Bill Wright)    1\n",
      "1  (Anne Ogilvy, Annalise Stack)    2\n",
      "2   (Hoda Kotb, Jennifer Wexler)    5\n",
      "3   (Gerold Klauer, Jana Klauer)    4\n",
      "4      (Mario Batali, Susi Cahn)    2\n"
     ]
    }
   ],
   "source": [
    "#Create a dataframe with the people pairs.\n",
    "friend_df = pd.DataFrame([[key,value] for key,value in friend_dict.iteritems()],columns=[\"Pair\",\"Num\"])\n",
    "print friend_df.head()"
   ]
  },
  {
   "cell_type": "code",
   "execution_count": 446,
   "metadata": {
    "collapsed": false
   },
   "outputs": [
    {
     "name": "stdout",
     "output_type": "stream",
     "text": [
      "              Num\n",
      "count  200.000000\n",
      "mean    27.290000\n",
      "std     17.009778\n",
      "min     15.000000\n",
      "25%     17.000000\n",
      "50%     21.000000\n",
      "75%     31.250000\n",
      "max    122.000000\n"
     ]
    }
   ],
   "source": [
    "#Get the top 200 because of the mirror connections of the pairs.\n",
    "top_friends_df = friend_df.sort(['Num'], ascending=[False])[:200]\n",
    "top_friends_df = top_friends_df.reset_index(drop=True)\n",
    "print top_friends_df.describe()"
   ]
  },
  {
   "cell_type": "code",
   "execution_count": 447,
   "metadata": {
    "collapsed": false
   },
   "outputs": [
    {
     "name": "stdout",
     "output_type": "stream",
     "text": [
      "100\n",
      "[((u'Sylvester Miniter', u'Gillian Miniter'), 122), ((u'Stewart Lane', u'Bonnie Comley'), 82), ((u'Jamee Gregory', u'Peter Gregory'), 73), ((u'Daniel Benedict', u'Andrew Saffir'), 69), ((u'Geoffrey Bradfield', u'Roric Tobin'), 68), ((u'Donald Tober', u'Barbara Tober'), 59), ((u'Jonathan Farkas', u'Somers Farkas'), 56), ((u'Jean Shafiroff', u'Martin Shafiroff'), 52), ((u'Alexandra Lebenthal', u'Jay Diamond'), 52), ((u'Tatiana Platt', u'Campion Platt'), 49), ((u'Michael Kennedy', u'Eleanora Kennedy'), 44), ((u'Sessa von Richthofen', u'Richard Johnson'), 43), ((u'Melissa Morris', u'Chappy Morris'), 43), ((u'Yaz Hernandez', u'Valentin Hernandez'), 43), ((u'Chris Meigher', u'Grace Meigher'), 42), ((u'Barbara Regna', u'Peter Regna'), 42), ((u'Jonathan Tisch', u'Lizzie Tisch'), 41), ((u'Guy Robinson', u'Elizabeth Stribling'), 40), ((u'Margo Catsimatidis', u'John Catsimatidis'), 38), ((u'Karl Wellner', u'Deborah Norville'), 37), ((u'Wilbur Ross', u'Hilary Geary Ross'), 37), ((u'Douglas Hannant', u'Frederick Anderson'), 33), ((u'Julia Koch', u'David Koch'), 32), ((u'Fernanda Kellogg', u'Kirk Henckels'), 32), ((u'Arie Kopelman', u'Coco Kopelman'), 32), ((u'R. Couri Hay', u'Janna Bullock'), 31), ((u'Clo Cohen', u'Charles Cohen'), 28), ((u'Jay McInerney', u'Anne Hearst McInerney'), 28), ((u'Leonel Piraino', u'Nina Griscom'), 27), ((u'Johannes Huebl', u'Olivia Palermo'), 27), ((u'Marc Rosen', u'Arlene Dahl'), 27), ((u'Cynthia Lufkin', u'Dan Lufkin'), 27), ((u'James Mischka', u'Mark Badgley'), 26), ((u'Dennis Basso', u'Michael Cominotto'), 26), ((u'Melania Trump', u'Donald Trump'), 26), ((u'Tommy Hilfiger', u'Dee Ocleppo'), 25), ((u'Ellen Scarborough', u'Chuck Scarborough'), 25), ((u'Lauren Bush', u'David Lauren'), 24), ((u'John Wambold', u'Melanie Wambold'), 22), ((u'Kathy Prounis', u'Othon Prounis'), 22), ((u'Muffie Potter Aston', u'Sherrell Aston'), 22), ((u'Francine LeFrak', u'Rick Friedberg'), 21), ((u'Al Roker', u'Deborah Roberts'), 21), ((u'Richard Soloway', u'Donna Soloway'), 21), ((u'Judy Gilbert', u'Rod Gilbert'), 21), ((u'Alina Cho', u'John Demsey'), 21), ((u'Wilbur Ross', u'Hilary Ross'), 21), ((u'Patricia Shiah', u'Jean Shafiroff'), 21), ((u'Susan Burke', u'Coleman Burke'), 21), ((u'Renee Steinberg', u'Richard Steinberg'), 21), ((u'Brian Stewart', u'Stephanie Krieger'), 21), ((u'Mary Davidson', u'Marvin Davidson'), 21), ((u'Lee Black', u'CeCe Black'), 20), ((u'Laura Slatkin', u'Harry Slatkin'), 20), ((u'Alex Lundqvist', u'Keytt Lundqvist'), 20), ((u'Jeff Peek', u'Liz Peek'), 20), ((u'Naeem Khan', u'Ranjana Khan'), 20), ((u'Sharon Bush', u'Jean Shafiroff'), 20), ((u'Geoffrey Thomas', u'Sharon Sondes'), 19), ((u'Tatiana Perkin', u'Thorne Perkin'), 19), ((u'Kathy Hilton', u'Rick Hilton'), 19), ((u'Michael Kovner', u'Jean Doyen de Montaillou'), 19), ((u'Eleanora Kennedy', u'Anna Safir'), 19), ((u'Ruben Toledo', u'Isabel Toledo'), 19), ((u'Tony Ingrao', u'Randy Kemper'), 18), ((u'Gayle Sobel', u'Howard Sobel'), 18), ((u'Richard Mishaan', u'Marcia Mishaan'), 18), ((u'Claudia Lebenthal', u'Alexandra Lebenthal'), 18), ((u'Barbara Taylor Bradford', u'Robert Bradford'), 18), ((u'Liliana Cavendish', u'Hunt Slonem'), 18), ((u'Bobby Zarin', u'Jill Zarin'), 18), ((u'Michael Bloomberg', u'Diana Taylor'), 18), ((u'Christian Simonds', u'Gillian Hearst Simonds'), 17), ((u'Roy Kean', u'Ann Rapp'), 17), ((u'Somers Farkas', u'Muffie Potter Aston'), 17), ((u'Ray Kelly', u'Veronica Kelly'), 17), ((u'Susan Magazine', u'Nicholas Scoppetta'), 17), ((u'Kim Taipale', u'Nicole Miller'), 17), ((u'Shirin von Wulffen', u'Frederic Fekkai'), 17), ((u'Will Cotton', u'Rose Dergan'), 16), ((u'Paola Rosenshein', u'Arnie Rosenshein'), 16), ((u'Tom Leeds', u'Heather Leeds'), 16), ((u'Cece Black', u'Lee Black'), 16), ((u'Marisol Thomas', u'Rob Thomas'), 16), ((u'Ramona Singer', u'Mario Singer'), 16), ((u'Serena Miniter', u'Gillian Miniter'), 16), ((u'Ian Snow', u'Mary Snow'), 16), ((u'Ken Langone', u'Elaine Langone'), 16), ((u'Jill Kargman', u'Harry Kargman'), 16), ((u'Gillian Miniter', u'Alexandra Lebenthal'), 16), ((u'Bee Shaffer', u'Anna Wintour'), 16), ((u'Ali Wise', u'Charlotte Ronson'), 15), ((u'Charles Askegard', u'Candace Bushnell'), 15), ((u'Edward Callaghan', u'John Wegorzewski'), 15), ((u'Whitney Fairchild', u'James Fairchild'), 15), ((u'Larry Herbert', u'Michele Herbert'), 15), ((u'Lisa Gorrivan', u'Philip Gorrivan'), 15), ((u'Michael Warren', u'Marcy Warren'), 15), ((u'Roxanne Palin', u'Dean Palin'), 15), ((u'Johannes Huebl', u'Daniel Benedict'), 15)]\n"
     ]
    }
   ],
   "source": [
    "#Initialize the tuple for question  three.  \n",
    "ANSWER3 = []\n",
    "check = 0\n",
    "#Get the required values for the answer tuple. Eliminate mirror pairs\n",
    "for i in top_friends_df.index:\n",
    "    tup3=(top_friends_df.iloc[i,0], top_friends_df.iloc[i,1])\n",
    "    pair = top_friends_df.iloc[i,0]\n",
    "    rev_pair = (pair[1],pair[0])\n",
    "    tup3_rev=(rev_pair, top_friends_df.iloc[i,1])\n",
    "    if tup3_rev not in ANSWER3 and check<100:\n",
    "        ANSWER3.append(tup3)\n",
    "        check+=1\n",
    "        \n",
    "print len(ANSWER3)\n",
    "print ANSWER3\n"
   ]
  },
  {
   "cell_type": "code",
   "execution_count": null,
   "metadata": {
    "collapsed": true
   },
   "outputs": [],
   "source": []
  }
 ],
 "metadata": {
  "kernelspec": {
   "display_name": "Python 2",
   "language": "python",
   "name": "python2"
  },
  "language_info": {
   "codemirror_mode": {
    "name": "ipython",
    "version": 2
   },
   "file_extension": ".py",
   "mimetype": "text/x-python",
   "name": "python",
   "nbconvert_exporter": "python",
   "pygments_lexer": "ipython2",
   "version": "2.7.11"
  }
 },
 "nbformat": 4,
 "nbformat_minor": 0
}
