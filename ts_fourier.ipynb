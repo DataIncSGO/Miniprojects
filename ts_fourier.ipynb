{
 "cells": [
  {
   "cell_type": "code",
   "execution_count": null,
   "metadata": {
    "collapsed": true
   },
   "outputs": [],
   "source": []
  },
  {
   "cell_type": "code",
   "execution_count": 2,
   "metadata": {
    "collapsed": true
   },
   "outputs": [],
   "source": [
    "import requests, urllib2, gzip, urllib\n",
    "import pandas as pd\n",
    "import numpy as np\n",
    "import math"
   ]
  },
  {
   "cell_type": "code",
   "execution_count": 3,
   "metadata": {
    "collapsed": true
   },
   "outputs": [],
   "source": [
    "url = 'http://s3.amazonaws.com/thedataincubator/coursedata/mldata/train.txt.gz'"
   ]
  },
  {
   "cell_type": "code",
   "execution_count": 4,
   "metadata": {
    "collapsed": false
   },
   "outputs": [
    {
     "name": "stdout",
     "output_type": "stream",
     "text": [
      "[{'city': 'bos', 'hour_sin': 0.0, 'temp': -11, 'month_sin': 0.49999999999999994, 'month_cos': 0.8660254037844387, 'hour_cos': 1.0}, {'city': 'bos', 'hour_sin': 0.25881904510252074, 'temp': -6, 'month_sin': 0.49999999999999994, 'month_cos': 0.8660254037844387, 'hour_cos': 0.9659258262890683}]\n",
      "515581\n"
     ]
    }
   ],
   "source": [
    "#Download file\n",
    "urllib.urlretrieve(url,'Weather')\n",
    "\n",
    "weather_list = []\n",
    "with gzip.open('Weather', 'rb') as f:\n",
    "    for line in f.readlines():\n",
    "        info_dict = {}\n",
    "        info = line.split()\n",
    "        info_dict['month_sin'] = math.sin(2*math.pi*(float(info[1])/12))\n",
    "        info_dict['month_cos'] = math.cos(2*math.pi*(float(info[1])/12))\n",
    "        info_dict['hour_sin'] = math.sin(2*math.pi*(float(info[3])/24))\n",
    "        info_dict['hour_cos'] = math.cos(2*math.pi*(float(info[3])/24))\n",
    "        info_dict['temp'] = int(info[4])\n",
    "        info_dict['city'] = info[12]\n",
    "        if info_dict['temp'] != -9999.0:\n",
    "            weather_list.append(info_dict)\n",
    "        \n",
    "print weather_list[0:2]\n",
    "print len(weather_list)\n"
   ]
  },
  {
   "cell_type": "code",
   "execution_count": 5,
   "metadata": {
    "collapsed": false
   },
   "outputs": [
    {
     "data": {
      "text/html": [
       "<div>\n",
       "<table border=\"1\" class=\"dataframe\">\n",
       "  <thead>\n",
       "    <tr style=\"text-align: right;\">\n",
       "      <th></th>\n",
       "      <th>city</th>\n",
       "      <th>hour_cos</th>\n",
       "      <th>hour_sin</th>\n",
       "      <th>month_cos</th>\n",
       "      <th>month_sin</th>\n",
       "      <th>temp</th>\n",
       "    </tr>\n",
       "  </thead>\n",
       "  <tbody>\n",
       "    <tr>\n",
       "      <th>0</th>\n",
       "      <td>bos</td>\n",
       "      <td>1.000000e+00</td>\n",
       "      <td>0.000000</td>\n",
       "      <td>0.866025</td>\n",
       "      <td>0.5</td>\n",
       "      <td>-11</td>\n",
       "    </tr>\n",
       "    <tr>\n",
       "      <th>1</th>\n",
       "      <td>bos</td>\n",
       "      <td>9.659258e-01</td>\n",
       "      <td>0.258819</td>\n",
       "      <td>0.866025</td>\n",
       "      <td>0.5</td>\n",
       "      <td>-6</td>\n",
       "    </tr>\n",
       "    <tr>\n",
       "      <th>2</th>\n",
       "      <td>bos</td>\n",
       "      <td>8.660254e-01</td>\n",
       "      <td>0.500000</td>\n",
       "      <td>0.866025</td>\n",
       "      <td>0.5</td>\n",
       "      <td>-17</td>\n",
       "    </tr>\n",
       "    <tr>\n",
       "      <th>3</th>\n",
       "      <td>bos</td>\n",
       "      <td>7.071068e-01</td>\n",
       "      <td>0.707107</td>\n",
       "      <td>0.866025</td>\n",
       "      <td>0.5</td>\n",
       "      <td>-17</td>\n",
       "    </tr>\n",
       "    <tr>\n",
       "      <th>4</th>\n",
       "      <td>bos</td>\n",
       "      <td>5.000000e-01</td>\n",
       "      <td>0.866025</td>\n",
       "      <td>0.866025</td>\n",
       "      <td>0.5</td>\n",
       "      <td>-17</td>\n",
       "    </tr>\n",
       "    <tr>\n",
       "      <th>5</th>\n",
       "      <td>bos</td>\n",
       "      <td>2.588190e-01</td>\n",
       "      <td>0.965926</td>\n",
       "      <td>0.866025</td>\n",
       "      <td>0.5</td>\n",
       "      <td>-22</td>\n",
       "    </tr>\n",
       "    <tr>\n",
       "      <th>6</th>\n",
       "      <td>bos</td>\n",
       "      <td>6.123234e-17</td>\n",
       "      <td>1.000000</td>\n",
       "      <td>0.866025</td>\n",
       "      <td>0.5</td>\n",
       "      <td>-28</td>\n",
       "    </tr>\n",
       "    <tr>\n",
       "      <th>7</th>\n",
       "      <td>bos</td>\n",
       "      <td>-2.588190e-01</td>\n",
       "      <td>0.965926</td>\n",
       "      <td>0.866025</td>\n",
       "      <td>0.5</td>\n",
       "      <td>0</td>\n",
       "    </tr>\n",
       "    <tr>\n",
       "      <th>8</th>\n",
       "      <td>bos</td>\n",
       "      <td>-5.000000e-01</td>\n",
       "      <td>0.866025</td>\n",
       "      <td>0.866025</td>\n",
       "      <td>0.5</td>\n",
       "      <td>-11</td>\n",
       "    </tr>\n",
       "    <tr>\n",
       "      <th>9</th>\n",
       "      <td>bos</td>\n",
       "      <td>-7.071068e-01</td>\n",
       "      <td>0.707107</td>\n",
       "      <td>0.866025</td>\n",
       "      <td>0.5</td>\n",
       "      <td>-28</td>\n",
       "    </tr>\n",
       "  </tbody>\n",
       "</table>\n",
       "</div>"
      ],
      "text/plain": [
       "  city      hour_cos  hour_sin  month_cos  month_sin  temp\n",
       "0  bos  1.000000e+00  0.000000   0.866025        0.5   -11\n",
       "1  bos  9.659258e-01  0.258819   0.866025        0.5    -6\n",
       "2  bos  8.660254e-01  0.500000   0.866025        0.5   -17\n",
       "3  bos  7.071068e-01  0.707107   0.866025        0.5   -17\n",
       "4  bos  5.000000e-01  0.866025   0.866025        0.5   -17\n",
       "5  bos  2.588190e-01  0.965926   0.866025        0.5   -22\n",
       "6  bos  6.123234e-17  1.000000   0.866025        0.5   -28\n",
       "7  bos -2.588190e-01  0.965926   0.866025        0.5     0\n",
       "8  bos -5.000000e-01  0.866025   0.866025        0.5   -11\n",
       "9  bos -7.071068e-01  0.707107   0.866025        0.5   -28"
      ]
     },
     "execution_count": 5,
     "metadata": {},
     "output_type": "execute_result"
    }
   ],
   "source": [
    "weather_df = pd.DataFrame(weather_list)\n",
    "weather_df.head(10)\n",
    "#weather_df.describe()"
   ]
  },
  {
   "cell_type": "code",
   "execution_count": 6,
   "metadata": {
    "collapsed": false
   },
   "outputs": [
    {
     "name": "stdout",
     "output_type": "stream",
     "text": [
      "[['bos', 1.0, 0.0, 0.8660254037844387, 0.49999999999999994, -11], ['bos', 0.9659258262890683, 0.25881904510252074, 0.8660254037844387, 0.49999999999999994, -6]]\n"
     ]
    }
   ],
   "source": [
    "four_list = weather_df.values.tolist()\n",
    "print four_list[:2]"
   ]
  },
  {
   "cell_type": "code",
   "execution_count": 7,
   "metadata": {
    "collapsed": false
   },
   "outputs": [
    {
     "data": {
      "text/html": [
       "<div>\n",
       "<table border=\"1\" class=\"dataframe\">\n",
       "  <thead>\n",
       "    <tr style=\"text-align: right;\">\n",
       "      <th></th>\n",
       "      <th>hour_cos</th>\n",
       "      <th>hour_sin</th>\n",
       "      <th>month_cos</th>\n",
       "      <th>month_sin</th>\n",
       "      <th>temp</th>\n",
       "    </tr>\n",
       "    <tr>\n",
       "      <th>city</th>\n",
       "      <th></th>\n",
       "      <th></th>\n",
       "      <th></th>\n",
       "      <th></th>\n",
       "      <th></th>\n",
       "    </tr>\n",
       "  </thead>\n",
       "  <tbody>\n",
       "    <tr>\n",
       "      <th>bal</th>\n",
       "      <td>102623</td>\n",
       "      <td>102623</td>\n",
       "      <td>102623</td>\n",
       "      <td>102623</td>\n",
       "      <td>102623</td>\n",
       "    </tr>\n",
       "    <tr>\n",
       "      <th>bos</th>\n",
       "      <td>102598</td>\n",
       "      <td>102598</td>\n",
       "      <td>102598</td>\n",
       "      <td>102598</td>\n",
       "      <td>102598</td>\n",
       "    </tr>\n",
       "    <tr>\n",
       "      <th>chi</th>\n",
       "      <td>105126</td>\n",
       "      <td>105126</td>\n",
       "      <td>105126</td>\n",
       "      <td>105126</td>\n",
       "      <td>105126</td>\n",
       "    </tr>\n",
       "    <tr>\n",
       "      <th>nyc</th>\n",
       "      <td>102622</td>\n",
       "      <td>102622</td>\n",
       "      <td>102622</td>\n",
       "      <td>102622</td>\n",
       "      <td>102622</td>\n",
       "    </tr>\n",
       "    <tr>\n",
       "      <th>phi</th>\n",
       "      <td>102612</td>\n",
       "      <td>102612</td>\n",
       "      <td>102612</td>\n",
       "      <td>102612</td>\n",
       "      <td>102612</td>\n",
       "    </tr>\n",
       "  </tbody>\n",
       "</table>\n",
       "</div>"
      ],
      "text/plain": [
       "      hour_cos  hour_sin  month_cos  month_sin    temp\n",
       "city                                                  \n",
       "bal     102623    102623     102623     102623  102623\n",
       "bos     102598    102598     102598     102598  102598\n",
       "chi     105126    105126     105126     105126  105126\n",
       "nyc     102622    102622     102622     102622  102622\n",
       "phi     102612    102612     102612     102612  102612"
      ]
     },
     "execution_count": 7,
     "metadata": {},
     "output_type": "execute_result"
    }
   ],
   "source": [
    "#Check for different cities.\n",
    "check_df = weather_df.groupby('city').count()\n",
    "check_df.head(10)"
   ]
  },
  {
   "cell_type": "code",
   "execution_count": 8,
   "metadata": {
    "collapsed": false
   },
   "outputs": [
    {
     "name": "stdout",
     "output_type": "stream",
     "text": [
      "  city    hr_cos    hr_sin   mth_cos  mth_sin  temp\n",
      "0  bos  1.000000  0.000000  0.866025      0.5   -11\n",
      "1  bos  0.965926  0.258819  0.866025      0.5    -6\n",
      "2  bos  0.866025  0.500000  0.866025      0.5   -17\n",
      "3  bos  0.707107  0.707107  0.866025      0.5   -17\n",
      "4  bos  0.500000  0.866025  0.866025      0.5   -17\n"
     ]
    }
   ],
   "source": [
    "#Create a dataframe of values for each city after first creating a list of entries for each city.\n",
    "bos_list = []\n",
    "bal_list = []\n",
    "chi_list = []\n",
    "nyc_list = []\n",
    "phi_list = []\n",
    "\n",
    "for item in four_list:\n",
    "    if item[0] == 'bos':\n",
    "        bos_list.append(item)\n",
    "    if item[0] == 'bal':\n",
    "        bal_list.append(item)\n",
    "    if item[0] == 'chi':\n",
    "        chi_list.append(item)\n",
    "    if item[0] == 'nyc':\n",
    "        nyc_list.append(item)\n",
    "    if item[0] == 'phi':\n",
    "        phi_list.append(item)\n",
    "\n",
    "columns = ['city', 'hr_cos', 'hr_sin', 'mth_cos', 'mth_sin', 'temp']        \n",
    "        \n",
    "bos_df = pd.DataFrame(bos_list, columns = columns)\n",
    "bal_df = pd.DataFrame(bal_list, columns = columns)\n",
    "chi_df = pd.DataFrame(chi_list, columns = columns)\n",
    "nyc_df = pd.DataFrame(nyc_list, columns = columns)\n",
    "phi_df = pd.DataFrame(phi_list, columns = columns)\n",
    "\n",
    "\n",
    "\n",
    "print bos_df.head()\n",
    "        \n",
    "    "
   ]
  },
  {
   "cell_type": "code",
   "execution_count": 9,
   "metadata": {
    "collapsed": false
   },
   "outputs": [],
   "source": [
    "#Create numpy arrays of all the target and data points for each city's model.\n",
    "data_points = ['hr_cos', 'hr_sin', 'mth_cos', 'mth_sin']\n",
    "\n",
    "target_bos = np.array(bos_df['temp'])\n",
    "data_bos = np.array(bos_df[data_points])\n",
    "\n",
    "target_bal = np.array(bal_df['temp'])\n",
    "data_bal = np.array(bal_df[data_points])\n",
    "\n",
    "target_chi = np.array(chi_df['temp'])\n",
    "data_chi = np.array(chi_df[data_points])\n",
    "\n",
    "target_nyc = np.array(nyc_df['temp'])\n",
    "data_nyc = np.array(nyc_df[data_points])\n",
    "\n",
    "target_phi = np.array(phi_df['temp'])\n",
    "data_phi = np.array(phi_df[data_points])\n",
    "\n",
    "\n"
   ]
  },
  {
   "cell_type": "code",
   "execution_count": 10,
   "metadata": {
    "collapsed": false
   },
   "outputs": [],
   "source": [
    "#Fit linear model for each city.\n",
    "from sklearn import linear_model\n",
    "\n",
    "bos_clf = linear_model.Ridge(alpha=0.5)\n",
    "bos_clf = bos_clf.fit(data_bos, target_bos)\n",
    "\n",
    "bal_clf = linear_model.Ridge(alpha=0.5)\n",
    "bal_clf = bal_clf.fit(data_bal, target_bal)\n",
    "\n",
    "chi_clf = linear_model.Ridge(alpha=0.5)\n",
    "chi_clf = chi_clf.fit(data_chi, target_chi)\n",
    "\n",
    "nyc_clf = linear_model.Ridge(alpha=0.5)\n",
    "nyc_clf = nyc_clf.fit(data_nyc, target_nyc)\n",
    "\n",
    "phi_clf = linear_model.Ridge(alpha=0.5)\n",
    "phi_clf = phi_clf.fit(data_phi, target_phi)\n"
   ]
  },
  {
   "cell_type": "code",
   "execution_count": 15,
   "metadata": {
    "collapsed": false
   },
   "outputs": [
    {
     "name": "stdout",
     "output_type": "stream",
     "text": [
      "[-16.90110661]\n"
     ]
    }
   ],
   "source": [
    "#Test models.\n",
    "test = \"2000 01 01 02   xx   -78 10211   230    36     0     0 -9999 bos\"\n",
    "\n",
    "info = test.split()\n",
    "\n",
    "check = [math.sin(2*math.pi*(float(info[3])/24)), math.cos(2*math.pi*(float(info[3])/24)), math.sin(2*math.pi*(float(info[1])/12)),math.cos(2*math.pi*(float(info[1])/12)) ]\n",
    "\n",
    "model = bos_clf\n",
    "prediction = model.predict(check)\n",
    "\n",
    "print prediction"
   ]
  },
  {
   "cell_type": "code",
   "execution_count": 13,
   "metadata": {
    "collapsed": false
   },
   "outputs": [],
   "source": [
    "#Store the instances using dill.\n",
    "import dill\n",
    "with open('bos_est_file','w') as f:\n",
    "    dill.dump(bos_clf,f)\n",
    "    \n",
    "import dill\n",
    "with open('bal_est_file','w') as f:\n",
    "    dill.dump(bal_clf,f)\n",
    "    \n",
    "import dill\n",
    "with open('chi_est_file','w') as f:\n",
    "    dill.dump(chi_clf,f)\n",
    "    \n",
    "import dill\n",
    "with open('nyc_est_file','w') as f:\n",
    "    dill.dump(nyc_clf,f)\n",
    "    \n",
    "import dill\n",
    "with open('phi_est_file','w') as f:\n",
    "    dill.dump(phi_clf,f)\n",
    "    "
   ]
  },
  {
   "cell_type": "code",
   "execution_count": null,
   "metadata": {
    "collapsed": true
   },
   "outputs": [],
   "source": []
  }
 ],
 "metadata": {
  "kernelspec": {
   "display_name": "Python 2",
   "language": "python",
   "name": "python2"
  },
  "language_info": {
   "codemirror_mode": {
    "name": "ipython",
    "version": 2
   },
   "file_extension": ".py",
   "mimetype": "text/x-python",
   "name": "python",
   "nbconvert_exporter": "python",
   "pygments_lexer": "ipython2",
   "version": "2.7.10"
  }
 },
 "nbformat": 4,
 "nbformat_minor": 0
}
