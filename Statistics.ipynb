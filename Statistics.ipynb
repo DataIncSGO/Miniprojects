{
 "cells": [
  {
   "cell_type": "code",
   "execution_count": null,
   "metadata": {
    "collapsed": true
   },
   "outputs": [],
   "source": [
    "%matplotlib inline\n",
    "import matplotlib\n",
    "import seaborn as sns\n",
    "matplotlib.rcParams['savefig.dpi'] = 2 * matplotlib.rcParams['savefig.dpi']"
   ]
  },
  {
   "cell_type": "markdown",
   "metadata": {},
   "source": [
    "## Linearity of expectation\n",
    "\n",
    "One basic \"trick\" is _linearity of expectations_: If $X$ and $Y$ are two random variables, then \n",
    "\n",
    "$$ \\mathbb{E}(X + Y) = \\mathbb{E}(X) + \\mathbb{E}(Y) \\qquad \\text{and} \\qquad \\mathbb{E}(nX) = n \\mathbb{E}(X) $$\n",
    "\n",
    "One example of when this is useful is in (expected) counting problems: You create _indicator variables_ $X_i$, $i=1,\\ldots, n$ to indicate the occurrence of specific instances of the event that you are counting.  Then, $\\sum X_i$ is the count you wanted and you can use that\n",
    "\n",
    "$$ \\mathbb{E}(\\sum_i X_i) = \\sum_i \\mathbb{E}(X_i) $$\n",
    "\n",
    "### Exercises\n",
    "1. You have a biased coin that lands heads-up with probability $p$.  Suppose you flip it $n$ times: What is the expected number of times that it lands heads up?  Write down a formula for the variance of the $n$ flips.\n",
    "\n",
    "2. You have a biased coin that lands heads-up with probability $p$.  You flip it repeatedly until the first time it comes up heads: What is the expected number of flips?\n",
    "\n",
    "3. You have a biased coin that lands heads-up with probability $p$.  Suppose you flip it $n$ times: What is the expected number of _runs_ in the flips.  \n",
    "\n",
    "  Note: A run is a maximal unbroken chain of the same value.  That is, if the sequence of flips goes HHHTTHHHTHTTTHH then there are _7_ runs as shown here:\n",
    ">            \n",
    "        (HHH)(TT)(HHH)(T)(H)(TTT)(HH)"
   ]
  },
  {
   "cell_type": "markdown",
   "metadata": {},
   "source": [
    "## Bayes Theorem\n",
    "\n",
    "We all know Bayes' Theorem:\n",
    "\n",
    "$$ P(A) \\; P(B \\, | \\, A) = P(A \\wedge B) = P(B) \\; P(A \\, | \\, B) $$\n",
    "\n",
    "It's so fundamental that people like to ask questions about it.\n",
    "\n",
    "### Exercises:\n",
    "1. There are two families on this street.  One has a boy and a girl, and the other has two girls.  All four children are playing on the street.  A girl trips and scrapes her knee.  What is the probability her sibling is a girl?\n",
    "1. A certain disease test has a 5% false positive rate.  You take the test and the results come back positive.  How likely is it that you have the disease?\n",
    "1. There are two coins in a bag: one is an ordinary coin, and the other has heads on both sides.  You take one coin out at random, flip it $5$ times, and it comes back heads all times -- what is the probability that you picked the coin with two heads?\n",
    "1. Imagine an urn filled with balls, two-thirds of which are of one color and one-third of which are of another. One individual has drawn 5 balls from the urn and found that 4 are red and 1 is white. Another individual has drawn 20 balls and found that 12 are red and 8 are white. Which of the two individuals should feel more confident that the urn contains two-thirds red balls and one-third white balls, rather than vice-versa? What odds should each individual give?\n",
    "1. Suppose you know that\n",
    "\n",
    "  - 50% of all people who receive a first interview receive a second interview\n",
    "  - 95% of your friends that got a second interview felt they had a good first interview\n",
    "  - 75% of your friends that DID NOT get a second interview felt they had a good first interview\n",
    "  \n",
    "  If you feel that you had a good first interview, what is the probability that you will receive a second interview?"
   ]
  },
  {
   "cell_type": "markdown",
   "metadata": {},
   "source": [
    "## Combinatorics\n",
    "\n",
    "You should now be familiar with some basic \"counting\" functions in mathematics:\n",
    "\n",
    "1. The number of ways to permute $n$ things.\n",
    "\n",
    "$$ n! = n \\cdot  (n-1) \\cdot  (n-2) \\cdots 2 \\cdot 1 $$\n",
    "\n",
    "2. The number of ways to pick a $k$ element subset of a set with $n$ elements.\n",
    "\n",
    "$$ {n \\choose k} = \\frac{n!}{k! (n-k)!} = \\frac{n (n-1) \\cdot (n-k+1)}{k (k-1) \\cdot 1} $$\n",
    "\n",
    "3. If you have a biased coin that comes up heads $p$ times, then the chance of getting exactly $k$ heads in $n$ flips is \n",
    "  $$ p^k (1-p)^{1-k} {n \\choose k} $$\n",
    "\n",
    "### Exercises\n",
    "1. There are 6 pairs of black socks and 6 pairs of white socks.  What is the probability of picking a pair of black or white socks when 2 socks are selected randomly in darkness?\n",
    "\n",
    "2. You have a stream of items of unknown length: you need to sample $k$ items uniformly from this list.  How would you do this, using only bounded memory?  [Hint: This is called \"reservoir sampling.\"  Do the case k=1 first.]\n",
    "\n",
    "3. You flip a (fair) coin 10 times.  What is the chance that it comes up heads 10 times?  That it comes up heads at least 9 times?  That it comes up heads at least 8 times?  Which of these cases pass the \"p=0.05\" test?\n",
    "\n",
    "4. You flip a (fair) coin 10 times -- and then repeat this 10 times (for a total of 100 flips).  What is the chance that at least one batch consists of 10 heads?  That at least one batch consists of at least 9 heads?\n",
    "\n",
    "5. You roll a (fair) die $n$ times.\n",
    "\n",
    "    1. What is the probability that you get $n$ \"6\"s?  $(1/6)^n$\n",
    "\n",
    "    2. What is the probability that you get at least one \"6\"?  $1 - (5/6)^n$\n",
    "\n",
    "    3. What is the probability that you get at least two \"6\"s?  $(1/6)^n \\sum_{k=2}^6 \\binom{k}{6}$"
   ]
  },
  {
   "cell_type": "markdown",
   "metadata": {},
   "source": [
    "## Continuous probability\n",
    "\n",
    "There are a few important notions:\n",
    "\n",
    "- The notion (and definition, and some intuition) of __independence__:  Variables $X$ and $Y$ are independent if\n",
    "$$ \\mathbb{E}( f(X) g(Y) ) = \\mathbb{E}(f(X)) \\; \\mathbb{E}(g(Y)) $$\n",
    "\n",
    "  Plugging in $f$ and $g$ to be indicator functions for subsets $U$ and $V$ of the sample spaces of $X$ and $Y$, this has the interpretation\n",
    "\n",
    "  $$ P( (X \\in U) \\wedge (Y \\in V)) = P(X \\in U) \\; P(Y \\in V) $$\n",
    "  \n",
    "as an independence of probabilities.\n",
    "\n",
    "  If the sample spaces are the real lines, then we can take $U = (-\\infty, a)$ and $V = (-\\infty, b)$ and the above becomes a statement in terms of the CDFs $F_X$ and $F_Y$ and the joint CDF $F_{X,Y}$ :\n",
    "\n",
    "  $$ F_{X,Y}(a,b) = F_X(a) \\; F_Y(b) $$\n",
    "\n",
    "- The _CDF trick_ for transforming (real) random variables to and from the uniform distribution (and thus between distributions).\n",
    "\n",
    "### Exercises\n",
    "1. How would you generate 2 independent normal random variables?\n",
    "2. (Tricky, but interesting) How would you generate a random variable uniformly distributed over the unit $n$-sphere (i.e. the points of distance $1$ from the origin in $\\mathbb{R}^{n+1}$). [Hint: There is a pretty solution involving $(n+1)$ random Gaussians.]"
   ]
  },
  {
   "cell_type": "markdown",
   "metadata": {},
   "source": [
    "## Hypothesis testing\n",
    "\n",
    "See also [Hypothesis Testing](Hypothesis_Testing.ipynb)\n",
    "\n",
    "### Exercises \n",
    "1. Tossing a coin ten times resulted in 8 heads and 2 tails. How would you analyze whether a coin is fair? What is the p-value? \n",
    "\n",
    "  In addition, more coins are added to this experiment: Now you have 10 coins. You toss each coin 10 times (100 tosses in total) and observe results. Would you modify your approach to the way you test the fairness of all the coins?\n",
    "  \n",
    "  (c.f. the last questions under Combinatorics)\n",
    "2. You fit a multiple regression to examine the effect of a particular variable a worker in another department is interested in. The variable comes back insignificant, but your co-worker says that this is impossible as it is known to have an effect. What would you say/do?\n",
    "\n",
    "3. You have 1000 variables and 100 observations. You would like to find the significant variables for a particular response. What would you do?\n",
    "\n",
    "4. You have a linear regression: how does sub-sampling half your data affect the (distribution of the) coefficients you learned?\n",
    "\n",
    "5. You have a table of users from either the US or UK that arrive at your website and choose either Option A or Option B.\n",
    "\n",
    "|  |  A |  B |\n",
    "|--|----|----|\n",
    "|US| 54 | 24 |\n",
    "|UK| 43 | 33 |\n",
    "\n",
    "Is there a statistically significant difference in users from one country choosing another option?  (*Hint:* Use a [Pearson's chi-squared test](https://en.wikipedia.org/wiki/Pearson's_chi-squared_test).)"
   ]
  },
  {
   "cell_type": "markdown",
   "metadata": {},
   "source": [
    "## Memoryless processes\n",
    "\n",
    "#### Probability distributions\n",
    "See http://en.wikipedia.org/wiki/Memorylessness.  The memoryless _probability distributions_ are:\n",
    "- (Discrete Version) The [geometric distribution](http://en.wikipedia.org/wiki/Geometric_distribution): The number of flips needed to get the first head when flipping a weighted coin; and,\n",
    "- (Continuous Version) The [exponential distribution](http://en.wikipedia.org/wiki/Exponential_distribution).\n",
    "\n",
    "#### Processes (Discrete Version)\n",
    "A [Bernoulli process](http://en.wikipedia.org/wiki/Bernoulli_process) is a certain \"discrete time random process\" -- or, in other words, just a sequence of random variables that we think of as representing a discrete-time random time series.  The Bernoulli process with probability $p$ is very simple: the $i$-th component random variable $X_i$ is just the coin flip random variable with probability $p$.\n",
    "\n",
    "The \"waiting time\" in the Bernoulli process is, by definition, the geometric distribution.\n",
    "\n",
    "#### Processes (Continuous Version)\n",
    "Assume that we have some event that recurs over time in a random way.  We might encode this in terms of the [_random process_](http://en.wikipedia.org/wiki/Stochastic_process) (it's like a random variable, but is a function) $N(t)$ where $N(t)$ counts the number of times that the event has occurred before time $t$.\n",
    "\n",
    "It turns out that if we ask that events \n",
    "\n",
    " - don't occur simultaneously, \n",
    " - that they occur at a constant average rate, and \n",
    " - that the process be _memoryless_ (so the number of times the event occurs in a future time interval is independent of the past) \n",
    " \n",
    "then $N(t)$ has a very special form: The time between consecutive events (i.e. jumps in $N(t)$) follows an exponential probability distribution.  \n",
    "\n",
    "This is called a (homogeneous) [Poisson process](http://en.wikipedia.org/wiki/Poisson_process).  It is often used to model things such as\n",
    " - radioactive decay\n",
    " - waiting times in queuing theory (such as in network routing, waiting for the cashier in a supermarket, etc.)\n",
    " - arrivals of users to a web site\n",
    "\n",
    "### Exercises\n",
    "\n",
    "1. The probability of a user arriving at our website in a 10 minute window is 0.9.  What is the probability of a user arriving in a 1 minute window?\n",
    "\n",
    "2. We have 100M monthly active users in February.  How many weekly actives do we have?  (An active user is someone who did something in the prescribed period).\n",
    "\n",
    "  [Hint: This may be a trick question...]\n",
    "  \n",
    "3. We have 100M monthly active users, and 50M weekly active users.  About how many total active users do we have?  Make an estimate based on some assumptions, and then discuss the validity of these assumptions."
   ]
  },
  {
   "cell_type": "code",
   "execution_count": null,
   "metadata": {
    "collapsed": false
   },
   "outputs": [],
   "source": []
  },
  {
   "cell_type": "markdown",
   "metadata": {},
   "source": [
    "*Copyright &copy; 2015 The Data Incubator.  All rights reserved.*"
   ]
  }
 ],
 "metadata": {
  "kernelspec": {
   "display_name": "Python 2",
   "language": "python",
   "name": "python2"
  },
  "language_info": {
   "codemirror_mode": {
    "name": "ipython",
    "version": 2
   },
   "file_extension": ".py",
   "mimetype": "text/x-python",
   "name": "python",
   "nbconvert_exporter": "python",
   "pygments_lexer": "ipython2",
   "version": "2.7.10"
  }
 },
 "nbformat": 4,
 "nbformat_minor": 0
}
