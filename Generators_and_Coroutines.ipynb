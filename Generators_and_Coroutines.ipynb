{
 "cells": [
  {
   "cell_type": "code",
   "execution_count": null,
   "metadata": {
    "collapsed": true
   },
   "outputs": [],
   "source": [
    "%matplotlib inline\n",
    "import matplotlib\n",
    "import seaborn as sns\n",
    "matplotlib.rcParams['savefig.dpi'] = 2 * matplotlib.rcParams['savefig.dpi']"
   ]
  },
  {
   "cell_type": "markdown",
   "metadata": {},
   "source": [
    "# Generators and Coroutines\n",
    "\n",
    "These functions allow for increased abstraction in python.  While a little abstract, they allow for more readable code overall by separating concerns.  These two concepts revolve around different uses of the `yield` operator.\n",
    "\n",
    "## Generators\n",
    "Generators are a type of iterator.  Benefits:\n",
    "1. They are more powerful than just using `map` and `filter` because they allow you to hold state in between processing entries.  They are like `reduce` but much easier to use, which makes them powerful.\n",
    "1. They allow you to hold data in an \"inner\" context without needing to resort to creating a `class`.  This can be faster since `self.foo` is actually pretty slow in python.\n",
    "1. **Gotcha**: the generator is not run until you first call `.next`, which can be a bit counterintuitive ..."
   ]
  },
  {
   "cell_type": "code",
   "execution_count": null,
   "metadata": {
    "collapsed": false
   },
   "outputs": [],
   "source": [
    "def Countdown(n):\n",
    "    print \"Counting down ...\"\n",
    "    while n > 0:\n",
    "        yield n\n",
    "        n -= 1\n",
    "        \n",
    "c = Countdown(5)\n",
    "print \"Set up Countdown\"\n",
    "for i in c:\n",
    "    print i"
   ]
  },
  {
   "cell_type": "markdown",
   "metadata": {},
   "source": [
    "Generators actually rely on the `.next()` mechanism used by iterators.  They throw an exception after reaching their end."
   ]
  },
  {
   "cell_type": "code",
   "execution_count": null,
   "metadata": {
    "collapsed": false
   },
   "outputs": [],
   "source": [
    "c = Countdown(3)\n",
    "print c.next()\n",
    "print c.next()\n",
    "print c.next()\n",
    "# This throws an exception (which is caught by the for loop)\n",
    "# print c.next()"
   ]
  },
  {
   "cell_type": "markdown",
   "metadata": {},
   "source": [
    "## Generator \"pipelines\"\n",
    "\n",
    "In particular, we're going to create this generator\n",
    "\n",
    "```\n",
    "source_gen -> and_plus_one_gen -> sum_gen\n",
    "```\n",
    "\n",
    "and chain them together.  Note that for each generator input, we can yield none, one, or multiple outputs.\n",
    "\n",
    "1. **Source:** pushes values using `yield`.\n",
    "2. **Intermediate Step:** both requests previous values (`.next`) and pushes them using `yield`\n",
    "3. **Sink:** iterates through previous values using `.next`.\n",
    "\n",
    "**Question:** why is this better than dealing with a list?"
   ]
  },
  {
   "cell_type": "code",
   "execution_count": null,
   "metadata": {
    "collapsed": false
   },
   "outputs": [],
   "source": [
    "def source_gen(n):\n",
    "    for i in xrange(n):\n",
    "        yield i\n",
    "        \n",
    "def and_plus_one_gen(gen):\n",
    "    for i in gen:\n",
    "        yield i\n",
    "        yield i + 1\n",
    "        \n",
    "def sum_gen(gen):\n",
    "    return sum(i for i in gen)\n",
    "\n",
    "gen1 = source_gen(10)\n",
    "gen2 = and_plus_one_gen(gen1)\n",
    "result = sum_gen(gen2)\n",
    "\n",
    "print result"
   ]
  },
  {
   "cell_type": "markdown",
   "metadata": {},
   "source": [
    "## Iterator comprehensions\n",
    "\n",
    "Like list comprehensions, python also supports generator comprehensions.  They use parentheses `()` instead of brackets `[]`.  While concise, this can only do `map` and `filter`-like things."
   ]
  },
  {
   "cell_type": "code",
   "execution_count": null,
   "metadata": {
    "collapsed": false
   },
   "outputs": [],
   "source": [
    "sum(j for i in xrange(10) for j in (i, i+1))"
   ]
  },
  {
   "cell_type": "markdown",
   "metadata": {},
   "source": [
    "### Not all generators can be written as iterator comprehensions\n",
    "\n",
    "It might seem from the above example that all generators can be written as generator expressions.  This is not true.  Generator expressions cannot keep track of state in between processing elements, generators can.  In the following example, the `total` variable holds state between generator iterations."
   ]
  },
  {
   "cell_type": "code",
   "execution_count": null,
   "metadata": {
    "collapsed": true
   },
   "outputs": [],
   "source": [
    "## The following generator cannot be translated as a generator comprehension.\n",
    "\n",
    "def and_total_gen(gen):\n",
    "    total = 0\n",
    "    for i in gen:\n",
    "        yield i\n",
    "        total += i\n",
    "        yield total"
   ]
  },
  {
   "cell_type": "markdown",
   "metadata": {},
   "source": [
    "## Time complexity\n",
    "\n",
    "Becuase they don't have to construct an entire list, iterators are much faster. Generator comprehensions will be faster than list comprehensions. They are also much more memory efficient (typically `O(1)` rather than `O(n)`)."
   ]
  },
  {
   "cell_type": "code",
   "execution_count": null,
   "metadata": {
    "collapsed": false
   },
   "outputs": [],
   "source": [
    "%%timeit -n3\n",
    "\n",
    "gen1 = xrange(int(1e6))\n",
    "gen2 = (j for i in gen1 for j in (i, i+1))\n",
    "sum(gen2)"
   ]
  },
  {
   "cell_type": "code",
   "execution_count": null,
   "metadata": {
    "collapsed": false
   },
   "outputs": [],
   "source": [
    "%%timeit -n3\n",
    "\n",
    "list1 = range(int(1e6))\n",
    "list2 = [j for i in list1 for j in (i, i+1)]\n",
    "sum(list2)"
   ]
  },
  {
   "cell_type": "markdown",
   "metadata": {},
   "source": [
    "## Itertools in Python\n",
    "\n",
    "Manipulating iterators requires a little more care than before.  For example, `range`, `map`, `filter`, all have their iterator equivalents for `xrange`, `imap`, `ifilter`."
   ]
  },
  {
   "cell_type": "code",
   "execution_count": null,
   "metadata": {
    "collapsed": false
   },
   "outputs": [],
   "source": [
    "from itertools import count, islice, chain, tee, ifilter, takewhile, dropwhile, combinations\n",
    "\n",
    "print \"slicing count\", list(islice(count(), 10))\n",
    "print \"chaining two iterators\", list(chain(xrange(10), xrange(10)))\n",
    "\n",
    "it = xrange(10)\n",
    "it1, it2 = tee(it, 2)\n",
    "print \"it1\", list(it1)  # why is this dangerous?\n",
    "print \"it2\", list(it2)\n",
    "print \"it1\", list(it1)\n",
    "\n",
    "print \"ifilter\", list(ifilter(lambda x: x < 'C', 'ABCDABCD'))\n",
    "print \"takewhile\", list(takewhile(lambda x: x < 'C', 'ABCDABCD'))\n",
    "print \"dropwhile\", list(dropwhile(lambda x: x < 'C', 'ABCDABCD'))\n",
    "\n",
    "print \"combinations\", list(combinations(xrange(4), 2))"
   ]
  },
  {
   "cell_type": "code",
   "execution_count": null,
   "metadata": {
    "collapsed": false
   },
   "outputs": [],
   "source": [
    "from itertools import izip\n",
    "\n",
    "it = xrange(10)\n",
    "it1, it2 = tee(it, 2)\n",
    "it2.next()\n",
    "list(izip(it1, it2))"
   ]
  },
  {
   "cell_type": "markdown",
   "metadata": {},
   "source": [
    "### Exercises\n",
    "1. How do you group an iterator pairwise?  That is, `s -> (s0,s1), (s1,s2), (s2, s3), ...`?  This is useful in a time series for monitoring the \"derivative\" with respect to time.  How do you do this for general triple-wise, quadruple-wise etc ...?\n",
    "1. How do you find a powerset?  That is, given an iterator, return all possible subsets?\n",
    "1. Inspect the i-th lookahead value?"
   ]
  },
  {
   "cell_type": "markdown",
   "metadata": {},
   "source": [
    "## Coroutines\n",
    "\n",
    "Coroutines are the \"dual\" of generators.  Generatros return data when called with `.next`.  Coroutines take data sent to them via `.send`.  But there's a **Gotcha**: you need to call `.send(None)` to start the coroutine:"
   ]
  },
  {
   "cell_type": "code",
   "execution_count": null,
   "metadata": {
    "collapsed": false
   },
   "outputs": [],
   "source": [
    "def grep(pattern):\n",
    "    print \"Looking for %s\" % pattern\n",
    "    while True:\n",
    "        line = yield\n",
    "        if pattern in line:\n",
    "            print line\n",
    "            \n",
    "g = grep(\"Python\")\n",
    "g.send(None)  # must be \"primed\"\n",
    "g.send(\"Python is great!\")\n",
    "g.send(\"Java is OK\")\n",
    "g.send(\"particularly Python generators\")"
   ]
  },
  {
   "cell_type": "markdown",
   "metadata": {},
   "source": [
    "No one can remember to \"prime\" coroutines so let's just write a wrapper to do so `.send(None)`."
   ]
  },
  {
   "cell_type": "code",
   "execution_count": null,
   "metadata": {
    "collapsed": false
   },
   "outputs": [],
   "source": [
    "def coroutine(func):\n",
    "    def start(*args,**kwargs):\n",
    "        cr = func(*args,**kwargs)\n",
    "        cr.send(None)\n",
    "        return cr\n",
    "    return start\n",
    "\n",
    "# syntactic sugar for grep = coroutine(grep)\n",
    "@coroutine\n",
    "def grep(pattern):\n",
    "    print \"Looking for %s\" % pattern\n",
    "    while True:\n",
    "        line = yield\n",
    "        if pattern in line:\n",
    "            print line\n",
    "            \n",
    "g = grep(\"Python\")\n",
    "g.send(\"Python is great!\")\n",
    "g.send(\"particularly Python generators\")"
   ]
  },
  {
   "cell_type": "code",
   "execution_count": null,
   "metadata": {
    "collapsed": false
   },
   "outputs": [],
   "source": [
    "@coroutine\n",
    "def print_cr():\n",
    "    try:\n",
    "        while True:\n",
    "            x = yield\n",
    "            print x\n",
    "    except GeneratorExit:\n",
    "        print \"Done\"\n",
    "\n",
    "x = print_cr()\n",
    "x.send(1)\n",
    "x.send(2)\n",
    "x.close()"
   ]
  },
  {
   "cell_type": "markdown",
   "metadata": {},
   "source": [
    "## Coroutine \"pipelines\"\n",
    "\n",
    "This is the same pipeline as before, except that instead of \"pulling\" values from the previous generator via `.next`, it \"pushes\" values to the next generator via `.send`.\n",
    "\n",
    "```\n",
    "source -> and_plus_one_cr -> sum_cr\n",
    "```\n",
    "\n",
    "The 3 steps are:\n",
    "\n",
    "1. **Source:** pushes values using `send`.\n",
    "2. **Intermediate Step:** both requests values using `yield` and pushes them using `send`\n",
    "3. **Sink:** pulls values using `yield` and prints them out."
   ]
  },
  {
   "cell_type": "code",
   "execution_count": null,
   "metadata": {
    "collapsed": false
   },
   "outputs": [],
   "source": [
    "def source_cr(n, cr):\n",
    "    for i in xrange(n):\n",
    "        cr.send(i)\n",
    "    cr.close()\n",
    "        \n",
    "@coroutine\n",
    "def and_plus_one_cr(cr):\n",
    "    try:\n",
    "        while True:\n",
    "            i = yield\n",
    "            cr.send(i)\n",
    "            cr.send(i+1)\n",
    "    except GeneratorExit:\n",
    "        cr.close()\n",
    "        \n",
    "@coroutine\n",
    "def sum_cr():\n",
    "    total = 0\n",
    "    try:\n",
    "        while True:\n",
    "            total += yield\n",
    "    except GeneratorExit:\n",
    "        print total\n",
    "\n",
    "cr1 = sum_cr()\n",
    "cr2 = and_plus_one_cr(cr1)\n",
    "source_cr(10, cr2)"
   ]
  },
  {
   "cell_type": "markdown",
   "metadata": {},
   "source": [
    "## Broadcasting\n",
    "\n",
    "With coroutines, we want to broadcast data to multiple sources.  For example, let's say we want to print numbers that are odd and divisible by 5.  Let's write a simple coroutine to do this.  The architecture is as follows\n",
    "\n",
    "```\n",
    "source -> broadcast() ---> divisible_cr(5) -> print_cr()\n",
    "                      \\\n",
    "                        -> divisible_cr(2) -> print_cr()\n",
    "```\n",
    "\n",
    "**Exercise:** how would you create this architecture?\n",
    "\n",
    "```\n",
    "source -> broadcast() ---> divisible_cr(5) --+--> print_cr()\n",
    "                      \\                     /\n",
    "                        -> divisible_cr(2) -\n",
    "```\n",
    "\n",
    "\"Pushing\" data using coroutines allows you to build more complex data pipelines than \"pulling\" data."
   ]
  },
  {
   "cell_type": "code",
   "execution_count": null,
   "metadata": {
    "collapsed": false
   },
   "outputs": [],
   "source": [
    "def source(n, cr):\n",
    "    for i in xrange(n):\n",
    "        cr.send(i)\n",
    "\n",
    "@coroutine\n",
    "def broadcast(*crs):\n",
    "    while True:\n",
    "        i = yield\n",
    "        for cr in crs:\n",
    "            cr.send(i)\n",
    "    \n",
    "@coroutine\n",
    "def divisible_cr(n, cr):\n",
    "    while True:\n",
    "        i = yield\n",
    "        if (i % n) == 0:\n",
    "            cr.send(i)\n",
    "         \n",
    "@coroutine\n",
    "def print_cr():\n",
    "    while True:\n",
    "        print (yield)\n",
    "    \n",
    "source(10,\n",
    "    broadcast(\n",
    "        divisible_cr(5, print_cr()),\n",
    "        divisible_cr(2, print_cr()),\n",
    "    )\n",
    ")"
   ]
  },
  {
   "cell_type": "markdown",
   "metadata": {},
   "source": [
    "## Coroutines as classes\n",
    "\n",
    "For example, they can often replace classes.  It's many fewer lines of code because the constructor and destructor code is grouped together."
   ]
  },
  {
   "cell_type": "code",
   "execution_count": null,
   "metadata": {
    "collapsed": false
   },
   "outputs": [],
   "source": [
    "import datetime\n",
    "import numpy as np\n",
    "\n",
    "class Timer1:\n",
    "    def __init__(self):\n",
    "        pass\n",
    "\n",
    "    def __enter__(self):\n",
    "        self.t1 = datetime.datetime.now()\n",
    "\n",
    "    def __exit__(self, exc_type, exc_value, traceback):\n",
    "        # may also get error handling if an error occured\n",
    "        self.t2 = datetime.datetime.now()\n",
    "        print \"Seconds elapsed: {}\\n\".format((self.t2 - self.t1).total_seconds())\n",
    "            \n",
    "with Timer1():\n",
    "    x = np.arange(1000)\n",
    "    x + x"
   ]
  },
  {
   "cell_type": "code",
   "execution_count": null,
   "metadata": {
    "collapsed": false
   },
   "outputs": [],
   "source": [
    "from contextlib import contextmanager\n",
    "import datetime\n",
    "import numpy as np\n",
    "\n",
    "@contextmanager\n",
    "def Timer2():\n",
    "    t1 = datetime.datetime.now()\n",
    "    yield\n",
    "    t2 = datetime.datetime.now()\n",
    "    print \"Seconds elapsed: {}\\n\".format((t2 - t1).total_seconds())\n",
    "    \n",
    "with Timer2():\n",
    "    x = np.arange(1000)\n",
    "    x + x"
   ]
  },
  {
   "cell_type": "markdown",
   "metadata": {},
   "source": [
    "**Exercise:** implement the decorator `contextmanager` using function decorators, a `class` that implements `__enter__` and `__exit__` and coroutines."
   ]
  },
  {
   "cell_type": "markdown",
   "metadata": {},
   "source": [
    "### A nifty example of a stats coroutine\n",
    "\n",
    "We can also pass values to and get values from coroutines.  The `stats_cr` below computes the mean and standard deviation of the values sent to it."
   ]
  },
  {
   "cell_type": "code",
   "execution_count": null,
   "metadata": {
    "collapsed": false
   },
   "outputs": [],
   "source": [
    "import math\n",
    "\n",
    "@coroutine\n",
    "def stats_cr():\n",
    "    m0 = 0\n",
    "    m1 = 0.\n",
    "    m2 = 0.\n",
    "    while True:\n",
    "        if m0 > 0:\n",
    "            x = yield (m1 / m0), math.sqrt(m2 / m0 - (m1 / m0) * (m1 / m0))\n",
    "        else:\n",
    "            x = yield None, None\n",
    "        m0 += 1\n",
    "        m1 += x\n",
    "        m2 += x * x\n",
    "        \n",
    "scr=stats_cr()\n",
    "print scr.send(1)\n",
    "print scr.send(2)\n",
    "print scr.send(3)"
   ]
  },
  {
   "cell_type": "markdown",
   "metadata": {},
   "source": [
    "*Copyright &copy; 2015 The Data Incubator.  All rights reserved.*"
   ]
  }
 ],
 "metadata": {
  "kernelspec": {
   "display_name": "Python 2",
   "language": "python",
   "name": "python2"
  },
  "language_info": {
   "codemirror_mode": {
    "name": "ipython",
    "version": 2
   },
   "file_extension": ".py",
   "mimetype": "text/x-python",
   "name": "python",
   "nbconvert_exporter": "python",
   "pygments_lexer": "ipython2",
   "version": "2.7.8"
  }
 },
 "nbformat": 4,
 "nbformat_minor": 0
}
