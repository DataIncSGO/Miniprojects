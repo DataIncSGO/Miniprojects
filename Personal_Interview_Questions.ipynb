{
 "cells": [
  {
   "cell_type": "code",
   "execution_count": null,
   "metadata": {
    "collapsed": true
   },
   "outputs": [],
   "source": [
    "%matplotlib inline\n",
    "import matplotlib\n",
    "import seaborn as sns\n",
    "matplotlib.rcParams['savefig.dpi'] = 2 * matplotlib.rcParams['savefig.dpi']"
   ]
  },
  {
   "cell_type": "markdown",
   "metadata": {},
   "source": [
    "### Format:\n",
    "1. What do you think employers are looking for when they ask this question?\n",
    "2. Give a sample answer.\n",
    "\n",
    "### Personal Qualities:\n",
    "1. Tell me about yourself.\n",
    "9. What was your PhD research about?\n",
    "    - Don't talk about your research\n",
    "    - Communicating complex ideas clearly\n",
    "1. Why do you want to leave?\n",
    "8. Tell me about your weaknesses.\n",
    "\n",
    "### Fit for a Role:\n",
    "11. Why is this job/company/role) a good fit for you?\n",
    "    - Show passion for the company\n",
    "    - What specific skill sets can you deliver?\n",
    "7. Why should I hire you?\n",
    "11. What are you looking for in your next job?\n",
    "10. What are you goals / where do you want to be in [2,5,10] years?\n",
    "\n",
    "### Social Questions:\n",
    "2. Tell me about a time you worked on a team.\n",
    "3. Tell me about a time you worked on a team and experienced conflict.  How did you resolve it?\n",
    "4. Tell me about a time you had to convince someone (or someone with positional authority over you).  What / how?\n",
    "5. Tell me about a time you had to take charge and lead something / someone.\n",
    "6. Tell me about a time you had to accomplish something difficult, and how you did it."
   ]
  },
  {
   "cell_type": "code",
   "execution_count": null,
   "metadata": {
    "collapsed": false
   },
   "outputs": [],
   "source": []
  },
  {
   "cell_type": "markdown",
   "metadata": {},
   "source": [
    "*Copyright &copy; 2015 The Data Incubator.  All rights reserved.*"
   ]
  }
 ],
 "metadata": {
  "kernelspec": {
   "display_name": "Python 2",
   "language": "python",
   "name": "python2"
  },
  "language_info": {
   "codemirror_mode": {
    "name": "ipython",
    "version": 2
   },
   "file_extension": ".py",
   "mimetype": "text/x-python",
   "name": "python",
   "nbconvert_exporter": "python",
   "pygments_lexer": "ipython2",
   "version": "2.7.10"
  }
 },
 "nbformat": 4,
 "nbformat_minor": 0
}
