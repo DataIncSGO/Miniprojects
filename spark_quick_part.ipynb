{
 "cells": [
  {
   "cell_type": "code",
   "execution_count": 1,
   "metadata": {
    "collapsed": false
   },
   "outputs": [],
   "source": [
    "from pyspark import SparkContext #Library\n",
    "sc = SparkContext(\"local[*]\", \"temp\") #Start a spart context\n"
   ]
  },
  {
   "cell_type": "code",
   "execution_count": 2,
   "metadata": {
    "collapsed": false
   },
   "outputs": [
    {
     "name": "stdout",
     "output_type": "stream",
     "text": [
      "MapPartitionsRDD[1] at textFile at NativeMethodAccessorImpl.java:-2\n"
     ]
    },
    {
     "data": {
      "text/plain": [
       "212990"
      ]
     },
     "execution_count": 2,
     "metadata": {},
     "output_type": "execute_result"
    }
   ],
   "source": [
    "posts_lines = sc.textFile(\"file:///home/vagrant/miniprojects/spark/part/allPosts/*.gz\") #create an RDD from file\n",
    "print posts_lines\n",
    "posts_lines.count()\n"
   ]
  },
  {
   "cell_type": "code",
   "execution_count": 3,
   "metadata": {
    "collapsed": true
   },
   "outputs": [],
   "source": [
    "#Import parsing library.\n",
    "import xml.etree.ElementTree as ET\n",
    "import numpy as np\n",
    "from datetime import datetime\n"
   ]
  },
  {
   "cell_type": "code",
   "execution_count": 4,
   "metadata": {
    "collapsed": false
   },
   "outputs": [],
   "source": [
    "def parseQuestion(line):\n",
    "    if '<row' in line:\n",
    "        try:\n",
    "            root = ET.fromstring(line.encode('utf8'))\n",
    "        except:\n",
    "            pass\n",
    "            return (\"Empty\")\n",
    "            \n",
    "        if root != '':\n",
    "            if \"CreationDate\" in root.attrib:\n",
    "                try:\n",
    "                    date = root.attrib[\"CreationDate\"]\n",
    "                except:\n",
    "                    pass\n",
    "                    return (\"Empty\")\n",
    "                if \"AcceptedAnswerId\" in root.attrib:\n",
    "                    return(root.attrib[\"AcceptedAnswerId\"], date)\n",
    "                else:\n",
    "                    return(\"Empty\")\n",
    "            else:\n",
    "                return(\"Empty\")\n",
    "        else:\n",
    "            return(\"Empty\")\n",
    "    else:\n",
    "        return(\"Empty\")\n",
    "            \n",
    "        "
   ]
  },
  {
   "cell_type": "code",
   "execution_count": 5,
   "metadata": {
    "collapsed": false
   },
   "outputs": [
    {
     "name": "stdout",
     "output_type": "stream",
     "text": [
      "PythonRDD[3] at RDD at PythonRDD.scala:43\n",
      "[('105339', '2014-06-04T13:31:24.160'), ('101146', '2014-06-04T14:28:42.040'), ('101185', '2014-06-04T15:00:58.427'), ('101194', '2014-06-04T15:14:33.713'), ('101175', '2014-06-04T16:02:39.143'), ('101163', '2014-06-04T16:15:59.327'), ('101191', '2014-06-04T18:52:46.957'), ('101323', '2014-06-05T01:48:33.763'), ('104912', '2014-06-05T02:53:10.147'), ('101227', '2014-06-05T03:08:06.267'), ('101295', '2014-06-05T04:44:59.133'), ('104597', '2014-06-05T05:53:16.250'), ('101256', '2014-06-05T07:12:05.407'), ('101260', '2014-06-05T09:07:11.243'), ('102644', '2014-06-05T09:25:35.993'), ('101270', '2014-06-05T10:23:00.450'), ('101290', '2014-06-05T10:44:37.823'), ('106333', '2014-06-05T12:33:49.403'), ('101319', '2014-06-05T15:30:57.313'), ('101336', '2014-06-05T16:59:21.787'), ('101519', '2014-06-05T20:36:21.673'), ('101348', '2014-06-05T20:39:36.447'), ('101366', '2014-06-05T21:45:22.947'), ('101379', '2014-06-06T00:46:45.240'), ('115931', '2014-06-06T02:08:02.313'), ('101390', '2014-06-06T02:51:51.677'), ('101441', '2014-06-06T05:22:00.990'), ('101411', '2014-06-06T09:09:38.543'), ('103251', '2014-06-06T13:01:57.547'), ('124929', '2014-06-06T13:39:43.050'), ('101479', '2014-06-06T19:04:23.463'), ('101491', '2014-06-06T20:36:11.690'), ('101475', '2014-06-06T20:38:46.640'), ('101487', '2014-06-07T00:01:24.713'), ('101556', '2014-06-07T10:52:54.120'), ('101516', '2014-06-07T11:47:45.737'), ('101530', '2014-06-07T13:03:30.517'), ('101527', '2014-06-07T11:58:13.620'), ('101559', '2014-06-08T03:50:07.117'), ('101567', '2014-06-08T08:47:20.593')]\n"
     ]
    },
    {
     "data": {
      "text/plain": [
       "17304"
      ]
     },
     "execution_count": 5,
     "metadata": {},
     "output_type": "execute_result"
    }
   ],
   "source": [
    "questions = posts_lines.map(parseQuestion).filter(lambda x: x!= 'Empty')\n",
    "print questions\n",
    "print questions.take(40)\n",
    "questions.count()\n"
   ]
  },
  {
   "cell_type": "code",
   "execution_count": 6,
   "metadata": {
    "collapsed": true
   },
   "outputs": [],
   "source": [
    "def parseAnswer(line):\n",
    "    if '<row' in line:\n",
    "        try:\n",
    "            root = ET.fromstring(line.encode('utf8'))\n",
    "        except:\n",
    "            pass\n",
    "            return (\"Empty\")\n",
    "            \n",
    "        if root != '':\n",
    "            if \"CreationDate\" in root.attrib:\n",
    "                try:\n",
    "                    date = root.attrib[\"CreationDate\"]\n",
    "                except:\n",
    "                    pass\n",
    "                    return (\"Empty\")\n",
    "                if \"AcceptedAnswerId\" not in root.attrib:\n",
    "                    return(root.attrib[\"Id\"], date)\n",
    "                else:\n",
    "                    return(\"Empty\")\n",
    "            else:\n",
    "                return(\"Empty\")\n",
    "        else:\n",
    "            return(\"Empty\")\n",
    "    else:\n",
    "        return(\"Empty\")\n",
    "            \n",
    "        "
   ]
  },
  {
   "cell_type": "code",
   "execution_count": 7,
   "metadata": {
    "collapsed": false
   },
   "outputs": [
    {
     "name": "stdout",
     "output_type": "stream",
     "text": [
      "PythonRDD[6] at RDD at PythonRDD.scala:43\n",
      "[('101120', '2014-06-04T13:18:18.120'), ('101123', '2014-06-04T13:43:15.913'), ('101124', '2014-06-04T13:57:07.657'), ('101126', '2014-06-04T14:14:48.753'), ('101127', '2014-06-04T14:19:20.430'), ('101128', '2014-06-04T14:25:45.873'), ('101130', '2014-06-04T14:30:15.493'), ('101131', '2014-06-04T14:35:08.560'), ('101132', '2014-06-04T14:35:51.100'), ('101133', '2014-06-04T14:41:11.140'), ('101134', '2014-06-04T14:48:17.310'), ('101138', '2014-06-04T15:07:20.207'), ('101139', '2014-06-04T15:07:48.407'), ('101140', '2014-06-04T15:07:55.817'), ('101143', '2014-06-04T15:13:20.170'), ('101145', '2014-06-04T15:24:10.153'), ('101146', '2014-06-04T15:24:18.320'), ('101147', '2014-06-04T15:31:46.327'), ('101148', '2014-06-04T15:33:09.367'), ('101149', '2014-06-04T15:34:04.377'), ('101150', '2014-06-04T15:41:41.950'), ('101151', '2014-06-04T15:46:59.423'), ('101152', '2014-06-04T15:52:04.677'), ('101155', '2014-06-04T16:09:49.117'), ('101156', '2014-06-04T16:11:04.753'), ('101157', '2014-06-04T16:13:26.047'), ('101158', '2014-06-04T16:14:48.863'), ('101161', '2014-06-04T16:23:41.037'), ('101162', '2014-06-04T16:30:43.113'), ('101163', '2014-06-04T16:43:24.850'), ('101165', '2014-06-04T16:53:05.373'), ('101166', '2014-06-04T17:02:48.493'), ('101169', '2014-06-04T17:21:52.157'), ('101170', '2014-06-04T17:25:40.857'), ('101171', '2014-06-04T17:32:24.797'), ('101173', '2014-06-04T17:48:17.387'), ('101174', '2014-06-04T18:14:10.497'), ('101175', '2014-06-04T18:14:34.920'), ('101176', '2014-06-04T18:29:36.870'), ('101177', '2014-06-04T18:33:06.860')]\n"
     ]
    },
    {
     "data": {
      "text/plain": [
       "91437"
      ]
     },
     "execution_count": 7,
     "metadata": {},
     "output_type": "execute_result"
    }
   ],
   "source": [
    "answers = posts_lines.map(parseAnswer).filter(lambda x: x!= 'Empty')\n",
    "print answers\n",
    "print answers.take(40)\n",
    "answers.count()\n"
   ]
  },
  {
   "cell_type": "code",
   "execution_count": 19,
   "metadata": {
    "collapsed": true
   },
   "outputs": [],
   "source": [
    "from datetime import datetime\n",
    "import time\n",
    "\n",
    "def dateConversion (date1, date2):  \n",
    "    date1_obj = dat etime.strptime(date1, \"%Y-%m-%dT%H:%M:%S.%f\")\n",
    "    date2_obj = datetime.strptime(date2, \"%Y-%m-%dT%H:%M:%S.%f\")\n",
    "    diff = date2_obj - date1_obj\n",
    "    diff_sec = diff.total_seconds()\n",
    "    hour = date1_obj.hour\n",
    "    if diff_sec < 10800:\n",
    "        return(hour, (1.,1.))\n",
    "    else:\n",
    "        return(hour, (0.,1.))\n",
    "  \n",
    "    "
   ]
  },
  {
   "cell_type": "code",
   "execution_count": 20,
   "metadata": {
    "collapsed": false
   },
   "outputs": [
    {
     "name": "stdout",
     "output_type": "stream",
     "text": [
      "[0.45046728971962618, 0.44814814814814813, 0.3605577689243028, 0.37991266375545851, 0.40284360189573459, 0.41249999999999998, 0.45974025974025973, 0.4673684210526316, 0.46168224299065419, 0.49528301886792453, 0.51575931232091687, 0.54456824512534818, 0.53473132372214938, 0.53107960741548532, 0.52380952380952384, 0.53680078508341511, 0.54757281553398063, 0.47995991983967934, 0.52021857923497272, 0.5462012320328542, 0.51964085297418627, 0.51567944250871078, 0.46153846153846156, 0.47004608294930877]\n"
     ]
    }
   ],
   "source": [
    "joint = questions.join(answers).map(lambda x: x[1]).map(lambda x: dateConversion(x[0],x[1])) \\\n",
    "         .reduceByKey(lambda x,y: np.add(x,y)).map(lambda x: (x[0],x[1][0]/x[1][1]))\\\n",
    "        .sortByKey().map(lambda x: x[1]).collect()\n",
    "print joint[:25]"
   ]
  },
  {
   "cell_type": "code",
   "execution_count": null,
   "metadata": {
    "collapsed": true
   },
   "outputs": [],
   "source": [
    "check = questions.join(answers).map(lambda x: x[1]).map(lambda x: dateConversion(x[0],x[1])) \\\n",
    "         .reduceByKey(lambda x,y: np.add(x,y)).collect()\n",
    "print check[:2]"
   ]
  },
  {
   "cell_type": "code",
   "execution_count": 61,
   "metadata": {
    "collapsed": false
   },
   "outputs": [
    {
     "name": "stdout",
     "output_type": "stream",
     "text": [
      "2013-06-10 13:43:24.690000 2013-06-12 05:26:54.733000\n",
      "<type 'datetime.timedelta'>\n",
      "143010.043\n",
      "13\n"
     ]
    }
   ],
   "source": [
    "from datetime import datetime\n",
    "import time\n",
    "date1 = datetime.strptime('2013-06-10T13:43:24.690', \"%Y-%m-%dT%H:%M:%S.%f\")\n",
    "date2 = datetime.strptime('2013-06-12T05:26:54.733', \"%Y-%m-%dT%H:%M:%S.%f\")\n",
    "print date1, date2\n",
    "diff = date2-date1\n",
    "print type(diff)\n",
    "print diff.total_seconds()\n",
    "print date1.hour\n",
    "\n",
    "   \n",
    "    "
   ]
  }
 ],
 "metadata": {
  "kernelspec": {
   "display_name": "Python 2",
   "language": "python",
   "name": "python2"
  },
  "language_info": {
   "codemirror_mode": {
    "name": "ipython",
    "version": 2
   },
   "file_extension": ".py",
   "mimetype": "text/x-python",
   "name": "python",
   "nbconvert_exporter": "python",
   "pygments_lexer": "ipython2",
   "version": "2.7.10"
  }
 },
 "nbformat": 4,
 "nbformat_minor": 0
}
