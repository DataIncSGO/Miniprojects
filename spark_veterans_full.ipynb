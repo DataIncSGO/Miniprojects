{
 "cells": [
  {
   "cell_type": "code",
   "execution_count": 1,
   "metadata": {
    "collapsed": false
   },
   "outputs": [],
   "source": [
    "from pyspark import SparkContext #Library\n",
    "sc = SparkContext(\"local[*]\", \"temp\") #Start a spart context\n"
   ]
  },
  {
   "cell_type": "code",
   "execution_count": 2,
   "metadata": {
    "collapsed": false
   },
   "outputs": [
    {
     "name": "stdout",
     "output_type": "stream",
     "text": [
      "MapPartitionsRDD[1] at textFile at NativeMethodAccessorImpl.java:-2\n"
     ]
    },
    {
     "data": {
      "text/plain": [
       "47946654"
      ]
     },
     "execution_count": 2,
     "metadata": {},
     "output_type": "execute_result"
    }
   ],
   "source": [
    "posts_lines = sc.textFile(\"file:///home/vagrant/miniprojects/spark/full/allPosts/*.gz\") #create an RDD from file\n",
    "print posts_lines\n",
    "posts_lines.count()\n"
   ]
  },
  {
   "cell_type": "code",
   "execution_count": 3,
   "metadata": {
    "collapsed": false
   },
   "outputs": [
    {
     "name": "stdout",
     "output_type": "stream",
     "text": [
      "MapPartitionsRDD[4] at textFile at NativeMethodAccessorImpl.java:-2\n"
     ]
    },
    {
     "data": {
      "text/plain": [
       "7978096"
      ]
     },
     "execution_count": 3,
     "metadata": {},
     "output_type": "execute_result"
    }
   ],
   "source": [
    "users_lines = sc.textFile(\"file:///home/vagrant/miniprojects/spark/full/allUsers/*.gz\")\n",
    "print users_lines\n",
    "users_lines.count()"
   ]
  },
  {
   "cell_type": "code",
   "execution_count": 4,
   "metadata": {
    "collapsed": true
   },
   "outputs": [],
   "source": [
    "#Import parsing library.\n",
    "import xml.etree.ElementTree as ET\n",
    "import numpy as np\n",
    "from datetime import datetime\n",
    "import time\n"
   ]
  },
  {
   "cell_type": "code",
   "execution_count": 5,
   "metadata": {
    "collapsed": true
   },
   "outputs": [],
   "source": [
    "def parseUser(line):\n",
    "    if '<row' in line:\n",
    "        try:\n",
    "            root = ET.fromstring(line.encode('utf8'))\n",
    "        except:\n",
    "            pass\n",
    "            return (\"Empty\")\n",
    "            \n",
    "        if root != '':\n",
    "            if \"Id\" and \"CreationDate\" in root.attrib:\n",
    "                return(root.attrib[\"Id\"], root.attrib[\"CreationDate\"])\n",
    "            else:\n",
    "                return(\"Empty\")\n",
    "        else:\n",
    "            return(\"Empty\")\n",
    "    else:\n",
    "        return(\"Empty\")\n",
    "            "
   ]
  },
  {
   "cell_type": "code",
   "execution_count": 6,
   "metadata": {
    "collapsed": false
   },
   "outputs": [
    {
     "name": "stdout",
     "output_type": "stream",
     "text": [
      "4016017\n",
      "[('2629093', '2013-07-29T06:01:42.410'), ('2629094', '2013-07-29T06:02:00.537'), ('2629095', '2013-07-29T06:02:44.543'), ('2629096', '2013-07-29T06:04:16.690'), ('2629097', '2013-07-29T06:04:34.343'), ('2629098', '2013-07-29T06:04:58.327'), ('2629099', '2013-07-29T06:05:24.410'), ('2629100', '2013-07-29T06:05:31.910'), ('2629101', '2013-07-29T06:05:33.473'), ('2629102', '2013-07-29T06:05:49.413'), ('2629103', '2013-07-29T06:05:53.743'), ('2629104', '2013-07-29T06:06:35.443'), ('2629105', '2013-07-29T06:07:18.887'), ('2629106', '2013-07-29T06:07:30.703'), ('2629107', '2013-07-29T06:08:50.893'), ('2629108', '2013-07-29T06:08:55.783'), ('2629109', '2013-07-29T06:09:10.367'), ('2629110', '2013-07-29T06:09:39.023'), ('2629111', '2013-07-29T06:09:45.837'), ('2629112', '2013-07-29T06:09:47.430')]\n"
     ]
    }
   ],
   "source": [
    "users = users_lines.map(parseUser).filter(lambda x: x!= 'Empty')\n",
    "print users.count()\n",
    "print users.take(20)"
   ]
  },
  {
   "cell_type": "code",
   "execution_count": 7,
   "metadata": {
    "collapsed": false
   },
   "outputs": [],
   "source": [
    "def parsePost(line):\n",
    "    if '<row' in line:\n",
    "        try:\n",
    "            root = ET.fromstring(line.encode('utf8'))\n",
    "        except:\n",
    "            pass\n",
    "            return (\"Empty\")            \n",
    "        if root != '':\n",
    "            if \"CreationDate\" in root.attrib:\n",
    "                try:\n",
    "                    return (root.attrib[\"OwnerUserId\"], root.attrib[\"CreationDate\"])\n",
    "                except:\n",
    "                    pass\n",
    "                    return (\"Empty\")\n",
    "            else:\n",
    "                return(\"Empty\")\n",
    "        else:\n",
    "            return(\"Empty\")\n",
    "    else:\n",
    "        return(\"Empty\")\n",
    "            \n",
    "        "
   ]
  },
  {
   "cell_type": "code",
   "execution_count": 8,
   "metadata": {
    "collapsed": false
   },
   "outputs": [
    {
     "name": "stdout",
     "output_type": "stream",
     "text": [
      "PythonRDD[8] at RDD at PythonRDD.scala:43\n",
      "[('2433934', '2014-04-22T06:15:07.070'), ('1692695', '2014-04-22T06:15:07.190'), ('2655465', '2014-04-22T06:15:33.113'), ('3189313', '2014-04-22T06:15:37.650'), ('3330929', '2014-04-22T06:15:46.763'), ('3557296', '2014-04-22T06:15:59.837'), ('692977', '2014-04-22T06:16:00.200'), ('3557098', '2014-04-22T06:16:03.460'), ('2616474', '2014-04-22T06:16:04.017'), ('2020444', '2014-04-22T06:16:05.267'), ('133802', '2014-04-22T06:16:11.333'), ('418864', '2014-04-22T06:16:11.633'), ('2846794', '2014-04-22T06:16:12.743'), ('1915323', '2014-04-22T06:16:12.957'), ('2541124', '2014-04-22T06:16:15.587'), ('1060208', '2014-04-22T06:16:19.550'), ('2156712', '2014-04-22T06:16:20.430'), ('2504224', '2014-04-22T06:16:21.340'), ('1446916', '2014-04-22T06:16:22.707'), ('3319147', '2014-04-22T06:16:26.467')]\n"
     ]
    },
    {
     "data": {
      "text/plain": [
       "23875001"
      ]
     },
     "execution_count": 8,
     "metadata": {},
     "output_type": "execute_result"
    }
   ],
   "source": [
    "posts = posts_lines.map(parsePost).filter(lambda x: x!= 'Empty')\n",
    "print posts\n",
    "print posts.take(20)\n",
    "posts.count()\n"
   ]
  },
  {
   "cell_type": "code",
   "execution_count": 9,
   "metadata": {
    "collapsed": false
   },
   "outputs": [],
   "source": [
    "def parseQuestion(line):\n",
    "    if '<row'in line:\n",
    "        try:\n",
    "            root = ET.fromstring(line.encode('utf8').strip())\n",
    "        except:\n",
    "            pass\n",
    "            return (\"Empty\")\n",
    "            \n",
    "        if root != '':\n",
    "            if \"OwnerUserId\" in root.attrib:\n",
    "                p_type = root.attrib[\"PostTypeId\"]\n",
    "                owner = root.attrib[\"OwnerUserId\"]\n",
    "                if p_type == '1':\n",
    "                    score = float(root.attrib[\"Score\"])\n",
    "                    views = float(root.attrib[\"ViewCount\"])\n",
    "                    answers = float(root.attrib[\"AnswerCount\"])\n",
    "                    create_date = root.attrib[\"CreationDate\"] \n",
    "                    favs = 0.\n",
    "                    try:\n",
    "                        favs = float(root.attrib[\"FavoriteCount\"])\n",
    "                    except:\n",
    "                        pass\n",
    "\n",
    "                    return(owner, [create_date, score, views, answers, favs])\n",
    "                else:\n",
    "                    return(\"Empty\")\n",
    "            else:\n",
    "                return(\"Empty\")\n",
    "        else:\n",
    "            return(\"Empty\")\n",
    "    else:\n",
    "        return(\"Empty\")\n",
    "            \n",
    "        "
   ]
  },
  {
   "cell_type": "code",
   "execution_count": 10,
   "metadata": {
    "collapsed": false
   },
   "outputs": [
    {
     "name": "stdout",
     "output_type": "stream",
     "text": [
      "1664063\n",
      "[('400303', [0.0, 861.0, 1.0, 0.0]), ('3233915', [0.0, 63.0, 1.0, 0.0]), ('1394056', [1.0, 12115.0, 3.0, 0.0]), ('1988847', [1.0, 1832.0, 1.0, 0.0]), ('3382688', [1.0, 195.0, 1.0, 0.0]), ('4022777', [-2.0, 28.0, 2.0, 0.0]), ('4227558', [0.0, 16.0, 1.0, 0.0]), ('656672', [3.0, 450.0, 1.0, 0.0]), ('382512', [5.0, 13683.0, 3.0, 0.0]), ('2811225', [0.0, 679.0, 1.0, 0.0]), ('4140206', [0.0, 213.0, 1.0, 0.0]), ('2925687', [1.0, 131.0, 5.0, 0.0]), ('2140507', [0.0, 313.0, 4.0, 0.0]), ('2774785', [0.0, 112.0, 1.0, 0.0]), ('3776714', [1.0, 47.0, 1.0, 0.0]), ('3637553', [0.0, 223.0, 1.0, 0.0]), ('2567188', [1.0, 332.0, 4.0, 0.0]), ('4114752', [-2.0, 68.0, 2.0, 0.0]), ('1982978', [2.0, 306.0, 1.0, 0.0]), ('3336989', [1.0, 158.0, 1.0, 0.0])]\n"
     ]
    }
   ],
   "source": [
    "questions = posts_lines.map(parseQuestion).filter(lambda x: x!= \"Empty\")\\\n",
    "            .reduceByKey(min).map(lambda x: (x[0],x[1][1:]))\n",
    "print questions.count()\n",
    "print questions.take(20)"
   ]
  },
  {
   "cell_type": "code",
   "execution_count": 11,
   "metadata": {
    "collapsed": true
   },
   "outputs": [],
   "source": [
    "from datetime import datetime\n",
    "import time\n",
    "\n",
    "def dateConversion (date1, date2):  \n",
    "    date1_obj = datetime.strptime(date1, \"%Y-%m-%dT%H:%M:%S.%f\")\n",
    "    date2_obj = datetime.strptime(date2, \"%Y-%m-%dT%H:%M:%S.%f\")\n",
    "    diff = date2_obj - date1_obj\n",
    "    diff_sec = diff.total_seconds()\n",
    "    if diff_sec > 8640000 and diff_sec < 12960000:\n",
    "        return 1\n",
    "    else:\n",
    "        return 0\n",
    "  "
   ]
  },
  {
   "cell_type": "code",
   "execution_count": 12,
   "metadata": {
    "collapsed": true
   },
   "outputs": [],
   "source": [
    "def transform(x):\n",
    "    if x[1]>=1:\n",
    "        vet =1\n",
    "    else:\n",
    "        vet = 0\n",
    "    return (x[0],vet)"
   ]
  },
  {
   "cell_type": "code",
   "execution_count": 13,
   "metadata": {
    "collapsed": false
   },
   "outputs": [
    {
     "name": "stdout",
     "output_type": "stream",
     "text": [
      "2134402\n",
      "[('4244030', 0), ('3572161', 0), ('2366235', 0), ('3081058', 0), ('4517024', 0), ('226394', 0), ('3415433', 0), ('2067486', 0), ('2089439', 0), ('4533468', 0), ('4245037', 0), ('3172408', 1), ('49114', 0), ('2277308', 0), ('945718', 0), ('3808011', 0), ('2279515', 0), ('2171253', 0), ('1025276', 0), ('2528105', 1), ('3023252', 0), ('3271310', 0), ('2062661', 0), ('3433536', 0), ('2052956', 0), ('1096793', 0), ('472777', 0), ('904209', 0), ('3358938', 0), ('1834308', 0), ('1518873', 0), ('1554668', 1), ('2430620', 1), ('4569777', 0), ('3551380', 0), ('4546220', 0), ('794996', 1), ('2742088', 0), ('2005020', 0), ('3927882', 0)]\n"
     ]
    }
   ],
   "source": [
    "joint = users.join(posts).map(lambda x: (x[0], dateConversion(x[1][0], x[1][1])))\\\n",
    "        .reduceByKey(lambda x,y: x+y).map(transform)\n",
    "print joint.count()\n",
    "print joint.take(40)"
   ]
  },
  {
   "cell_type": "code",
   "execution_count": 14,
   "metadata": {
    "collapsed": false
   },
   "outputs": [
    {
     "name": "stdout",
     "output_type": "stream",
     "text": [
      "2\n",
      "[(0, [1.1307456144103445, 1096.1519220732553, 1.5038565525030159, 0.38617644458514078]), (1, [2.2598437331442924, 1844.0344896669696, 1.8426197044183144, 0.86731572377444555])]\n"
     ]
    }
   ],
   "source": [
    "veterans = joint.join(questions).map(lambda x: (x[1][0], x[1][1]+[1]))\\\n",
    "            .reduceByKey(lambda x,y: np.add(x,y))\\\n",
    "            .map(lambda x: (x[0], [x[1][0]/x[1][4], x[1][1]/x[1][4], x[1][2]/x[1][4], x[1][3]/x[1][4]]))\n",
    "print veterans.count()\n",
    "print veterans.take(40)"
   ]
  },
  {
   "cell_type": "code",
   "execution_count": null,
   "metadata": {
    "collapsed": true
   },
   "outputs": [],
   "source": []
  }
 ],
 "metadata": {
  "kernelspec": {
   "display_name": "Python 2",
   "language": "python",
   "name": "python2"
  },
  "language_info": {
   "codemirror_mode": {
    "name": "ipython",
    "version": 2
   },
   "file_extension": ".py",
   "mimetype": "text/x-python",
   "name": "python",
   "nbconvert_exporter": "python",
   "pygments_lexer": "ipython2",
   "version": "2.7.10"
  }
 },
 "nbformat": 4,
 "nbformat_minor": 0
}
